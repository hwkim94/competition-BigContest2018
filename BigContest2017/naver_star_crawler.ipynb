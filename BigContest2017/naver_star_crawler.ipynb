{
 "cells": [
  {
   "cell_type": "markdown",
   "metadata": {
    "collapsed": true
   },
   "source": [
    "# 크롤링 준비"
   ]
  },
  {
   "cell_type": "code",
   "execution_count": null,
   "metadata": {},
   "outputs": [],
   "source": [
    "try :\n",
    "    import requests\n",
    "except :\n",
    "    !pip install requests\n",
    "    import requests\n",
    "\n",
    "try :\n",
    "    from bs4 import BeautifulSoup\n",
    "except :\n",
    "    !pip install bs4\n",
    "    from bs4 import BeautifulSoup\n",
    "    \n",
    "import pandas as pd\n",
    "from urllib.request import urlopen\n",
    "import re\n",
    "from selenium import webdriver\n",
    "import datetime"
   ]
  },
  {
   "cell_type": "code",
   "execution_count": null,
   "metadata": {},
   "outputs": [],
   "source": [
    "def getCode(URL) :\n",
    "    code_regex = '/movie/bi/mi/basic.nhn\\?code=[0-9]+'\n",
    "    \n",
    "    code_url = re.search(code_regex, str(URL)).group()\n",
    "    code = re.search('[0-9]+', code_url).group()\n",
    "    \n",
    "    return code\n",
    "\n",
    "def getDirector(URL) : \n",
    "    direc_regex = direc_regex = \"감독 : (.*?</a>)\"\n",
    "    \n",
    "    direc_url = re.search(direc_regex, str(URL)).group(1)\n",
    "    direc = re.search('>(.*)<', direc_url).group(1)\n",
    "    \n",
    "    return direc\n",
    "\n",
    "def getDate(URL) : \n",
    "    date_regex = \"year=([0-9]{4})\"\n",
    "    \n",
    "    date = re.search(date_regex, str(URL)).group(1)\n",
    "    \n",
    "    return date\n",
    "\n",
    "def getRuntime(URL) : \n",
    "    time_regex = \"</span>([0-9]*)분\"\n",
    "    \n",
    "    time = re.search(time_regex, str(URL)).group(1)\n",
    "    \n",
    "    return time\n",
    "\n",
    "    \n",
    "\n",
    "    "
   ]
  },
  {
   "cell_type": "markdown",
   "metadata": {
    "collapsed": true
   },
   "source": [
    " "
   ]
  },
  {
   "cell_type": "markdown",
   "metadata": {},
   "source": [
    "   "
   ]
  },
  {
   "cell_type": "markdown",
   "metadata": {},
   "source": [
    "  "
   ]
  },
  {
   "cell_type": "code",
   "execution_count": null,
   "metadata": {},
   "outputs": [],
   "source": [
    "#네이버 영화 코드 가져오는 query 보내기\n",
    "#주소 뒤에 '?'부터는 쿼리를 의미함\n",
    "#원래 주소 : http://movie.naver.com/movie/search/result.nhn?query=%EB%AA%85%EB%9F%89&section=all&ie=utf8\n",
    "name = \"명량\"\n",
    "req = requests.get('http://movie.naver.com/movie/search/result.nhn',params= {'query': name, \"section\" : \"movie\", \"sort\" : \"2\", \"ie\" : \"utf8\"})\n",
    "html = req.text\n",
    "soup = BeautifulSoup(html, 'html.parser')\n",
    "\n",
    "movie_lst = soup.select('body > div#wrap > div#container > div#content > div.article > div.old_layout > div#cbody > div#old_content > ul.search_list_1 > li > dl')\n",
    "#soup.select('body > div#wrap > div#container > div#content > div.article > div.old_layout > div#cbody > div#old_content > ul.search_list_1 > li > dl > dt > a')\n",
    "#soup.select('body > div#wrap > div#container > div#content > div.article > div.old_layout > div#cbody > div#old_content > ul.search_list_1 > li > dl > dd.etc > a')\n",
    "\n",
    "movie_html = movie_lst[1]\n",
    "\n",
    "print(getCode(movie_html))\n",
    "print(getDate(movie_html))\n",
    "print(getDirector(movie_html))\n",
    "print(getRuntime(movie_html))"
   ]
  },
  {
   "cell_type": "code",
   "execution_count": null,
   "metadata": {},
   "outputs": [],
   "source": [
    "#개봉전 평점개수\n",
    "req = requests.get(\"http://movie.naver.com/movie/bi/mi/pointWriteFormList.nhn?code=\"+ code +\"&type=before&onlyActualPointYn=N&order=newest&page=1\")\n",
    "html = req.text\n",
    "soup = BeautifulSoup(html, 'html.parser')\n",
    "total_page = soup.select('body > div.ifr_area.basic_ifr > div.input_netizen.b_star > div.score_total > strong.total > em')\n",
    "total_page = int(re.search(\">([0-9]*)<\", str(total_page[0]).replace(\",\",\"\")).group(1))\n",
    "\n",
    "#개봉후 평점 개수\n",
    "req = requests.get(\"http://movie.naver.com/movie/bi/mi/pointWriteFormList.nhn?code=\"+ code +\"&type=after&onlyActualPointYn=N&order=newest&page=1\")\n",
    "html = req.text\n",
    "soup = BeautifulSoup(html, 'html.parser')\n",
    "total_page = soup.select('body > div.ifr_area.basic_ifr > div.input_netizen > div.score_total > strong.total > em')\n",
    "total_page = int(re.search(\">([0-9]*)<\", str(total_page[0]).replace(\",\",\"\")).group(1))\n",
    "        "
   ]
  },
  {
   "cell_type": "markdown",
   "metadata": {
    "collapsed": true
   },
   "source": [
    " "
   ]
  },
  {
   "cell_type": "markdown",
   "metadata": {
    "collapsed": true
   },
   "source": [
    " "
   ]
  },
  {
   "cell_type": "markdown",
   "metadata": {},
   "source": [
    " "
   ]
  },
  {
   "cell_type": "code",
   "execution_count": null,
   "metadata": {},
   "outputs": [],
   "source": [
    "#셀리옴으로 크롤링하기\n",
    "driver = webdriver.Chrome('C:\\\\ProgramData\\\\Anaconda3\\\\Lib\\\\site-packages\\\\selenium\\\\webdriver\\\\chrome\\\\chromedriver.exe')\n",
    "\n",
    "base_url = 'http://movie.naver.com/'\n",
    "driver.get(base_url)"
   ]
  },
  {
   "cell_type": "code",
   "execution_count": null,
   "metadata": {},
   "outputs": [],
   "source": [
    "search_input_id = 'ipt_tx_srch'\n",
    "movie_name = '명량'\n",
    "driver.find_element_by_id(search_input_id).send_keys(movie_name)\n",
    "\n",
    "search_button_selector = '#jSearchArea > div > button'\n",
    "driver.find_element_by_css_selector(search_button_selector).click()\n",
    "\n",
    "#하지만 영화가 두개 이상인 경우 구별할 수가 없어서 지금 같은 경우 사용 불가!\n",
    "movie_location_selector = '#old_content > ul:nth-child(4) > li > dl > dt > a'\n",
    "driver.find_element_by_css_selector(movie_location_selector).click()\n",
    "url = driver.current_url\n",
    "getCode(url)"
   ]
  },
  {
   "cell_type": "code",
   "execution_count": null,
   "metadata": {},
   "outputs": [],
   "source": [
    "driver.quit()"
   ]
  },
  {
   "cell_type": "markdown",
   "metadata": {},
   "source": [
    " "
   ]
  },
  {
   "cell_type": "markdown",
   "metadata": {},
   "source": [
    " "
   ]
  },
  {
   "cell_type": "code",
   "execution_count": null,
   "metadata": {
    "scrolled": false
   },
   "outputs": [],
   "source": [
    "#after개봉\n",
    "idx = 1\n",
    "idx = str(idx)\n",
    "req = requests.get('http://movie.naver.com/movie/bi/mi/pointWriteFormList.nhn?code=114249&type=after&onlyActualPointYn=N&order=newest&page=' + idx)\n",
    "html = req.text\n",
    "soup = BeautifulSoup(html, 'html.parser')\n",
    "print(soup.select('html > body > div.ifr_area.basic_ifr > div.input_netizen > div.score_result > ul > li > div.star_score > em' ))\n",
    "print(soup.select('html > body > div.ifr_area.basic_ifr > div.input_netizen > div.score_result > ul > li > div.score_reple > dl > dt > em' )[1::2])"
   ]
  },
  {
   "cell_type": "code",
   "execution_count": null,
   "metadata": {},
   "outputs": [],
   "source": [
    "#before개봉\n",
    "idx = 10\n",
    "idx = str(idx)\n",
    "req = requests.get('http://movie.naver.com/movie/bi/mi/pointWriteFormList.nhn?code=114249&type=before&isActualPointWriteExecute=false&isMileageSubscriptionAlready=false&isMileageSubscriptionReject=false&order=newest&page=' + idx)\n",
    "html = req.text\n",
    "soup = BeautifulSoup(html, 'html.parser')\n",
    "print(soup.select('html > body > div.ifr_area.basic_ifr > div.input_netizen.b_star > div.score_result > ul > li > div.star_score > em' ))\n",
    "print(soup.select('html > body > div.ifr_area.basic_ifr > div.input_netizen > div.score_result > ul > li > div.score_reple > dl > dt > em' )[1::2])"
   ]
  },
  {
   "cell_type": "markdown",
   "metadata": {
    "collapsed": true
   },
   "source": [
    " "
   ]
  },
  {
   "cell_type": "markdown",
   "metadata": {
    "collapsed": true
   },
   "source": [
    " "
   ]
  },
  {
   "cell_type": "markdown",
   "metadata": {
    "collapsed": true
   },
   "source": [
    " "
   ]
  },
  {
   "cell_type": "markdown",
   "metadata": {
    "collapsed": true
   },
   "source": [
    " "
   ]
  },
  {
   "cell_type": "markdown",
   "metadata": {
    "collapsed": true
   },
   "source": [
    "# 네이버  평점 크롤러"
   ]
  },
  {
   "cell_type": "code",
   "execution_count": null,
   "metadata": {},
   "outputs": [],
   "source": [
    "movie = pd.read_csv(\"naver_crawl/formovie.csv\", encoding = \"cp949\")\n",
    "\n",
    "movie = movie.set_index(\"영화명\", drop=True)\n",
    "movie = movie[[\"개봉일\", \"개봉2일후\",\"개봉4일전\"]]\n",
    "\n",
    "movie[\"D+1 naver_star\"] = 0\n",
    "movie[\"D+1 naver_review\"] = 0\n",
    "\n",
    "movie[\"D-1 naver_star\"] = 0\n",
    "movie[\"D-1 naver_review\"] = 0\n",
    "\n",
    "movie[\"D-5 naver_star\"] = 0 \n",
    "movie[\"D-5 naver_review\"] = 0 \n",
    "\n",
    "movie.head()\n",
    "movie_name_lst = movie.index.tolist()"
   ]
  },
  {
   "cell_type": "code",
   "execution_count": null,
   "metadata": {},
   "outputs": [],
   "source": [
    "df = pd.read_csv(\"naver_crawl/runtime.csv\", encoding = \"cp949\")\n",
    "df = df.set_index(\"name\", drop = True)\n",
    "df = df[[\"runtime\"]]\n",
    "df[\"runtime\"] = df.runtime.map(lambda x : int(x[:-1]))\n",
    "df.head()"
   ]
  },
  {
   "cell_type": "code",
   "execution_count": null,
   "metadata": {
    "scrolled": true
   },
   "outputs": [],
   "source": [
    "star_regex = \"[0-9]{1,2}\"\n",
    "date_regex = \"[0-9]{4}\\.[0-9]{2}\\.[0-9]{2}\"\n",
    "\n",
    "before5_star_lst = []\n",
    "before1_star_lst = []\n",
    "after1_star_lst = []\n",
    "\n",
    "for name in movie_name_lst :\n",
    "    print(name, end=\" -> \")\n",
    "    \n",
    "    if name == \"미녀와 야수\" or name ==\"라이프\":\n",
    "        continue\n",
    "    \n",
    "    open_date = movie.loc[name, \"개봉일\"]\n",
    "    open_date = datetime.datetime.strptime(open_date, \"%Y-%m-%d\")\n",
    "    \n",
    "    req = requests.get('http://movie.naver.com/movie/search/result.nhn',params= {'query': name, \"section\" : \"movie\", \"sort\" : \"2\", \"ie\" : \"utf8\"})\n",
    "    html = req.text\n",
    "    soup = BeautifulSoup(html, 'html.parser')\n",
    "    movie_lst = soup.select('body > div#wrap > div#container > div#content > div.article > div.old_layout > div#cbody > div#old_content > ul.search_list_1 > li > dl')\n",
    "    \n",
    "    \n",
    "    if len(movie_lst) == 0 :\n",
    "        print(\"no search\")\n",
    "        continue\n",
    "        \n",
    "    elif len(movie_lst) == 1 :\n",
    "        print(\"one search\")\n",
    "        movie_html = movie_lst[0]\n",
    "        code = getCode(movie_html)\n",
    "        \n",
    "        #개봉전까지의 데이터\n",
    "        #만약 일정 수가 넘으면 무한 반복! -> 처리해주기\n",
    "        req = requests.get(\"http://movie.naver.com/movie/bi/mi/pointWriteFormList.nhn?code=\"+ code +\"&type=before&onlyActualPointYn=N&order=newest&page=1\")\n",
    "        html = req.text\n",
    "        soup = BeautifulSoup(html, 'html.parser')\n",
    "        total_page = soup.select('body > div.ifr_area.basic_ifr > div.input_netizen.b_star > div.score_total > strong.total > em')\n",
    "        total_page = int(re.search(\">([0-9]*)<\", str(total_page[0]).replace(\",\",\"\")).group(1))\n",
    "        \n",
    "        page = total_page//10+1\n",
    "        while int(page) >= 1 :\n",
    "            page = int(page) - 1\n",
    "            page = str(page)\n",
    "            \n",
    "            req = requests.get('http://movie.naver.com/movie/bi/mi/pointWriteFormList.nhn?code=' + code + '&type=before&isActualPointWriteExecute=false&isMileageSubscriptionAlready=false&isMileageSubscriptionReject=false&order=newest&page=' + page)\n",
    "            html = req.text\n",
    "            soup = BeautifulSoup(html, 'html.parser')\n",
    "            \n",
    "            star_lst = soup.select('html > body > div.ifr_area.basic_ifr > div.input_netizen.b_star > div.score_result > ul > li > div.star_score > em' )\n",
    "            date_lst = soup.select('html > body > div.ifr_area.basic_ifr > div.input_netizen > div.score_result > ul > li > div.score_reple > dl > dt > em' )[1::2]\n",
    "            \n",
    "            star_lst.reverse()\n",
    "            date_lst.reverse()\n",
    "            \n",
    "            for star, date in zip(star_lst, date_lst) :\n",
    "                star2 = re.findall(star_regex, str(star))[0]\n",
    "                date2 = re.findall(date_regex, str(date))[0].replace(\".\", \"-\")\n",
    "                date2 = datetime.datetime.strptime(str(date2), \"%Y-%m-%d\")\n",
    "                    \n",
    "                result = open_date - date2\n",
    "                \n",
    "                if int(result.days) >= 5 : \n",
    "                    before5_star_lst.append(star2)\n",
    "                else :\n",
    "                    before1_star_lst.append(star2)\n",
    "                    \n",
    "        #개봉 2일후까지의 데이터\n",
    "        req = requests.get(\"http://movie.naver.com/movie/bi/mi/pointWriteFormList.nhn?code=\"+ code +\"&type=after&onlyActualPointYn=N&order=newest&page=1\")\n",
    "        html = req.text\n",
    "        soup = BeautifulSoup(html, 'html.parser')\n",
    "        total_page = soup.select('body > div.ifr_area.basic_ifr > div.input_netizen > div.score_total > strong.total > em')\n",
    "        total_page = int(re.search(\">([0-9]*)<\", str(total_page[0]).replace(\",\",\"\")).group(1))\n",
    "                        \n",
    "        page = total_page//10 +1\n",
    "        while int(page) >= 1 :\n",
    "            page = int(page) - 1\n",
    "            page = str(page)\n",
    "\n",
    "            req = requests.get('http://movie.naver.com/movie/bi/mi/pointWriteFormList.nhn?code='+code+'&type=after&onlyActualPointYn=N&order=newest&page=' + page)\n",
    "            html = req.text\n",
    "            soup = BeautifulSoup(html, 'html.parser')\n",
    "                    \n",
    "            star_lst = soup.select('html > body > div.ifr_area.basic_ifr > div.input_netizen > div.score_result > ul > li > div.star_score > em')\n",
    "            date_lst = soup.select('html > body > div.ifr_area.basic_ifr > div.input_netizen > div.score_result > ul > li > div.score_reple > dl > dt > em' )[1::2]\n",
    "\n",
    "            star_lst.reverse()\n",
    "            date_lst.reverse()\n",
    "            \n",
    "            for star, date in zip(star_lst, date_lst) :\n",
    "                star2 = re.findall(star_regex, str(star))[0]\n",
    "                date2 = re.findall(date_regex, str(date))[0].replace(\".\", \"-\")\n",
    "                date2 = datetime.datetime.strptime(str(date2), \"%Y-%m-%d\")\n",
    "                        \n",
    "                result = date2 - open_date\n",
    "                        \n",
    "                if int(result.days) <= 1 : \n",
    "                    after1_star_lst.append(star2)\n",
    "                else :\n",
    "                    break\n",
    "                            \n",
    "            else : \n",
    "                continue\n",
    "            break\n",
    "        \n",
    "    #검색결과가 2개 이상일 때\n",
    "    else :\n",
    "        print(\"many search\", end=\" -> \")\n",
    "        flag = True\n",
    "        \n",
    "        for idx in range(len(movie_lst)) :\n",
    "            try :\n",
    "                movie_html = movie_lst[idx]\n",
    "                runtime = int(getRuntime(movie_html))\n",
    "                code = getCode(movie_html)\n",
    "            except :\n",
    "                print(idx, \"error\")\n",
    "                continue\n",
    "\n",
    "            if df.loc[name, \"runtime\"] in (runtime, runtime+1 ,runtime-1, runtime+2, runtim2-2) : \n",
    "                print(idx)\n",
    "                flag = False\n",
    "                \n",
    "                #개봉전까지의 데이터\n",
    "                #만약 일정 수가 넘으면 무한 반복! -> 처리해주기\n",
    "                req = requests.get(\"http://movie.naver.com/movie/bi/mi/pointWriteFormList.nhn?code=\"+ code +\"&type=before&onlyActualPointYn=N&order=newest&page=1\")\n",
    "                html = req.text\n",
    "                soup = BeautifulSoup(html, 'html.parser')\n",
    "                total_page = soup.select('body > div.ifr_area.basic_ifr > div.input_netizen.b_star > div.score_total > strong.total > em')\n",
    "                total_page = int(re.search(\">([0-9]*)<\", str(total_page[0]).replace(\",\",\"\")).group(1))\n",
    "\n",
    "                page = total_page//10+1\n",
    "                while int(page) >= 1 :\n",
    "                    page = int(page) - 1\n",
    "                    page = str(page)\n",
    "\n",
    "                    req = requests.get('http://movie.naver.com/movie/bi/mi/pointWriteFormList.nhn?code=' + code + '&type=before&isActualPointWriteExecute=false&isMileageSubscriptionAlready=false&isMileageSubscriptionReject=false&order=newest&page=' + page)\n",
    "                    html = req.text\n",
    "                    soup = BeautifulSoup(html, 'html.parser')\n",
    "\n",
    "                    star_lst = soup.select('html > body > div.ifr_area.basic_ifr > div.input_netizen.b_star > div.score_result > ul > li > div.star_score > em' )\n",
    "                    date_lst = soup.select('html > body > div.ifr_area.basic_ifr > div.input_netizen > div.score_result > ul > li > div.score_reple > dl > dt > em' )[1::2]\n",
    "\n",
    "                    star_lst.reverse()\n",
    "                    date_lst.reverse()\n",
    "                    \n",
    "                    for star, date in zip(star_lst, date_lst) :\n",
    "                        star2 = re.findall(star_regex, str(star))[0]\n",
    "                        date2 = re.findall(date_regex, str(date))[0].replace(\".\", \"-\")\n",
    "                        date2 = datetime.datetime.strptime(str(date2), \"%Y-%m-%d\")\n",
    "\n",
    "                        result = open_date - date2\n",
    "\n",
    "                        if int(result.days) >= 5 : \n",
    "                            before5_star_lst.append(star2)\n",
    "                        else :\n",
    "                            before1_star_lst.append(star2)\n",
    "\n",
    "                #개봉 2일후까지의 데이터\n",
    "                req = requests.get(\"http://movie.naver.com/movie/bi/mi/pointWriteFormList.nhn?code=\"+ code +\"&type=after&onlyActualPointYn=N&order=newest&page=1\")\n",
    "                html = req.text\n",
    "                soup = BeautifulSoup(html, 'html.parser')\n",
    "                total_page = soup.select('body > div.ifr_area.basic_ifr > div.input_netizen > div.score_total > strong.total > em')\n",
    "                total_page = int(re.search(\">([0-9]*)<\", str(total_page[0]).replace(\",\",\"\")).group(1))\n",
    "                \n",
    "                page = total_page//10 +1\n",
    "                while int(page) >= 1 :\n",
    "                    page = int(page) - 1\n",
    "                    page = str(page)\n",
    "                        \n",
    "                    req = requests.get('http://movie.naver.com/movie/bi/mi/pointWriteFormList.nhn?code='+code+'&type=after&onlyActualPointYn=N&order=newest&page=' + page)\n",
    "                    html = req.text\n",
    "                    soup = BeautifulSoup(html, 'html.parser')\n",
    "\n",
    "                    star_lst = soup.select('html > body > div.ifr_area.basic_ifr > div.input_netizen > div.score_result > ul > li > div.star_score > em')\n",
    "                    date_lst = soup.select('html > body > div.ifr_area.basic_ifr > div.input_netizen > div.score_result > ul > li > div.score_reple > dl > dt > em' )[1::2]\n",
    "\n",
    "                    star_lst.reverse()\n",
    "                    date_lst.reverse()\n",
    "                    \n",
    "                    for star, date in zip(star_lst, date_lst) :\n",
    "                        star2 = re.findall(star_regex, str(star))[0]\n",
    "                        date2 = re.findall(date_regex, str(date))[0].replace(\".\", \"-\")\n",
    "                        date2 = datetime.datetime.strptime(str(date2), \"%Y-%m-%d\")\n",
    "\n",
    "                        result = date2 - open_date\n",
    "\n",
    "                        if int(result.days) <= 1 : \n",
    "                            after1_star_lst.append(star2)\n",
    "                        else :\n",
    "                            break\n",
    "\n",
    "                    else : \n",
    "                        continue\n",
    "                    break\n",
    "                break\n",
    "            \n",
    "        if flag :\n",
    "            print(\"no search\")\n",
    "    \n",
    "    before5_star_lst = list(map(int, before5_star_lst))\n",
    "    before1_star_lst = list(map(int, before1_star_lst))\n",
    "    after1_star_lst = list(map(int, after1_star_lst))\n",
    "    \n",
    "    movie.loc[name,\"D-5 naver_review\"] = len(before5_star_lst)\n",
    "    movie.loc[name,\"D-1 naver_review\"] = len(before1_star_lst)\n",
    "    movie.loc[name,\"D+1 naver_review\"] = len(after1_star_lst)\n",
    "    \n",
    "    movie.loc[name,\"D-5 naver_star\"] = sum(before5_star_lst) / len(before5_star_lst)\n",
    "    movie.loc[name,\"D-1 naver_star\"] = (sum(before5_star_lst) + sum(before1_star_lst)) / (len(before1_star_lst) + len(before5_star_lst))\n",
    "    movie.loc[name,\"D+1 naver_star\"] = sum(after1_star_lst) / len(after1_star_lst)\n",
    "    \n"
   ]
  },
  {
   "cell_type": "code",
   "execution_count": null,
   "metadata": {},
   "outputs": [],
   "source": [
    "print(\"finish\")"
   ]
  }
 ],
 "metadata": {
  "kernelspec": {
   "display_name": "Python 3",
   "language": "python",
   "name": "python3"
  },
  "language_info": {
   "codemirror_mode": {
    "name": "ipython",
    "version": 3
   },
   "file_extension": ".py",
   "mimetype": "text/x-python",
   "name": "python",
   "nbconvert_exporter": "python",
   "pygments_lexer": "ipython3",
   "version": "3.7.1"
  }
 },
 "nbformat": 4,
 "nbformat_minor": 2
}
