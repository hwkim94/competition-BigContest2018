{
 "cells": [
  {
   "cell_type": "code",
   "execution_count": 5,
   "metadata": {},
   "outputs": [
    {
     "name": "stderr",
     "output_type": "stream",
     "text": [
      "IOPub data rate exceeded.\n",
      "The notebook server will temporarily stop sending output\n",
      "to the client in order to avoid crashing it.\n",
      "To change this limit, set the config variable\n",
      "`--NotebookApp.iopub_data_rate_limit`.\n"
     ]
    }
   ],
   "source": [
    "import pandas as pd\n",
    "import numpy as np\n",
    "import math\n",
    "from sklearn.ensemble import RandomForestRegressor\n",
    "\n",
    "import cufflinks as cf\n",
    "%matplotlib inline\n",
    "cf.go_offline()\n",
    "\n",
    "pd.set_option('max_columns' , 999)\n",
    "pd.set_option('max_rows' , 999)"
   ]
  },
  {
   "cell_type": "code",
   "execution_count": 6,
   "metadata": {
    "collapsed": true
   },
   "outputs": [],
   "source": [
    "#리스트 더미화\n",
    "def making_list_dummy(df, cols) :\n",
    "    new_df = df.copy()\n",
    "    for col in cols :\n",
    "        \n",
    "        dic = pd.Series(new_df[col].values,index=new_df.index).to_dict()\n",
    "        s = pd.Series(dic)\n",
    "        temp = pd.get_dummies(s.apply(pd.Series).stack(), prefix=col).sum(level=0)\n",
    "        \n",
    "        new_df = pd.concat([new_df, temp], axis=1)\n",
    "        \n",
    "    new_df = new_df.drop(cols, axis=1)\n",
    "    \n",
    "    return new_df"
   ]
  },
  {
   "cell_type": "code",
   "execution_count": 7,
   "metadata": {
    "collapsed": true
   },
   "outputs": [],
   "source": [
    "#명목형 변수 더미화\n",
    "def dummify_category_cols(df,cols):\n",
    "    dummies = []\n",
    "    new_df = df.copy()\n",
    "\n",
    "    for idx in range(len(cols)):\n",
    "        new_df = new_df.join(pd.get_dummies(new_df[cols[idx]], prefix = cols[idx]))\n",
    "        new_df = new_df.drop(cols[idx], axis =1)\n",
    "    return new_df"
   ]
  },
  {
   "cell_type": "code",
   "execution_count": 8,
   "metadata": {
    "collapsed": true
   },
   "outputs": [],
   "source": [
    "#RMS 구하기\n",
    "def RMSE(y_true,y_pred):\n",
    "    \n",
    "    squaredErrors = (y_pred - y_true)**2\n",
    "    MSE = squaredErrors.mean()\n",
    "    \n",
    "    return math.sqrt(MSE)"
   ]
  },
  {
   "cell_type": "markdown",
   "metadata": {},
   "source": [
    "     "
   ]
  },
  {
   "cell_type": "markdown",
   "metadata": {},
   "source": [
    "    "
   ]
  },
  {
   "cell_type": "markdown",
   "metadata": {},
   "source": [
    "    "
   ]
  },
  {
   "cell_type": "code",
   "execution_count": 9,
   "metadata": {},
   "outputs": [],
   "source": [
    "df = pd.read_csv(\"movie_eda.csv\", encoding = \"cp949\")"
   ]
  },
  {
   "cell_type": "code",
   "execution_count": 12,
   "metadata": {},
   "outputs": [
    {
     "data": {
      "text/html": [
       "<div>\n",
       "<style>\n",
       "    .dataframe thead tr:only-child th {\n",
       "        text-align: right;\n",
       "    }\n",
       "\n",
       "    .dataframe thead th {\n",
       "        text-align: left;\n",
       "    }\n",
       "\n",
       "    .dataframe tbody tr th {\n",
       "        vertical-align: top;\n",
       "    }\n",
       "</style>\n",
       "<table border=\"1\" class=\"dataframe\">\n",
       "  <thead>\n",
       "    <tr style=\"text-align: right;\">\n",
       "      <th></th>\n",
       "      <th>영화명</th>\n",
       "      <th>D+13 휴일수</th>\n",
       "      <th>D+7 휴일수</th>\n",
       "      <th>D-1 시사회수</th>\n",
       "      <th>D-5 시사회수</th>\n",
       "      <th>day</th>\n",
       "      <th>month</th>\n",
       "      <th>naver_not_wanna_see</th>\n",
       "      <th>naver_ratio</th>\n",
       "      <th>naver_wanna_see</th>\n",
       "      <th>naver_리뷰수</th>\n",
       "      <th>runtime</th>\n",
       "      <th>weekday</th>\n",
       "      <th>year</th>\n",
       "      <th>감독</th>\n",
       "      <th>국산</th>\n",
       "      <th>대표국적</th>\n",
       "      <th>등급</th>\n",
       "      <th>미국산</th>\n",
       "      <th>배급사</th>\n",
       "      <th>배우</th>\n",
       "      <th>수입사</th>\n",
       "      <th>영화구분</th>\n",
       "      <th>장르</th>\n",
       "      <th>제작사</th>\n",
       "      <th>D-1 누적매출액</th>\n",
       "      <th>D-1 누적관객수</th>\n",
       "      <th>D-5 누적매출액</th>\n",
       "      <th>D-5 누적관객수</th>\n",
       "      <th>D+1 누적매출액</th>\n",
       "      <th>D+1 누적관객수</th>\n",
       "      <th>D+7 누적관객수</th>\n",
       "      <th>D+13 누적관객수</th>\n",
       "      <th>D-1 상영횟수 합</th>\n",
       "      <th>D-1 스크린수 합</th>\n",
       "      <th>D-1 좌석수 합</th>\n",
       "      <th>D-5 상영횟수 합</th>\n",
       "      <th>D-5 스크린수 합</th>\n",
       "      <th>D-5 좌석수 합</th>\n",
       "      <th>D+1 상영횟수 합</th>\n",
       "      <th>D+1 순위 합</th>\n",
       "      <th>D+1 스크린수 합</th>\n",
       "      <th>D+1 좌석수 합</th>\n",
       "      <th>D-5 상영횟수 평균</th>\n",
       "      <th>D-1 상영횟수 평균</th>\n",
       "      <th>D+1 상영횟수 평균</th>\n",
       "      <th>D-5 순위 평균</th>\n",
       "      <th>D-1 순위 평균</th>\n",
       "      <th>D+1 순위 평균</th>\n",
       "      <th>D-5 스크린수 평균</th>\n",
       "      <th>D-1 스크린수 평균</th>\n",
       "      <th>D+1 스크린수 평균</th>\n",
       "      <th>D-5 좌석수 평균</th>\n",
       "      <th>D-1 좌석수 평균</th>\n",
       "      <th>D+1 좌석수 평균</th>\n",
       "      <th>D-5 관객수 평균</th>\n",
       "      <th>D-1 관객수 평균</th>\n",
       "      <th>D+1 관객수 평균</th>\n",
       "      <th>D-5 매출액 평균</th>\n",
       "      <th>D-1 매출액 평균</th>\n",
       "      <th>D+1 매출액 평균</th>\n",
       "      <th>after2_before28_tweet</th>\n",
       "      <th>after2_before28_like</th>\n",
       "      <th>before4_before34_tweet</th>\n",
       "      <th>before4_before34_like</th>\n",
       "      <th>top500_actors</th>\n",
       "      <th>top500_director</th>\n",
       "      <th>배우점수</th>\n",
       "      <th>감독점수</th>\n",
       "      <th>배급사점수</th>\n",
       "    </tr>\n",
       "  </thead>\n",
       "  <tbody>\n",
       "    <tr>\n",
       "      <th>0</th>\n",
       "      <td>명량</td>\n",
       "      <td>4.0</td>\n",
       "      <td>2.0</td>\n",
       "      <td>9.0</td>\n",
       "      <td>6.0</td>\n",
       "      <td>30</td>\n",
       "      <td>7</td>\n",
       "      <td>1126</td>\n",
       "      <td>0.923739</td>\n",
       "      <td>13639</td>\n",
       "      <td>1676</td>\n",
       "      <td>128.0</td>\n",
       "      <td>2.0</td>\n",
       "      <td>2014</td>\n",
       "      <td>['김한민']</td>\n",
       "      <td>1</td>\n",
       "      <td>한국</td>\n",
       "      <td>15세이상관람가</td>\n",
       "      <td>0</td>\n",
       "      <td>['씨제이이앤엠(주)']</td>\n",
       "      <td>['None']</td>\n",
       "      <td>['None']</td>\n",
       "      <td>1</td>\n",
       "      <td>['사극']</td>\n",
       "      <td>['None']</td>\n",
       "      <td>172231000.0</td>\n",
       "      <td>22500.0</td>\n",
       "      <td>81803000.0</td>\n",
       "      <td>10050.0</td>\n",
       "      <td>1.012452e+10</td>\n",
       "      <td>1410271.0</td>\n",
       "      <td>7329679.0</td>\n",
       "      <td>11775978.0</td>\n",
       "      <td>163.0</td>\n",
       "      <td>145.0</td>\n",
       "      <td>30887.0</td>\n",
       "      <td>87.0</td>\n",
       "      <td>74.0</td>\n",
       "      <td>16924.0</td>\n",
       "      <td>12405.0</td>\n",
       "      <td>2.0</td>\n",
       "      <td>2361.0</td>\n",
       "      <td>2328207.0</td>\n",
       "      <td>14.500000</td>\n",
       "      <td>18.111111</td>\n",
       "      <td>6202.5</td>\n",
       "      <td>15.166667</td>\n",
       "      <td>14.0</td>\n",
       "      <td>1.0</td>\n",
       "      <td>12.333333</td>\n",
       "      <td>16.111111</td>\n",
       "      <td>1180.5</td>\n",
       "      <td>2820.666667</td>\n",
       "      <td>3431.888889</td>\n",
       "      <td>1164103.5</td>\n",
       "      <td>1675.000000</td>\n",
       "      <td>2500.0</td>\n",
       "      <td>705135.5</td>\n",
       "      <td>1.363383e+07</td>\n",
       "      <td>1.913678e+07</td>\n",
       "      <td>5.062260e+09</td>\n",
       "      <td>6593.0</td>\n",
       "      <td>4713.0</td>\n",
       "      <td>5066.0</td>\n",
       "      <td>4464.0</td>\n",
       "      <td>3</td>\n",
       "      <td>1</td>\n",
       "      <td>47.909130</td>\n",
       "      <td>9.114424</td>\n",
       "      <td>98.955292</td>\n",
       "    </tr>\n",
       "    <tr>\n",
       "      <th>1</th>\n",
       "      <td>국제시장</td>\n",
       "      <td>5.0</td>\n",
       "      <td>2.0</td>\n",
       "      <td>20.0</td>\n",
       "      <td>17.0</td>\n",
       "      <td>17</td>\n",
       "      <td>12</td>\n",
       "      <td>2052</td>\n",
       "      <td>0.861688</td>\n",
       "      <td>12784</td>\n",
       "      <td>1233</td>\n",
       "      <td>126.0</td>\n",
       "      <td>2.0</td>\n",
       "      <td>2014</td>\n",
       "      <td>['윤제균']</td>\n",
       "      <td>1</td>\n",
       "      <td>한국</td>\n",
       "      <td>12세이상관람가</td>\n",
       "      <td>0</td>\n",
       "      <td>['씨제이이앤엠(주)']</td>\n",
       "      <td>['None']</td>\n",
       "      <td>['None']</td>\n",
       "      <td>1</td>\n",
       "      <td>['드라마']</td>\n",
       "      <td>['None']</td>\n",
       "      <td>256465000.0</td>\n",
       "      <td>33048.0</td>\n",
       "      <td>198916000.0</td>\n",
       "      <td>26194.0</td>\n",
       "      <td>3.069223e+09</td>\n",
       "      <td>416356.0</td>\n",
       "      <td>2312726.0</td>\n",
       "      <td>4869135.0</td>\n",
       "      <td>241.0</td>\n",
       "      <td>227.0</td>\n",
       "      <td>48722.0</td>\n",
       "      <td>191.0</td>\n",
       "      <td>178.0</td>\n",
       "      <td>38223.0</td>\n",
       "      <td>8935.0</td>\n",
       "      <td>3.0</td>\n",
       "      <td>1885.0</td>\n",
       "      <td>1603232.0</td>\n",
       "      <td>11.235294</td>\n",
       "      <td>12.050000</td>\n",
       "      <td>4467.5</td>\n",
       "      <td>26.529412</td>\n",
       "      <td>27.8</td>\n",
       "      <td>1.5</td>\n",
       "      <td>10.470588</td>\n",
       "      <td>11.350000</td>\n",
       "      <td>942.5</td>\n",
       "      <td>2248.411765</td>\n",
       "      <td>2436.100000</td>\n",
       "      <td>801616.0</td>\n",
       "      <td>1540.823529</td>\n",
       "      <td>1652.4</td>\n",
       "      <td>208178.0</td>\n",
       "      <td>1.170094e+07</td>\n",
       "      <td>1.282325e+07</td>\n",
       "      <td>1.534611e+09</td>\n",
       "      <td>2896.0</td>\n",
       "      <td>691.0</td>\n",
       "      <td>1946.0</td>\n",
       "      <td>481.0</td>\n",
       "      <td>4</td>\n",
       "      <td>1</td>\n",
       "      <td>77.181236</td>\n",
       "      <td>8.307558</td>\n",
       "      <td>98.955292</td>\n",
       "    </tr>\n",
       "  </tbody>\n",
       "</table>\n",
       "</div>"
      ],
      "text/plain": [
       "    영화명  D+13 휴일수  D+7 휴일수  D-1 시사회수  D-5 시사회수  day  month  \\\n",
       "0    명량       4.0      2.0       9.0       6.0   30      7   \n",
       "1  국제시장       5.0      2.0      20.0      17.0   17     12   \n",
       "\n",
       "   naver_not_wanna_see  naver_ratio  naver_wanna_see  naver_리뷰수  runtime  \\\n",
       "0                 1126     0.923739            13639       1676    128.0   \n",
       "1                 2052     0.861688            12784       1233    126.0   \n",
       "\n",
       "   weekday  year       감독  국산 대표국적        등급  미국산            배급사        배우  \\\n",
       "0      2.0  2014  ['김한민']   1   한국  15세이상관람가    0  ['씨제이이앤엠(주)']  ['None']   \n",
       "1      2.0  2014  ['윤제균']   1   한국  12세이상관람가    0  ['씨제이이앤엠(주)']  ['None']   \n",
       "\n",
       "        수입사  영화구분       장르       제작사    D-1 누적매출액  D-1 누적관객수    D-5 누적매출액  \\\n",
       "0  ['None']     1   ['사극']  ['None']  172231000.0    22500.0   81803000.0   \n",
       "1  ['None']     1  ['드라마']  ['None']  256465000.0    33048.0  198916000.0   \n",
       "\n",
       "   D-5 누적관객수     D+1 누적매출액  D+1 누적관객수  D+7 누적관객수  D+13 누적관객수  D-1 상영횟수 합  \\\n",
       "0    10050.0  1.012452e+10  1410271.0  7329679.0  11775978.0       163.0   \n",
       "1    26194.0  3.069223e+09   416356.0  2312726.0   4869135.0       241.0   \n",
       "\n",
       "   D-1 스크린수 합  D-1 좌석수 합  D-5 상영횟수 합  D-5 스크린수 합  D-5 좌석수 합  D+1 상영횟수 합  \\\n",
       "0       145.0    30887.0        87.0        74.0    16924.0     12405.0   \n",
       "1       227.0    48722.0       191.0       178.0    38223.0      8935.0   \n",
       "\n",
       "   D+1 순위 합  D+1 스크린수 합  D+1 좌석수 합  D-5 상영횟수 평균  D-1 상영횟수 평균  D+1 상영횟수 평균  \\\n",
       "0       2.0      2361.0  2328207.0    14.500000    18.111111       6202.5   \n",
       "1       3.0      1885.0  1603232.0    11.235294    12.050000       4467.5   \n",
       "\n",
       "   D-5 순위 평균  D-1 순위 평균  D+1 순위 평균  D-5 스크린수 평균  D-1 스크린수 평균  D+1 스크린수 평균  \\\n",
       "0  15.166667       14.0        1.0    12.333333    16.111111       1180.5   \n",
       "1  26.529412       27.8        1.5    10.470588    11.350000        942.5   \n",
       "\n",
       "    D-5 좌석수 평균   D-1 좌석수 평균  D+1 좌석수 평균   D-5 관객수 평균  D-1 관객수 평균  D+1 관객수 평균  \\\n",
       "0  2820.666667  3431.888889   1164103.5  1675.000000      2500.0    705135.5   \n",
       "1  2248.411765  2436.100000    801616.0  1540.823529      1652.4    208178.0   \n",
       "\n",
       "     D-5 매출액 평균    D-1 매출액 평균    D+1 매출액 평균  after2_before28_tweet  \\\n",
       "0  1.363383e+07  1.913678e+07  5.062260e+09                 6593.0   \n",
       "1  1.170094e+07  1.282325e+07  1.534611e+09                 2896.0   \n",
       "\n",
       "   after2_before28_like  before4_before34_tweet  before4_before34_like  \\\n",
       "0                4713.0                  5066.0                 4464.0   \n",
       "1                 691.0                  1946.0                  481.0   \n",
       "\n",
       "   top500_actors  top500_director       배우점수      감독점수      배급사점수  \n",
       "0              3                1  47.909130  9.114424  98.955292  \n",
       "1              4                1  77.181236  8.307558  98.955292  "
      ]
     },
     "execution_count": 12,
     "metadata": {},
     "output_type": "execute_result"
    }
   ],
   "source": [
    "df.head(2)"
   ]
  },
  {
   "cell_type": "code",
   "execution_count": 16,
   "metadata": {
    "collapsed": true
   },
   "outputs": [],
   "source": [
    "after_col_lst = ['영화명', 'D+13 휴일수', 'D-1 시사회수', 'day', 'month',\n",
    "       'naver_not_wanna_see', 'naver_ratio', 'naver_wanna_see', 'naver_리뷰수',\n",
    "       'runtime', 'weekday', 'year', '국산', '대표국적', '등급', '미국산',\n",
    "       '영화구분', '장르', 'D-1 누적매출액', 'D-1 누적관객수',\n",
    "       'D+1 누적매출액', 'D+1 누적관객수', 'D+13 누적관객수',\n",
    "       'D-1 상영횟수 합', 'D-1 스크린수 합', 'D-1 좌석수 합',\n",
    "       'D+1 상영횟수 합', 'D+1 순위 합', 'D+1 스크린수 합', 'D+1 좌석수 합',\n",
    "       'D-1 상영횟수 평균', 'D+1 상영횟수 평균', 'D-1 순위 평균',\n",
    "       'D+1 순위 평균', 'D-1 스크린수 평균', 'D+1 스크린수 평균', \"D+1 naver_news\",\n",
    "       'D-1 좌석수 평균', 'D+1 좌석수 평균', 'D-1 관객수 평균', 'D+1 관객수 평균',\n",
    "       'D-1 매출액 평균', 'D+1 매출액 평균', 'top500_actors', 'top500_director', '배우점수',\n",
    "       '감독점수', '배급사점수']\n",
    "\n",
    "before_col_lst = ['영화명', 'D+7 휴일수', 'D-5 시사회수', 'day', 'month',\n",
    "       'naver_not_wanna_see', 'naver_ratio', 'naver_wanna_see', 'naver_리뷰수',\n",
    "       'runtime', 'weekday', 'year', '국산', '대표국적', '등급', '미국산',\n",
    "       '영화구분', '장르', 'D-5 누적매출액',\n",
    "       'D-5 누적관객수', 'D+7 누적관객수',\n",
    "       'D-5 상영횟수 합', 'D-5 스크린수 합',\n",
    "       'D-5 좌석수 합', \n",
    "       'D-5 상영횟수 평균', 'D-5 순위 평균', \n",
    "       'D-5 스크린수 평균', 'D-5 좌석수 평균',\n",
    "       'D-5 관객수 평균', \"D-5 naver_news\",\n",
    "       'D-5 매출액 평균', 'top500_actors', 'top500_director', '배우점수',\n",
    "       '감독점수', '배급사점수']\n",
    "\n",
    "after_df = df[after_col_lst].drop([\"대표국적\"], axis=1)\n",
    "before_df = df[before_col_lst].drop([\"대표국적\"], axis=1)"
   ]
  },
  {
   "cell_type": "markdown",
   "metadata": {},
   "source": [
    "    \n",
    "\n",
    "        "
   ]
  },
  {
   "cell_type": "markdown",
   "metadata": {},
   "source": [
    " "
   ]
  },
  {
   "cell_type": "markdown",
   "metadata": {},
   "source": [
    " # RandomForest "
   ]
  },
  {
   "cell_type": "code",
   "execution_count": 17,
   "metadata": {
    "collapsed": true
   },
   "outputs": [],
   "source": [
    "#개봉 후 영화 예측\n",
    "new_df = after_df.set_index(\"영화명\", drop=True)\n",
    "target = \"D+13 누적관객수\""
   ]
  },
  {
   "cell_type": "code",
   "execution_count": 18,
   "metadata": {
    "collapsed": true
   },
   "outputs": [],
   "source": [
    "#개봉 전 영화 예측\n",
    "new_df = before_df.set_index(\"영화명\", drop=True)\n",
    "target = \"D+7 누적관객수\""
   ]
  },
  {
   "cell_type": "code",
   "execution_count": 19,
   "metadata": {
    "collapsed": true
   },
   "outputs": [],
   "source": [
    "#더미화\n",
    "new_df = making_list_dummy(new_df, [\"장르\"])\n",
    "new_df = dummify_category_cols(new_df, [\"등급\"])\n"
   ]
  },
  {
   "cell_type": "code",
   "execution_count": 21,
   "metadata": {},
   "outputs": [],
   "source": [
    "new_df['is_train'] = np.random.uniform(0, 1, len(new_df)) <= .75\n",
    "\n",
    "training_set = new_df[new_df['is_train']==True]\n",
    "test_set = new_df[new_df['is_train']==False]\n",
    "\n",
    "feature = new_df.columns.drop(target)\n",
    "target = target"
   ]
  },
  {
   "cell_type": "code",
   "execution_count": 22,
   "metadata": {
    "collapsed": true
   },
   "outputs": [],
   "source": [
    "forest = RandomForestRegressor(n_estimators=4500, n_jobs=2)"
   ]
  },
  {
   "cell_type": "code",
   "execution_count": 23,
   "metadata": {},
   "outputs": [
    {
     "data": {
      "text/plain": [
       "RandomForestRegressor(bootstrap=True, criterion='mse', max_depth=None,\n",
       "           max_features='auto', max_leaf_nodes=None,\n",
       "           min_impurity_split=1e-07, min_samples_leaf=1,\n",
       "           min_samples_split=2, min_weight_fraction_leaf=0.0,\n",
       "           n_estimators=4500, n_jobs=2, oob_score=False, random_state=None,\n",
       "           verbose=0, warm_start=False)"
      ]
     },
     "execution_count": 23,
     "metadata": {},
     "output_type": "execute_result"
    }
   ],
   "source": [
    "forest.fit(training_set[feature], training_set[target])"
   ]
  },
  {
   "cell_type": "code",
   "execution_count": 24,
   "metadata": {},
   "outputs": [
    {
     "data": {
      "text/plain": [
       "0.77515264211731494"
      ]
     },
     "execution_count": 24,
     "metadata": {},
     "output_type": "execute_result"
    }
   ],
   "source": [
    "forest.predict(test_set[feature])\n",
    "forest.score(test_set[feature], test_set[target])"
   ]
  },
  {
   "cell_type": "code",
   "execution_count": 34,
   "metadata": {},
   "outputs": [
    {
     "name": "stdout",
     "output_type": "stream",
     "text": [
      "719635.579104844\n"
     ]
    }
   ],
   "source": [
    "y_pred=forest.predict(test_set[feature])\n",
    "y_true = test_set[target]\n",
    "rmse = RMSE(y_true,y_pred)\n",
    "print(rmse)"
   ]
  },
  {
   "cell_type": "code",
   "execution_count": 35,
   "metadata": {},
   "outputs": [
    {
     "data": {
      "application/vnd.plotly.v1+json": {
       "data": [
        {
         "marker": {
          "color": "rgba(255, 153, 51, 0.6)",
          "line": {
           "color": "rgba(255, 153, 51, 1.0)",
           "width": 1
          }
         },
         "name": "0",
         "orientation": "v",
         "text": "",
         "type": "bar",
         "x": [
          "D+7 휴일수",
          "D-5 관객수 평균",
          "D-5 누적관객수",
          "D-5 누적매출액",
          "D-5 매출액 평균",
          "D-5 상영횟수 평균",
          "D-5 상영횟수 합",
          "D-5 순위 평균",
          "D-5 스크린수 평균",
          "D-5 스크린수 합",
          "D-5 시사회수",
          "D-5 좌석수 평균",
          "D-5 좌석수 합",
          "day",
          "is",
          "month",
          "naver",
          "runtime",
          "top500",
          "weekday",
          "year",
          "감독점수",
          "등급",
          "배급사점수",
          "배우점수",
          "영화구분",
          "장르"
         ],
         "y": [
          0.003219638275040302,
          0.006420858501502547,
          0.005973373703351689,
          0.0045236824734030765,
          0.005211678880961362,
          0.00632231791621852,
          0.0025958304890414943,
          0.004294550157486526,
          0.0062627118096677484,
          0.0026118379495985167,
          0.0045822854748927755,
          0.008367064559288515,
          0.005442659387857358,
          0.008639396267161023,
          0,
          0.0052313944769508906,
          0.12738943932962554,
          0.008083976371895072,
          0.015669689774115887,
          0.0011158557181825577,
          0.0019295879049330102,
          0.31724861851527547,
          0.003032736399661891,
          0.008856003945086975,
          0.42804264081266974,
          0.0007604462158328451,
          0.008171724690297984
         ]
        }
       ],
       "layout": {
        "legend": {
         "bgcolor": "#F5F6F9",
         "font": {
          "color": "#4D5663"
         }
        },
        "paper_bgcolor": "#F5F6F9",
        "plot_bgcolor": "#F5F6F9",
        "titlefont": {
         "color": "#4D5663"
        },
        "xaxis1": {
         "gridcolor": "#E1E5ED",
         "showgrid": true,
         "tickfont": {
          "color": "#4D5663"
         },
         "title": "",
         "titlefont": {
          "color": "#4D5663"
         },
         "zerolinecolor": "#E1E5ED"
        },
        "yaxis1": {
         "gridcolor": "#E1E5ED",
         "showgrid": true,
         "tickfont": {
          "color": "#4D5663"
         },
         "title": "",
         "titlefont": {
          "color": "#4D5663"
         },
         "zerolinecolor": "#E1E5ED"
        }
       }
      },
      "text/html": [
       "<div id=\"f1859a8c-817f-462b-af98-519f051f4d3e\" style=\"height: 525px; width: 100%;\" class=\"plotly-graph-div\"></div><script type=\"text/javascript\">require([\"plotly\"], function(Plotly) { window.PLOTLYENV=window.PLOTLYENV || {};window.PLOTLYENV.BASE_URL=\"https://plot.ly\";Plotly.newPlot(\"f1859a8c-817f-462b-af98-519f051f4d3e\", [{\"type\": \"bar\", \"x\": [\"D+7 \\ud734\\uc77c\\uc218\", \"D-5 \\uad00\\uac1d\\uc218 \\ud3c9\\uade0\", \"D-5 \\ub204\\uc801\\uad00\\uac1d\\uc218\", \"D-5 \\ub204\\uc801\\ub9e4\\ucd9c\\uc561\", \"D-5 \\ub9e4\\ucd9c\\uc561 \\ud3c9\\uade0\", \"D-5 \\uc0c1\\uc601\\ud69f\\uc218 \\ud3c9\\uade0\", \"D-5 \\uc0c1\\uc601\\ud69f\\uc218 \\ud569\", \"D-5 \\uc21c\\uc704 \\ud3c9\\uade0\", \"D-5 \\uc2a4\\ud06c\\ub9b0\\uc218 \\ud3c9\\uade0\", \"D-5 \\uc2a4\\ud06c\\ub9b0\\uc218 \\ud569\", \"D-5 \\uc2dc\\uc0ac\\ud68c\\uc218\", \"D-5 \\uc88c\\uc11d\\uc218 \\ud3c9\\uade0\", \"D-5 \\uc88c\\uc11d\\uc218 \\ud569\", \"day\", \"is\", \"month\", \"naver\", \"runtime\", \"top500\", \"weekday\", \"year\", \"\\uac10\\ub3c5\\uc810\\uc218\", \"\\ub4f1\\uae09\", \"\\ubc30\\uae09\\uc0ac\\uc810\\uc218\", \"\\ubc30\\uc6b0\\uc810\\uc218\", \"\\uc601\\ud654\\uad6c\\ubd84\", \"\\uc7a5\\ub974\"], \"y\": [0.003219638275040302, 0.006420858501502547, 0.005973373703351689, 0.0045236824734030765, 0.005211678880961362, 0.00632231791621852, 0.0025958304890414943, 0.004294550157486526, 0.0062627118096677484, 0.0026118379495985167, 0.0045822854748927755, 0.008367064559288515, 0.005442659387857358, 0.008639396267161023, 0.0, 0.0052313944769508906, 0.12738943932962554, 0.008083976371895072, 0.015669689774115887, 0.0011158557181825577, 0.0019295879049330102, 0.31724861851527547, 0.003032736399661891, 0.008856003945086975, 0.42804264081266974, 0.0007604462158328451, 0.008171724690297984], \"name\": \"0\", \"text\": \"\", \"marker\": {\"color\": \"rgba(255, 153, 51, 0.6)\", \"line\": {\"color\": \"rgba(255, 153, 51, 1.0)\", \"width\": 1}}, \"orientation\": \"v\"}], {\"legend\": {\"bgcolor\": \"#F5F6F9\", \"font\": {\"color\": \"#4D5663\"}}, \"paper_bgcolor\": \"#F5F6F9\", \"plot_bgcolor\": \"#F5F6F9\", \"yaxis1\": {\"tickfont\": {\"color\": \"#4D5663\"}, \"gridcolor\": \"#E1E5ED\", \"titlefont\": {\"color\": \"#4D5663\"}, \"zerolinecolor\": \"#E1E5ED\", \"showgrid\": true, \"title\": \"\"}, \"xaxis1\": {\"tickfont\": {\"color\": \"#4D5663\"}, \"gridcolor\": \"#E1E5ED\", \"titlefont\": {\"color\": \"#4D5663\"}, \"zerolinecolor\": \"#E1E5ED\", \"showgrid\": true, \"title\": \"\"}, \"titlefont\": {\"color\": \"#4D5663\"}}, {\"showLink\": true, \"linkText\": \"Export to plot.ly\"})});</script>"
      ],
      "text/vnd.plotly.v1+html": [
       "<div id=\"f1859a8c-817f-462b-af98-519f051f4d3e\" style=\"height: 525px; width: 100%;\" class=\"plotly-graph-div\"></div><script type=\"text/javascript\">require([\"plotly\"], function(Plotly) { window.PLOTLYENV=window.PLOTLYENV || {};window.PLOTLYENV.BASE_URL=\"https://plot.ly\";Plotly.newPlot(\"f1859a8c-817f-462b-af98-519f051f4d3e\", [{\"type\": \"bar\", \"x\": [\"D+7 \\ud734\\uc77c\\uc218\", \"D-5 \\uad00\\uac1d\\uc218 \\ud3c9\\uade0\", \"D-5 \\ub204\\uc801\\uad00\\uac1d\\uc218\", \"D-5 \\ub204\\uc801\\ub9e4\\ucd9c\\uc561\", \"D-5 \\ub9e4\\ucd9c\\uc561 \\ud3c9\\uade0\", \"D-5 \\uc0c1\\uc601\\ud69f\\uc218 \\ud3c9\\uade0\", \"D-5 \\uc0c1\\uc601\\ud69f\\uc218 \\ud569\", \"D-5 \\uc21c\\uc704 \\ud3c9\\uade0\", \"D-5 \\uc2a4\\ud06c\\ub9b0\\uc218 \\ud3c9\\uade0\", \"D-5 \\uc2a4\\ud06c\\ub9b0\\uc218 \\ud569\", \"D-5 \\uc2dc\\uc0ac\\ud68c\\uc218\", \"D-5 \\uc88c\\uc11d\\uc218 \\ud3c9\\uade0\", \"D-5 \\uc88c\\uc11d\\uc218 \\ud569\", \"day\", \"is\", \"month\", \"naver\", \"runtime\", \"top500\", \"weekday\", \"year\", \"\\uac10\\ub3c5\\uc810\\uc218\", \"\\ub4f1\\uae09\", \"\\ubc30\\uae09\\uc0ac\\uc810\\uc218\", \"\\ubc30\\uc6b0\\uc810\\uc218\", \"\\uc601\\ud654\\uad6c\\ubd84\", \"\\uc7a5\\ub974\"], \"y\": [0.003219638275040302, 0.006420858501502547, 0.005973373703351689, 0.0045236824734030765, 0.005211678880961362, 0.00632231791621852, 0.0025958304890414943, 0.004294550157486526, 0.0062627118096677484, 0.0026118379495985167, 0.0045822854748927755, 0.008367064559288515, 0.005442659387857358, 0.008639396267161023, 0.0, 0.0052313944769508906, 0.12738943932962554, 0.008083976371895072, 0.015669689774115887, 0.0011158557181825577, 0.0019295879049330102, 0.31724861851527547, 0.003032736399661891, 0.008856003945086975, 0.42804264081266974, 0.0007604462158328451, 0.008171724690297984], \"name\": \"0\", \"text\": \"\", \"marker\": {\"color\": \"rgba(255, 153, 51, 0.6)\", \"line\": {\"color\": \"rgba(255, 153, 51, 1.0)\", \"width\": 1}}, \"orientation\": \"v\"}], {\"legend\": {\"bgcolor\": \"#F5F6F9\", \"font\": {\"color\": \"#4D5663\"}}, \"paper_bgcolor\": \"#F5F6F9\", \"plot_bgcolor\": \"#F5F6F9\", \"yaxis1\": {\"tickfont\": {\"color\": \"#4D5663\"}, \"gridcolor\": \"#E1E5ED\", \"titlefont\": {\"color\": \"#4D5663\"}, \"zerolinecolor\": \"#E1E5ED\", \"showgrid\": true, \"title\": \"\"}, \"xaxis1\": {\"tickfont\": {\"color\": \"#4D5663\"}, \"gridcolor\": \"#E1E5ED\", \"titlefont\": {\"color\": \"#4D5663\"}, \"zerolinecolor\": \"#E1E5ED\", \"showgrid\": true, \"title\": \"\"}, \"titlefont\": {\"color\": \"#4D5663\"}}, {\"showLink\": true, \"linkText\": \"Export to plot.ly\"})});</script>"
      ]
     },
     "metadata": {},
     "output_type": "display_data"
    }
   ],
   "source": [
    "importance = pd.DataFrame(forest.feature_importances_, index = training_set[feature].columns)\n",
    "(\n",
    "    importance.assign(header = lambda x: x.index.str.split(\"_\").str[0])\n",
    "                  .groupby(\"header\")[0]\n",
    "                  .sum()\n",
    "                  .iplot(kind=\"bar\")\n",
    ")"
   ]
  },
  {
   "cell_type": "markdown",
   "metadata": {},
   "source": [
    "  "
   ]
  },
  {
   "cell_type": "markdown",
   "metadata": {},
   "source": [
    " "
   ]
  },
  {
   "cell_type": "markdown",
   "metadata": {},
   "source": [
    " "
   ]
  },
  {
   "cell_type": "markdown",
   "metadata": {},
   "source": [
    " "
   ]
  },
  {
   "cell_type": "markdown",
   "metadata": {},
   "source": [
    " ### 전처리"
   ]
  },
  {
   "cell_type": "code",
   "execution_count": 36,
   "metadata": {
    "collapsed": true
   },
   "outputs": [],
   "source": [
    "#상업영화 이외 버리기\n",
    "after_df = after_df.drop(after_df[after_df[\"영화구분\"] != 1].index)\n",
    "before_df = before_df.drop(before_df[before_df[\"영화구분\"] != 1].index)\n",
    "\n",
    "after_df = after_df.drop([\"영화구분\"], axis=1)\n",
    "before_df = before_df.drop([\"영화구분\"], axis=1)"
   ]
  },
  {
   "cell_type": "code",
   "execution_count": 37,
   "metadata": {
    "collapsed": true
   },
   "outputs": [],
   "source": [
    "#미국/한국 영화 이외 버리기\n",
    "after_df = after_df.drop(after_df[after_df[\"국산\"]+after_df[\"미국산\"] == 0].index)\n",
    "before_df = before_df.drop(before_df[before_df[\"국산\"]+before_df[\"미국산\"] == 0].index)"
   ]
  },
  {
   "cell_type": "markdown",
   "metadata": {},
   "source": [
    "### 장르별"
   ]
  },
  {
   "cell_type": "code",
   "execution_count": 57,
   "metadata": {
    "collapsed": true
   },
   "outputs": [],
   "source": [
    "#개봉후 영화 예측\n",
    "after_df2 = after_df.set_index(\"영화명\", drop=True)\n",
    "\n",
    "after_df2[\"genre\"] = after_df2[\"장르\"].map(lambda x: 1 if \"액션\" in x else 0)\n",
    "after_df2 = after_df2.drop(after_df2[after_df2[\"genre\"]==1].index)\n",
    "after_df2 = after_df2.drop([\"genre\"], axis=1)\n",
    "\n",
    "after_df2 = making_list_dummy(after_df2, [\"장르\"])\n",
    "new_df = dummify_category_cols(after_df2,[\"등급\"])\n",
    "\n",
    "target = \"D+13 누적관객수\""
   ]
  },
  {
   "cell_type": "code",
   "execution_count": 75,
   "metadata": {
    "collapsed": true
   },
   "outputs": [],
   "source": [
    "#개봉전 영화 예측\n",
    "before_df2 = before_df.set_index(\"영화명\", drop=True)\n",
    "\n",
    "before_df2[\"genre\"] = before_df2[\"장르\"].map(lambda x: 1 if \"사극\" in x else 0)\n",
    "before_df2 = before_df2.drop(before_df2[before_df2[\"genre\"]==1].index)\n",
    "before_df2 = before_df2.drop([\"genre\"], axis=1)\n",
    "\n",
    "before_df2 = making_list_dummy(before_df2, [\"장르\"])\n",
    "new_df = dummify_category_cols(before_df2,[\"등급\"])\n",
    "\n",
    "target = \"D+7 누적관객수\""
   ]
  },
  {
   "cell_type": "code",
   "execution_count": 76,
   "metadata": {
    "collapsed": true
   },
   "outputs": [],
   "source": [
    "new_df['is_train'] = np.random.uniform(0, 1, len(new_df)) <= .75\n",
    "\n",
    "training_set = new_df[new_df['is_train']==True]\n",
    "test_set = new_df[new_df['is_train']==False]\n",
    "\n",
    "feature = new_df.columns.drop(target)\n",
    "target = target"
   ]
  },
  {
   "cell_type": "code",
   "execution_count": 77,
   "metadata": {
    "collapsed": true
   },
   "outputs": [],
   "source": [
    "forest = RandomForestRegressor(n_estimators=4500, n_jobs=2)"
   ]
  },
  {
   "cell_type": "code",
   "execution_count": 78,
   "metadata": {
    "scrolled": true
   },
   "outputs": [
    {
     "data": {
      "text/plain": [
       "RandomForestRegressor(bootstrap=True, criterion='mse', max_depth=None,\n",
       "           max_features='auto', max_leaf_nodes=None,\n",
       "           min_impurity_split=1e-07, min_samples_leaf=1,\n",
       "           min_samples_split=2, min_weight_fraction_leaf=0.0,\n",
       "           n_estimators=4500, n_jobs=2, oob_score=False, random_state=None,\n",
       "           verbose=0, warm_start=False)"
      ]
     },
     "execution_count": 78,
     "metadata": {},
     "output_type": "execute_result"
    }
   ],
   "source": [
    "forest.fit(training_set[feature], training_set[target])"
   ]
  },
  {
   "cell_type": "code",
   "execution_count": 79,
   "metadata": {},
   "outputs": [
    {
     "data": {
      "text/plain": [
       "0.87075242875735759"
      ]
     },
     "execution_count": 79,
     "metadata": {},
     "output_type": "execute_result"
    }
   ],
   "source": [
    "forest.predict(test_set[feature])\n",
    "forest.score(test_set[feature], test_set[target])"
   ]
  },
  {
   "cell_type": "code",
   "execution_count": 80,
   "metadata": {},
   "outputs": [
    {
     "name": "stdout",
     "output_type": "stream",
     "text": [
      "365321.9424045749\n"
     ]
    }
   ],
   "source": [
    "y_pred=forest.predict(test_set[feature])\n",
    "y_true = test_set[target]\n",
    "rmse = RMSE(y_true,y_pred)\n",
    "print(rmse)"
   ]
  },
  {
   "cell_type": "markdown",
   "metadata": {},
   "source": [
    " "
   ]
  },
  {
   "cell_type": "markdown",
   "metadata": {},
   "source": [
    "### 국가별"
   ]
  },
  {
   "cell_type": "code",
   "execution_count": 51,
   "metadata": {},
   "outputs": [],
   "source": [
    "#개봉후 영화 예측\n",
    "after_df2 = after_df.set_index(\"영화명\", drop=True)\n",
    "\n",
    "after_df2 = after_df2[after_df2[\"미국산\"]==1]\n",
    "after_df2 = after_df2.drop([\"미국산\", \"국산\"], axis=1)\n",
    "\n",
    "after_df2 = making_list_dummy(after_df2, [\"장르\"])\n",
    "new_df = dummify_category_cols(after_df2, [\"등급\"])\n",
    "\n",
    "target = \"D+13 누적관객수\""
   ]
  },
  {
   "cell_type": "code",
   "execution_count": 81,
   "metadata": {
    "collapsed": true
   },
   "outputs": [],
   "source": [
    "#개봉전 영화 예측\n",
    "before_df2 = before_df.set_index(\"영화명\", drop=True)\n",
    "\n",
    "before_df2 = before_df2[before_df2[\"국산\"]==1]\n",
    "before_df2 = before_df2.drop([\"미국산\", \"국산\"], axis=1)\n",
    "\n",
    "before_df2 = making_list_dummy(before_df2, [\"장르\"])\n",
    "new_df = dummify_category_cols(before_df2,[\"등급\"])\n",
    "\n",
    "target = \"D+7 누적관객수\""
   ]
  },
  {
   "cell_type": "code",
   "execution_count": 82,
   "metadata": {
    "collapsed": true
   },
   "outputs": [],
   "source": [
    "new_df['is_train'] = np.random.uniform(0, 1, len(new_df)) <= .75\n",
    "\n",
    "training_set = new_df[new_df['is_train']==True]\n",
    "test_set = new_df[new_df['is_train']==False]\n",
    "\n",
    "feature = new_df.columns.drop(target)\n",
    "target = target"
   ]
  },
  {
   "cell_type": "code",
   "execution_count": 83,
   "metadata": {
    "collapsed": true
   },
   "outputs": [],
   "source": [
    "forest = RandomForestRegressor(n_estimators=4500, n_jobs=2)"
   ]
  },
  {
   "cell_type": "code",
   "execution_count": 84,
   "metadata": {},
   "outputs": [
    {
     "data": {
      "text/plain": [
       "RandomForestRegressor(bootstrap=True, criterion='mse', max_depth=None,\n",
       "           max_features='auto', max_leaf_nodes=None,\n",
       "           min_impurity_split=1e-07, min_samples_leaf=1,\n",
       "           min_samples_split=2, min_weight_fraction_leaf=0.0,\n",
       "           n_estimators=4500, n_jobs=2, oob_score=False, random_state=None,\n",
       "           verbose=0, warm_start=False)"
      ]
     },
     "execution_count": 84,
     "metadata": {},
     "output_type": "execute_result"
    }
   ],
   "source": [
    "forest.fit(training_set[feature], training_set[target])"
   ]
  },
  {
   "cell_type": "code",
   "execution_count": 85,
   "metadata": {},
   "outputs": [
    {
     "data": {
      "text/plain": [
       "0.90355294841899769"
      ]
     },
     "execution_count": 85,
     "metadata": {},
     "output_type": "execute_result"
    }
   ],
   "source": [
    "forest.predict(test_set[feature])\n",
    "forest.score(test_set[feature], test_set[target])"
   ]
  },
  {
   "cell_type": "code",
   "execution_count": 86,
   "metadata": {},
   "outputs": [
    {
     "name": "stdout",
     "output_type": "stream",
     "text": [
      "353100.3401991176\n"
     ]
    }
   ],
   "source": [
    "y_pred=forest.predict(test_set[feature])\n",
    "y_true = test_set[target]\n",
    "rmse = RMSE(y_true,y_pred)\n",
    "print(rmse)"
   ]
  },
  {
   "cell_type": "code",
   "execution_count": null,
   "metadata": {
    "collapsed": true
   },
   "outputs": [],
   "source": []
  }
 ],
 "metadata": {
  "kernelspec": {
   "display_name": "Python 3",
   "language": "python",
   "name": "python3"
  },
  "language_info": {
   "codemirror_mode": {
    "name": "ipython",
    "version": 3
   },
   "file_extension": ".py",
   "mimetype": "text/x-python",
   "name": "python",
   "nbconvert_exporter": "python",
   "pygments_lexer": "ipython3",
   "version": "3.7.1"
  }
 },
 "nbformat": 4,
 "nbformat_minor": 2
}
