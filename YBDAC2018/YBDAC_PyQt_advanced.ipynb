{
 "cells": [
  {
   "cell_type": "markdown",
   "metadata": {},
   "source": [
    "# pyQt4\n",
    "- http://pythonstudy.xyz/python/article/102-PyQt4-%EC%84%A4%EC%B9%98\n",
    "- https://www.tutorialspoint.com/pyqt/index.html\n",
    "- https://stackoverflow.com/questions/44603119/how-to-display-a-pandas-data-frame-with-pyqt5/44605011\n",
    "- https://www.saltycrane.com/blog/2008/01/how-to-install-pyqt4-on-ubuntu-linux/\n",
    "- https://www.lfd.uci.edu/~gohlke/pythonlibs/#pyqt4"
   ]
  },
  {
   "cell_type": "code",
   "execution_count": 1,
   "metadata": {},
   "outputs": [],
   "source": [
    "from PyQt5.QtGui import *\n",
    "from PyQt5.QtCore import *\n",
    "from PyQt5.QtWidgets import *\n",
    "\n",
    "import pandas as pd\n",
    "import numpy as np\n",
    "import random\n",
    "\n",
    "import sys"
   ]
  },
  {
   "cell_type": "code",
   "execution_count": 2,
   "metadata": {},
   "outputs": [],
   "source": [
    "class MyDialog(QDialog):\n",
    "    def __init__(self):\n",
    "        QDialog.__init__(self)  \n",
    "        \n",
    "        # Window\n",
    "        self.setWindowTitle('Prain Data Management Tool')\n",
    "         \n",
    "        # Column\n",
    "        col_lst1 = [\"고객사\", \"문의일자\", \"접수자\"]\n",
    "        col_lst2 = [\"채널\", \"접수경로\", \"계약기간(개월)\"]\n",
    "        col_lst3 = [\"내용\"]\n",
    "        col_lst4 = [\"미팅 및 REP\", \"PT 리포트\"]\n",
    "        col_lst5 = [\"Budget(천만 원)\", \"계약액(천만 원)\", \"BId(천만 원)\"]\n",
    "        col_lst6 = [\"경쟁사\", \"최종선정사\"]\n",
    "        col_lst7 = [\"진행\", \"결과\"]\n",
    "        col_lst8 = \"결과구분\"\n",
    "        col_lst9 = [\"결과보고\"]\n",
    "        \n",
    "        # Label 및 Edit의 Frmae\n",
    "        ## frame1\n",
    "        label_lst1, edit_lst1 = self.making_Label_Edit(col_lst1)\n",
    "        layout1 = QGridLayout() \n",
    "        frame1 = self.making_Frame(layout1, label_lst1, edit_lst1, [(1,1), (1,2), (1,3)])\n",
    "\n",
    "        ## frame2\n",
    "        item_lst2 = [[\"article\", \"client\", \"Grapevine\", \"internet\", \"Ketchum\", \"media\", \"outbound\", \"staff\", \"tie-in\", \"입찰\"],\n",
    "                     [\"공고\", \"대표연락\", \"변\", \"소개\", \"신문\", \"전\", \"현\"],\n",
    "                     list(map(lambda x : str(round(x,1)), list(range(25))))]\n",
    "        label_lst2, cb_lst2 = self.making_Label_ComboBox(col_lst2, item_lst2)\n",
    "        layout2 = QGridLayout() \n",
    "        frame2 = self.making_Frame(layout2, label_lst2, cb_lst2, [(1,1), (1,2), (1,3)])\n",
    "        \n",
    "        ## frame3\n",
    "        label_lst3, edit_lst3 = self.making_Label_Edit2(col_lst3)\n",
    "        layout3 = QGridLayout() \n",
    "        frame3 = self.making_Frame(layout3, label_lst3, edit_lst3, [(1,1)])\n",
    "        \n",
    "        ## frame4\n",
    "        label_lst4, edit_lst4 = self.making_Label_Edit2(col_lst4)\n",
    "        layout4 = QGridLayout() \n",
    "        frame4 = self.making_Frame(layout4, label_lst4, edit_lst4, [(1,1), (3,1)])\n",
    "        \n",
    "        ## frame5\n",
    "        item_lst5 = [list(map(lambda x : str(round(x,1)), list(np.arange(0, 100, 0.1)))), \n",
    "                     list(map(lambda x : str(round(x,1)), list(np.arange(0, 100, 0.1)))), \n",
    "                     [\"경쟁PT\", \"경쟁회사소개\", \"기타\", \"단독계약\", \"수의계약\"]]\n",
    "        label_lst5, cb_lst5 = self.making_Label_ComboBox(col_lst5, item_lst5)\n",
    "        layout5 = QGridLayout() \n",
    "        frame5 = self.making_Frame(layout5, label_lst5, cb_lst5, [(1,1), (1,2), (1,3)])\n",
    "        \n",
    "        ## frame6\n",
    "        label_lst6, edit_lst6 = self.making_Label_Edit(col_lst6)\n",
    "        layout6 = QGridLayout() \n",
    "        frame6 = self.making_Frame(layout6, label_lst6, edit_lst6, [(1,1), (1,2)])\n",
    "        \n",
    "        ## frame7\n",
    "        item_lst7 = [[\"검토\", \"접수\", \"참여\"],\n",
    "                     [\"cancelled\", \"drop\", \"failed\", \"holding\", \"ing\", \"pending\", \"success\", \"tie-in-failed\", \"기타\"]]\n",
    "        label_lst7, cb_lst7 = self.making_Label_ComboBox(col_lst7, item_lst7)\n",
    "        layout7 = QGridLayout() \n",
    "        frame7 = self.making_Frame(layout7, label_lst7, cb_lst7, [(1,1), (1,2)])\n",
    "        \n",
    "        ## frame8\n",
    "        item_lst8 = [\"PT\", \"심사위원\", \"프레인 브랜드\", \"Q & A\", \"네트워크\", \"리소스\", \"팀구성\", \"실행프로그램\", \"예산\", \"전략\"]\n",
    "        cb_lst8 = self.making_CheckBox(item_lst8)\n",
    "        label8 = QLabel(col_lst8)\n",
    "        layout8 = QGridLayout()\n",
    "        frame8 = self.making_Frame2(layout8, label8 , cb_lst8, [(1,1),(2,1),(2,2),(2,3),(2,4),(2,5),(3,1),(3,2),(3,3),(3,4),(3,5)])\n",
    "        \n",
    "        ## frame9\n",
    "        label_lst9, edit_lst9 = self.making_Label_Edit2(col_lst9)\n",
    "        layout9 = QGridLayout() \n",
    "        frame9 = self.making_Frame(layout9, label_lst9, edit_lst9, [(1,1)])\n",
    "\n",
    "        # Button\n",
    "        Button = QPushButton(\"등록하기\")\n",
    "        Button.clicked.connect(self.btnOkClicked)\n",
    "\n",
    "        # Frame\n",
    "        frame1.setFrameShape(QFrame.StyledPanel)\n",
    "        frame2.setFrameShape(QFrame.StyledPanel)\n",
    "        frame3.setFrameShape(QFrame.StyledPanel)\n",
    "        frame4.setFrameShape(QFrame.StyledPanel)\n",
    "        frame5.setFrameShape(QFrame.StyledPanel)\n",
    "        frame6.setFrameShape(QFrame.StyledPanel)\n",
    "        frame7.setFrameShape(QFrame.StyledPanel)\n",
    "        frame8.setFrameShape(QFrame.StyledPanel)\n",
    "        frame9.setFrameShape(QFrame.StyledPanel)\n",
    "        \n",
    "        # Scroll\n",
    "        layout = QVBoxLayout()\n",
    "\n",
    "        scrollWidget = QWidget()\n",
    "        scrollWidget.setLayout(layout)\n",
    "\n",
    "        scroll = QScrollArea()\n",
    "        scroll.setWidgetResizable(True)\n",
    "        scroll.setWidget(scrollWidget)\n",
    "        scroll.setMinimumHeight(640)\n",
    "        scroll.setMinimumWidth(560)\n",
    "    \n",
    "        layout.addWidget(frame1)\n",
    "        layout.addWidget(frame2)\n",
    "        layout.addWidget(frame3)\n",
    "        layout.addWidget(frame4)\n",
    "        layout.addWidget(frame5)\n",
    "        layout.addWidget(frame6)\n",
    "        layout.addWidget(frame7)\n",
    "        layout.addWidget(frame8)\n",
    "        layout.addWidget(frame9)\n",
    "        \n",
    "        # Table\n",
    "        table = QTableView()\n",
    "        path = \"data/preprocessed_teo.csv\"\n",
    "        df = pd.read_csv(path, encoding=\"cp949\")\n",
    "        df[\"접수자\"] = \"\"\n",
    "        \n",
    "        model = PandasModel(df)\n",
    "        table.setModel(model)\n",
    "        table.setMinimumWidth(720)\n",
    "        \n",
    "        TableLayout = QVBoxLayout()\n",
    "        TableLayout.addWidget(table)\n",
    "\n",
    "        # Tab\n",
    "        tab1 = QWidget()\n",
    "        tab2 = QWidget()\n",
    "        tab3 = QWidget()\n",
    "        tab_widget = QTabWidget()\n",
    "        tab_widget.addTab(tab1, \"DataFrame\")\n",
    "        tab_widget.addTab(tab2, \"Clustering\")\n",
    "        tab_widget.addTab(tab3, \"Analysis\")\n",
    "        \n",
    "        ## tab2\n",
    "        col_name = [\"고객사\", \"문의일자\", \"문의개요\", \"채널\", \"접수경로\", \"간부여부\", \"사업기간\", \n",
    "                    \"입찰참가자격\", \"입찰마감일\", \"접수내용\", \"파일명#1\", \"파일명#2\", \"Budget\", \"계약기간\", \n",
    "                    \"계약액\", \"Bid\", \"경쟁사\", \"최종선정사\", \"진행\", \"결과\", \"결과구분\", \n",
    "                    \"결과보고\", \"link\", \"기업명\", \"소속그룹\", \"업종\", \"사업내용\", \"기업형태\", \"기업주소\", \n",
    "                    \"자본금\", \"매출액\", \"영업이익\", \"기업개요 및 비전\", \"접수자\"]\n",
    "        table2 = QTableView()\n",
    "        df2 = pd.DataFrame([col_name,col_name])\n",
    "        \n",
    "        model2 = PandasModel(df2)\n",
    "        table2.setModel(model2)\n",
    "        table2.setMinimumWidth(700)\n",
    "        \n",
    "        list2 = QListWidget()\n",
    "        list2.addItems([])\n",
    "        \n",
    "        TableLayout2 = QGridLayout()\n",
    "        TableLayout2.addWidget(table2,1,1)\n",
    "        TableLayout2.addWidget(list2,2,1)\n",
    "        \n",
    "        ## tab3\n",
    "        label3_1 = QLabel()\n",
    "        label3_2 = QLabel()\n",
    "        \n",
    "        font = QFont()\n",
    "        font.setPointSize(font.pointSize() +1)\n",
    "        font.setItalic(True)\n",
    "        label3_2.setFont(font)\n",
    "        \n",
    "        TableLayout3 = QGridLayout()\n",
    "        TableLayout3.addWidget(label3_1,1,1)\n",
    "        TableLayout3.addWidget(label3_2,2,1)\n",
    "        \n",
    "        \n",
    "        ## tab total\n",
    "        tab1.setLayout(TableLayout)\n",
    "        tab2.setLayout(TableLayout2)\n",
    "        tab3.setLayout(TableLayout3)\n",
    "        \n",
    "        # Dialog\n",
    "        layout2 = QGridLayout()\n",
    "        layout2.addWidget(tab_widget,1,1)\n",
    "        layout2.addWidget(scroll,1,2)\n",
    "        layout2.addWidget(Button,2,2)\n",
    "        \n",
    "        self.setLayout(layout2)\n",
    "    \n",
    "        # 기타\n",
    "        self.widget_lst = [edit_lst1, cb_lst2, edit_lst3, edit_lst4, cb_lst5, edit_lst6, cb_lst7, cb_lst8, edit_lst9]\n",
    "        self.df = df.copy()\n",
    "        self.df2 = df.copy()\n",
    "        self.table = table\n",
    "        self.table2 = table2\n",
    "        self.list2 = list2\n",
    "        self.label3_1 = label3_1\n",
    "        self.label3_2 = label3_2\n",
    "        self.tab1 = tab1\n",
    "        self.tab2 = tab2\n",
    "        self.tab3 = tab3\n",
    "        \n",
    "    def btnOkClicked(self):\n",
    "        # text 추출\n",
    "        company_customer = self.widget_lst[0][0].text().strip()\n",
    "        date = self.widget_lst[0][1].text().strip()\n",
    "        receiver = self.widget_lst[0][2].text().strip()\n",
    "        \n",
    "        channel = self.widget_lst[1][0].currentText().strip()\n",
    "        path = self.widget_lst[1][1].currentText().strip()\n",
    "        contract_duration = self.widget_lst[1][2].currentText().strip()\n",
    "        \n",
    "        content = self.widget_lst[2][0].toPlainText().strip()\n",
    "        \n",
    "        meeting_and_rep = self.widget_lst[3][0].toPlainText().strip()\n",
    "        pt_report = self.widget_lst[3][1].toPlainText().strip()\n",
    "        \n",
    "        budget = self.widget_lst[4][0].currentText().strip()\n",
    "        contract_amount = self.widget_lst[4][1].currentText().strip()\n",
    "        bid = self.widget_lst[4][2].currentText().strip()\n",
    "        \n",
    "        company_competing = self.widget_lst[5][0].text().strip()\n",
    "        company_result = self.widget_lst[5][1].text().strip()\n",
    "        \n",
    "        progress = self.widget_lst[6][0].currentText().strip()\n",
    "        result = self.widget_lst[6][1].currentText().strip()\n",
    "        \n",
    "        col_lst = [\"PT\", \"심사위원\", \"프레인 브랜드\", \"Q & A\", \"네트워크\", \"리소스\", \"팀구성\", \"실행프로그램\", \"예산\", \"전략\"]\n",
    "        result_content_lst = [button.checkState() for button in self.widget_lst[7]]\n",
    "        result_content_lst2 = sorted([x for x,y in zip(col_lst, result_content_lst) if y])\n",
    "        result_content = \", \".join(result_content_lst2).strip()        \n",
    "        \n",
    "        result_report = self.widget_lst[8][0].toPlainText().strip()\n",
    "        \n",
    "        # tab1 - dataframe 변경\n",
    "        col_name = [\"고객사\", \"문의일자\", \"문의개요\", \"채널\", \"접수경로\", \"간부여부\", \"사업기간\", \n",
    "                    \"입찰참가자격\", \"입찰마감일\", \"접수내용\", \"파일명#1\", \"파일명#2\", \"Budget\", \"계약기간\", \n",
    "                    \"계약액\", \"Bid\", \"경쟁사\", \"최종선정사\", \"진행\", \"결과\", \"결과구분\", \n",
    "                    \"결과보고\", \"link\", \"기업명\", \"소속그룹\", \"업종\", \"사업내용\", \"기업형태\", \"기업주소\", \n",
    "                    \"자본금\", \"매출액\", \"영업이익\", \"기업개요 및 비전\", \"접수자\"]\n",
    "        new_data = pd.DataFrame([company_customer, date, \"문의개요\", channel, path, \"간부여부\", contract_duration, \n",
    "                                 \"입찰참가자격\", \"입찰마감일\", content, \"파일명#1\", \"파일명#2\", budget, contract_duration, \n",
    "                                 contract_amount, bid, company_competing, company_result, progress, result, result_content, \n",
    "                                 result_report, \"link\", company_customer, \"소속그룹\", \"업종\", \"사업내용\", \"기업형태\", \"기업주소\", \n",
    "                                 \"자본금\", \"매출액\", \"영업이익\", \"기업개요 및 비전\", receiver],\n",
    "                                 col_name).T\n",
    "        \n",
    "        self.df2 = pd.concat([self.df2, new_data])[col_name].reset_index(drop=True)\n",
    "        model = PandasModel(self.df2)\n",
    "        self.table.setModel(model)\n",
    "        \n",
    "        # tab2 - clustering결과 반영\n",
    "        rand_num = random.randrange(1000,1500)\n",
    "        model2 = PandasModel(self.df2[rand_num:rand_num+50])\n",
    "        self.table2.setModel(model2)\n",
    "\n",
    "        self.list2.addItems([\"결과_보고서_1.docs\", \"발표_1.pptx\", \"미팅_1.pptx\", \"\",\n",
    "                             \"결과_보고서_2.docs\", \"발표_2.pptx\", \"미팅_2.pptx\", \"\",\n",
    "                             \"결과_보고서_3.docs\", \"발표_3.pptx\", \"미팅_3.pptx\", \"\",\n",
    "                             \"결과_보고서_4.docs\", \"발표_4.pptx\", \"미팅_4.pptx\", \"\",\n",
    "                             \"결과_보고서_5.docs\", \"발표_5.pptx\", \"미팅_5.pptx\", \"\",\n",
    "                             \"결과_보고서_6.docs\", \"발표_6.pptx\", \"미팅_6.pptx\", \"\",\n",
    "                             \"결과_보고서_7.docs\", \"발표_7.pptx\", \"미팅_7.pptx\", \"\"])\n",
    "   \n",
    "        # tab3 - analysis결과 반영\n",
    "\n",
    "        image3 = QPixmap('pyqt_image1.PNG')\n",
    "        self.label3_1.setPixmap(image3)\n",
    "        self.label3_2.setText(\" \"+company_customer + \"의 수주확률은 \" + str(random.randrange(40,80))+ \"% 입니다.\\n 공기관에서 진행하는 프로젝트이므로 Budget은 평균이상이지만, 경쟁PT로 진행되기 때문에 많은 리소스가 필요합니다.\\n 또한, 경쟁하게 될 기업은 A기업, B기업, C기업이 있으며, 과거 기록을 살펴보았을 때 A기업과 B기업 보다는\\n 상대적으로 우위를 점하고 있지만, C기업과는 치열한 경쟁이 예상됩니다.\\n\\n 그래프 상으로는 해당 공기업과의 Budget은 증가하지만,\\n 실제 계약건수는 감소하는 추세이므로 프로젝트에 각별한 주의가 필요합니다.\\n\\n 해당 프로젝트와 비슷했던 이전의 프로젝트는 clustering탭의 4번, 5번 프로젝트가 있습니다.\")\n",
    "\n",
    "\n",
    "    def making_Label_Edit(self, name_lst) :\n",
    "        label_lst = []\n",
    "        edit_lst = []\n",
    "        \n",
    "        for name in name_lst :\n",
    "            label = QLabel(name)\n",
    "            edit = QLineEdit()\n",
    "            \n",
    "            label_lst.append(label)\n",
    "            edit_lst.append(edit)\n",
    "        \n",
    "        return label_lst, edit_lst\n",
    "    \n",
    "    def making_Label_Edit2(self, name_lst) :\n",
    "        label_lst = []\n",
    "        edit_lst = []\n",
    "        \n",
    "        for name in name_lst :\n",
    "            label = QLabel(name)\n",
    "            edit = QPlainTextEdit()\n",
    "            edit.adjustSize()\n",
    "            \n",
    "            label_lst.append(label)\n",
    "            edit_lst.append(edit)\n",
    "        \n",
    "        return label_lst, edit_lst\n",
    "    \n",
    "    def making_Label_ComboBox(self, name_lst, item_lst) :\n",
    "        label_lst = []\n",
    "        cb_lst = []\n",
    "        \n",
    "        for name, item in zip(name_lst, item_lst) :\n",
    "            label = QLabel(name)\n",
    "            cb = QComboBox()\n",
    "            cb.addItems(item)\n",
    "            \n",
    "            label_lst.append(label)\n",
    "            cb_lst.append(cb)\n",
    "        \n",
    "        return label_lst, cb_lst\n",
    "    \n",
    "    def making_CheckBox(self, item_lst) : \n",
    "        button_lst = []\n",
    "        idx = 0 \n",
    "        \n",
    "        for item in item_lst :\n",
    "            button = QCheckBox(item)\n",
    "            button.setChecked(False)\n",
    "            button_lst.append(button)\n",
    "        \n",
    "        return button_lst\n",
    "    \n",
    "    def making_Frame(self, layout, label_lst, widget_lst, pos_lst) :\n",
    "        for label, widget, pos in zip(label_lst, widget_lst, pos_lst) :  \n",
    "            layout.addWidget(label, pos[0], pos[1])\n",
    "            layout.addWidget(widget, pos[0]+1, pos[1])\n",
    "            \n",
    "        frame = QFrame()\n",
    "        frame.setLayout(layout)\n",
    "        \n",
    "        return frame\n",
    "    \n",
    "    def making_Frame2(self, layout, label, widget_lst, pos_lst) :\n",
    "        layout.addWidget(label, pos_lst[0][0], pos_lst[1][1])\n",
    "        \n",
    "        for widget, pos in zip(widget_lst, pos_lst[1:]) :  \n",
    "            layout.addWidget(widget, pos[0], pos[1])\n",
    "            \n",
    "        frame = QFrame()\n",
    "        frame.setLayout(layout)\n",
    "        \n",
    "        return frame"
   ]
  },
  {
   "cell_type": "code",
   "execution_count": 3,
   "metadata": {},
   "outputs": [],
   "source": [
    "class PandasModel(QAbstractTableModel): \n",
    "    def __init__(self, df = pd.DataFrame(), parent=None): \n",
    "        QAbstractTableModel.__init__(self, parent=parent)\n",
    "        self._df = df\n",
    "\n",
    "    def headerData(self, section, orientation, role=Qt.DisplayRole):\n",
    "        if role != Qt.DisplayRole:\n",
    "            return QVariant()\n",
    "\n",
    "        if orientation == Qt.Horizontal:\n",
    "            try:\n",
    "                return self._df.columns.tolist()[section]\n",
    "            except (IndexError, ):\n",
    "                return QVariant()\n",
    "        elif orientation == Qt.Vertical:\n",
    "            try:\n",
    "                return self._df.index.tolist()[section]\n",
    "            except (IndexError, ):\n",
    "                return QVariant()\n",
    "\n",
    "    def data(self, index, role=Qt.DisplayRole):\n",
    "        if role != Qt.DisplayRole:\n",
    "            return QVariant()\n",
    "\n",
    "        if not index.isValid():\n",
    "            return QVariant()\n",
    "\n",
    "        return QVariant(str(self._df.iloc[index.row(), index.column()]))\n",
    "\n",
    "    def setData(self, index, value, role):\n",
    "        row = self._df.index[index.row()]\n",
    "        col = self._df.columns[index.column()]\n",
    "        if hasattr(value, 'toPyObject'):\n",
    "            value = value.toPyObject()\n",
    "        else:\n",
    "            dtype = self._df[col].dtype\n",
    "            if dtype != object:\n",
    "                value = None if value == '' else dtype.type(value)\n",
    "        self._df.set_value(row, col, value)\n",
    "        return True\n",
    "\n",
    "    def rowCount(self, parent=QModelIndex()): \n",
    "        return len(self._df.index)\n",
    "\n",
    "    def columnCount(self, parent=QModelIndex()): \n",
    "        return len(self._df.columns)\n",
    "\n",
    "    def sort(self, column, order):\n",
    "        colname = self._df.columns.tolist()[column]\n",
    "        self.layoutAboutToBeChanged.emit()\n",
    "        self._df.sort_values(colname, ascending= order == Qt.AscendingOrder, inplace=True)\n",
    "        self._df.reset_index(inplace=True, drop=True)\n",
    "        self.layoutChanged.emit()"
   ]
  },
  {
   "cell_type": "code",
   "execution_count": 4,
   "metadata": {},
   "outputs": [
    {
     "ename": "FileNotFoundError",
     "evalue": "File b'data/preprocessed_teo.csv' does not exist",
     "output_type": "error",
     "traceback": [
      "\u001b[1;31m---------------------------------------------------------------------------\u001b[0m",
      "\u001b[1;31mFileNotFoundError\u001b[0m                         Traceback (most recent call last)",
      "\u001b[1;32m<ipython-input-4-869b19871580>\u001b[0m in \u001b[0;36m<module>\u001b[1;34m\u001b[0m\n\u001b[0;32m      1\u001b[0m \u001b[0mapp\u001b[0m \u001b[1;33m=\u001b[0m \u001b[0mQApplication\u001b[0m\u001b[1;33m(\u001b[0m\u001b[1;33m[\u001b[0m\u001b[1;33m]\u001b[0m\u001b[1;33m)\u001b[0m\u001b[1;33m\u001b[0m\u001b[1;33m\u001b[0m\u001b[0m\n\u001b[1;32m----> 2\u001b[1;33m \u001b[0mdialog\u001b[0m \u001b[1;33m=\u001b[0m \u001b[0mMyDialog\u001b[0m\u001b[1;33m(\u001b[0m\u001b[1;33m)\u001b[0m\u001b[1;33m\u001b[0m\u001b[1;33m\u001b[0m\u001b[0m\n\u001b[0m\u001b[0;32m      3\u001b[0m \u001b[0mdialog\u001b[0m\u001b[1;33m.\u001b[0m\u001b[0mshow\u001b[0m\u001b[1;33m(\u001b[0m\u001b[1;33m)\u001b[0m\u001b[1;33m\u001b[0m\u001b[1;33m\u001b[0m\u001b[0m\n\u001b[0;32m      4\u001b[0m \u001b[0msys\u001b[0m\u001b[1;33m.\u001b[0m\u001b[0mexit\u001b[0m\u001b[1;33m(\u001b[0m\u001b[0mapp\u001b[0m\u001b[1;33m.\u001b[0m\u001b[0mexec_\u001b[0m\u001b[1;33m(\u001b[0m\u001b[1;33m)\u001b[0m\u001b[1;33m)\u001b[0m\u001b[1;33m\u001b[0m\u001b[1;33m\u001b[0m\u001b[0m\n",
      "\u001b[1;32m<ipython-input-2-d316b37029b7>\u001b[0m in \u001b[0;36m__init__\u001b[1;34m(self)\u001b[0m\n\u001b[0;32m    113\u001b[0m         \u001b[0mtable\u001b[0m \u001b[1;33m=\u001b[0m \u001b[0mQTableView\u001b[0m\u001b[1;33m(\u001b[0m\u001b[1;33m)\u001b[0m\u001b[1;33m\u001b[0m\u001b[1;33m\u001b[0m\u001b[0m\n\u001b[0;32m    114\u001b[0m         \u001b[0mpath\u001b[0m \u001b[1;33m=\u001b[0m \u001b[1;34m\"data/preprocessed_teo.csv\"\u001b[0m\u001b[1;33m\u001b[0m\u001b[1;33m\u001b[0m\u001b[0m\n\u001b[1;32m--> 115\u001b[1;33m         \u001b[0mdf\u001b[0m \u001b[1;33m=\u001b[0m \u001b[0mpd\u001b[0m\u001b[1;33m.\u001b[0m\u001b[0mread_csv\u001b[0m\u001b[1;33m(\u001b[0m\u001b[0mpath\u001b[0m\u001b[1;33m,\u001b[0m \u001b[0mencoding\u001b[0m\u001b[1;33m=\u001b[0m\u001b[1;34m\"cp949\"\u001b[0m\u001b[1;33m)\u001b[0m\u001b[1;33m\u001b[0m\u001b[1;33m\u001b[0m\u001b[0m\n\u001b[0m\u001b[0;32m    116\u001b[0m         \u001b[0mdf\u001b[0m\u001b[1;33m[\u001b[0m\u001b[1;34m\"접수자\"\u001b[0m\u001b[1;33m]\u001b[0m \u001b[1;33m=\u001b[0m \u001b[1;34m\"\"\u001b[0m\u001b[1;33m\u001b[0m\u001b[1;33m\u001b[0m\u001b[0m\n\u001b[0;32m    117\u001b[0m \u001b[1;33m\u001b[0m\u001b[0m\n",
      "\u001b[1;32m~\\AppData\\Local\\Continuum\\anaconda3\\lib\\site-packages\\pandas\\io\\parsers.py\u001b[0m in \u001b[0;36mparser_f\u001b[1;34m(filepath_or_buffer, sep, delimiter, header, names, index_col, usecols, squeeze, prefix, mangle_dupe_cols, dtype, engine, converters, true_values, false_values, skipinitialspace, skiprows, nrows, na_values, keep_default_na, na_filter, verbose, skip_blank_lines, parse_dates, infer_datetime_format, keep_date_col, date_parser, dayfirst, iterator, chunksize, compression, thousands, decimal, lineterminator, quotechar, quoting, escapechar, comment, encoding, dialect, tupleize_cols, error_bad_lines, warn_bad_lines, skipfooter, doublequote, delim_whitespace, low_memory, memory_map, float_precision)\u001b[0m\n\u001b[0;32m    676\u001b[0m                     skip_blank_lines=skip_blank_lines)\n\u001b[0;32m    677\u001b[0m \u001b[1;33m\u001b[0m\u001b[0m\n\u001b[1;32m--> 678\u001b[1;33m         \u001b[1;32mreturn\u001b[0m \u001b[0m_read\u001b[0m\u001b[1;33m(\u001b[0m\u001b[0mfilepath_or_buffer\u001b[0m\u001b[1;33m,\u001b[0m \u001b[0mkwds\u001b[0m\u001b[1;33m)\u001b[0m\u001b[1;33m\u001b[0m\u001b[1;33m\u001b[0m\u001b[0m\n\u001b[0m\u001b[0;32m    679\u001b[0m \u001b[1;33m\u001b[0m\u001b[0m\n\u001b[0;32m    680\u001b[0m     \u001b[0mparser_f\u001b[0m\u001b[1;33m.\u001b[0m\u001b[0m__name__\u001b[0m \u001b[1;33m=\u001b[0m \u001b[0mname\u001b[0m\u001b[1;33m\u001b[0m\u001b[1;33m\u001b[0m\u001b[0m\n",
      "\u001b[1;32m~\\AppData\\Local\\Continuum\\anaconda3\\lib\\site-packages\\pandas\\io\\parsers.py\u001b[0m in \u001b[0;36m_read\u001b[1;34m(filepath_or_buffer, kwds)\u001b[0m\n\u001b[0;32m    438\u001b[0m \u001b[1;33m\u001b[0m\u001b[0m\n\u001b[0;32m    439\u001b[0m     \u001b[1;31m# Create the parser.\u001b[0m\u001b[1;33m\u001b[0m\u001b[1;33m\u001b[0m\u001b[1;33m\u001b[0m\u001b[0m\n\u001b[1;32m--> 440\u001b[1;33m     \u001b[0mparser\u001b[0m \u001b[1;33m=\u001b[0m \u001b[0mTextFileReader\u001b[0m\u001b[1;33m(\u001b[0m\u001b[0mfilepath_or_buffer\u001b[0m\u001b[1;33m,\u001b[0m \u001b[1;33m**\u001b[0m\u001b[0mkwds\u001b[0m\u001b[1;33m)\u001b[0m\u001b[1;33m\u001b[0m\u001b[1;33m\u001b[0m\u001b[0m\n\u001b[0m\u001b[0;32m    441\u001b[0m \u001b[1;33m\u001b[0m\u001b[0m\n\u001b[0;32m    442\u001b[0m     \u001b[1;32mif\u001b[0m \u001b[0mchunksize\u001b[0m \u001b[1;32mor\u001b[0m \u001b[0miterator\u001b[0m\u001b[1;33m:\u001b[0m\u001b[1;33m\u001b[0m\u001b[1;33m\u001b[0m\u001b[0m\n",
      "\u001b[1;32m~\\AppData\\Local\\Continuum\\anaconda3\\lib\\site-packages\\pandas\\io\\parsers.py\u001b[0m in \u001b[0;36m__init__\u001b[1;34m(self, f, engine, **kwds)\u001b[0m\n\u001b[0;32m    785\u001b[0m             \u001b[0mself\u001b[0m\u001b[1;33m.\u001b[0m\u001b[0moptions\u001b[0m\u001b[1;33m[\u001b[0m\u001b[1;34m'has_index_names'\u001b[0m\u001b[1;33m]\u001b[0m \u001b[1;33m=\u001b[0m \u001b[0mkwds\u001b[0m\u001b[1;33m[\u001b[0m\u001b[1;34m'has_index_names'\u001b[0m\u001b[1;33m]\u001b[0m\u001b[1;33m\u001b[0m\u001b[1;33m\u001b[0m\u001b[0m\n\u001b[0;32m    786\u001b[0m \u001b[1;33m\u001b[0m\u001b[0m\n\u001b[1;32m--> 787\u001b[1;33m         \u001b[0mself\u001b[0m\u001b[1;33m.\u001b[0m\u001b[0m_make_engine\u001b[0m\u001b[1;33m(\u001b[0m\u001b[0mself\u001b[0m\u001b[1;33m.\u001b[0m\u001b[0mengine\u001b[0m\u001b[1;33m)\u001b[0m\u001b[1;33m\u001b[0m\u001b[1;33m\u001b[0m\u001b[0m\n\u001b[0m\u001b[0;32m    788\u001b[0m \u001b[1;33m\u001b[0m\u001b[0m\n\u001b[0;32m    789\u001b[0m     \u001b[1;32mdef\u001b[0m \u001b[0mclose\u001b[0m\u001b[1;33m(\u001b[0m\u001b[0mself\u001b[0m\u001b[1;33m)\u001b[0m\u001b[1;33m:\u001b[0m\u001b[1;33m\u001b[0m\u001b[1;33m\u001b[0m\u001b[0m\n",
      "\u001b[1;32m~\\AppData\\Local\\Continuum\\anaconda3\\lib\\site-packages\\pandas\\io\\parsers.py\u001b[0m in \u001b[0;36m_make_engine\u001b[1;34m(self, engine)\u001b[0m\n\u001b[0;32m   1012\u001b[0m     \u001b[1;32mdef\u001b[0m \u001b[0m_make_engine\u001b[0m\u001b[1;33m(\u001b[0m\u001b[0mself\u001b[0m\u001b[1;33m,\u001b[0m \u001b[0mengine\u001b[0m\u001b[1;33m=\u001b[0m\u001b[1;34m'c'\u001b[0m\u001b[1;33m)\u001b[0m\u001b[1;33m:\u001b[0m\u001b[1;33m\u001b[0m\u001b[1;33m\u001b[0m\u001b[0m\n\u001b[0;32m   1013\u001b[0m         \u001b[1;32mif\u001b[0m \u001b[0mengine\u001b[0m \u001b[1;33m==\u001b[0m \u001b[1;34m'c'\u001b[0m\u001b[1;33m:\u001b[0m\u001b[1;33m\u001b[0m\u001b[1;33m\u001b[0m\u001b[0m\n\u001b[1;32m-> 1014\u001b[1;33m             \u001b[0mself\u001b[0m\u001b[1;33m.\u001b[0m\u001b[0m_engine\u001b[0m \u001b[1;33m=\u001b[0m \u001b[0mCParserWrapper\u001b[0m\u001b[1;33m(\u001b[0m\u001b[0mself\u001b[0m\u001b[1;33m.\u001b[0m\u001b[0mf\u001b[0m\u001b[1;33m,\u001b[0m \u001b[1;33m**\u001b[0m\u001b[0mself\u001b[0m\u001b[1;33m.\u001b[0m\u001b[0moptions\u001b[0m\u001b[1;33m)\u001b[0m\u001b[1;33m\u001b[0m\u001b[1;33m\u001b[0m\u001b[0m\n\u001b[0m\u001b[0;32m   1015\u001b[0m         \u001b[1;32melse\u001b[0m\u001b[1;33m:\u001b[0m\u001b[1;33m\u001b[0m\u001b[1;33m\u001b[0m\u001b[0m\n\u001b[0;32m   1016\u001b[0m             \u001b[1;32mif\u001b[0m \u001b[0mengine\u001b[0m \u001b[1;33m==\u001b[0m \u001b[1;34m'python'\u001b[0m\u001b[1;33m:\u001b[0m\u001b[1;33m\u001b[0m\u001b[1;33m\u001b[0m\u001b[0m\n",
      "\u001b[1;32m~\\AppData\\Local\\Continuum\\anaconda3\\lib\\site-packages\\pandas\\io\\parsers.py\u001b[0m in \u001b[0;36m__init__\u001b[1;34m(self, src, **kwds)\u001b[0m\n\u001b[0;32m   1706\u001b[0m         \u001b[0mkwds\u001b[0m\u001b[1;33m[\u001b[0m\u001b[1;34m'usecols'\u001b[0m\u001b[1;33m]\u001b[0m \u001b[1;33m=\u001b[0m \u001b[0mself\u001b[0m\u001b[1;33m.\u001b[0m\u001b[0musecols\u001b[0m\u001b[1;33m\u001b[0m\u001b[1;33m\u001b[0m\u001b[0m\n\u001b[0;32m   1707\u001b[0m \u001b[1;33m\u001b[0m\u001b[0m\n\u001b[1;32m-> 1708\u001b[1;33m         \u001b[0mself\u001b[0m\u001b[1;33m.\u001b[0m\u001b[0m_reader\u001b[0m \u001b[1;33m=\u001b[0m \u001b[0mparsers\u001b[0m\u001b[1;33m.\u001b[0m\u001b[0mTextReader\u001b[0m\u001b[1;33m(\u001b[0m\u001b[0msrc\u001b[0m\u001b[1;33m,\u001b[0m \u001b[1;33m**\u001b[0m\u001b[0mkwds\u001b[0m\u001b[1;33m)\u001b[0m\u001b[1;33m\u001b[0m\u001b[1;33m\u001b[0m\u001b[0m\n\u001b[0m\u001b[0;32m   1709\u001b[0m \u001b[1;33m\u001b[0m\u001b[0m\n\u001b[0;32m   1710\u001b[0m         \u001b[0mpassed_names\u001b[0m \u001b[1;33m=\u001b[0m \u001b[0mself\u001b[0m\u001b[1;33m.\u001b[0m\u001b[0mnames\u001b[0m \u001b[1;32mis\u001b[0m \u001b[1;32mNone\u001b[0m\u001b[1;33m\u001b[0m\u001b[1;33m\u001b[0m\u001b[0m\n",
      "\u001b[1;32mpandas\\_libs\\parsers.pyx\u001b[0m in \u001b[0;36mpandas._libs.parsers.TextReader.__cinit__\u001b[1;34m()\u001b[0m\n",
      "\u001b[1;32mpandas\\_libs\\parsers.pyx\u001b[0m in \u001b[0;36mpandas._libs.parsers.TextReader._setup_parser_source\u001b[1;34m()\u001b[0m\n",
      "\u001b[1;31mFileNotFoundError\u001b[0m: File b'data/preprocessed_teo.csv' does not exist"
     ]
    }
   ],
   "source": [
    "app = QApplication([])\n",
    "dialog = MyDialog()\n",
    "dialog.show()\n",
    "sys.exit(app.exec_())"
   ]
  },
  {
   "cell_type": "markdown",
   "metadata": {},
   "source": [
    "<br></br><br></br><br></br>"
   ]
  },
  {
   "cell_type": "code",
   "execution_count": null,
   "metadata": {
    "collapsed": true
   },
   "outputs": [],
   "source": []
  },
  {
   "cell_type": "code",
   "execution_count": null,
   "metadata": {
    "collapsed": true
   },
   "outputs": [],
   "source": []
  },
  {
   "cell_type": "code",
   "execution_count": null,
   "metadata": {
    "collapsed": true
   },
   "outputs": [],
   "source": []
  },
  {
   "cell_type": "code",
   "execution_count": null,
   "metadata": {
    "collapsed": true
   },
   "outputs": [],
   "source": []
  },
  {
   "cell_type": "code",
   "execution_count": null,
   "metadata": {
    "collapsed": true
   },
   "outputs": [],
   "source": []
  },
  {
   "cell_type": "code",
   "execution_count": null,
   "metadata": {
    "collapsed": true
   },
   "outputs": [],
   "source": []
  },
  {
   "cell_type": "code",
   "execution_count": null,
   "metadata": {
    "collapsed": true
   },
   "outputs": [],
   "source": []
  },
  {
   "cell_type": "code",
   "execution_count": null,
   "metadata": {
    "collapsed": true
   },
   "outputs": [],
   "source": []
  },
  {
   "cell_type": "code",
   "execution_count": null,
   "metadata": {
    "collapsed": true
   },
   "outputs": [],
   "source": []
  },
  {
   "cell_type": "code",
   "execution_count": null,
   "metadata": {
    "collapsed": true
   },
   "outputs": [],
   "source": []
  },
  {
   "cell_type": "code",
   "execution_count": null,
   "metadata": {
    "collapsed": true
   },
   "outputs": [],
   "source": []
  },
  {
   "cell_type": "code",
   "execution_count": null,
   "metadata": {
    "collapsed": true
   },
   "outputs": [],
   "source": []
  },
  {
   "cell_type": "code",
   "execution_count": null,
   "metadata": {
    "collapsed": true
   },
   "outputs": [],
   "source": []
  },
  {
   "cell_type": "code",
   "execution_count": null,
   "metadata": {
    "collapsed": true
   },
   "outputs": [],
   "source": []
  },
  {
   "cell_type": "code",
   "execution_count": null,
   "metadata": {
    "collapsed": true
   },
   "outputs": [],
   "source": []
  },
  {
   "cell_type": "code",
   "execution_count": null,
   "metadata": {
    "collapsed": true
   },
   "outputs": [],
   "source": []
  },
  {
   "cell_type": "code",
   "execution_count": null,
   "metadata": {
    "collapsed": true
   },
   "outputs": [],
   "source": []
  },
  {
   "cell_type": "code",
   "execution_count": null,
   "metadata": {
    "collapsed": true
   },
   "outputs": [],
   "source": []
  },
  {
   "cell_type": "code",
   "execution_count": null,
   "metadata": {
    "collapsed": true
   },
   "outputs": [],
   "source": []
  },
  {
   "cell_type": "code",
   "execution_count": null,
   "metadata": {
    "collapsed": true
   },
   "outputs": [],
   "source": []
  },
  {
   "cell_type": "code",
   "execution_count": null,
   "metadata": {
    "collapsed": true
   },
   "outputs": [],
   "source": []
  },
  {
   "cell_type": "code",
   "execution_count": null,
   "metadata": {
    "collapsed": true
   },
   "outputs": [],
   "source": []
  },
  {
   "cell_type": "code",
   "execution_count": null,
   "metadata": {
    "collapsed": true
   },
   "outputs": [],
   "source": []
  },
  {
   "cell_type": "code",
   "execution_count": null,
   "metadata": {
    "collapsed": true
   },
   "outputs": [],
   "source": []
  },
  {
   "cell_type": "code",
   "execution_count": null,
   "metadata": {
    "collapsed": true
   },
   "outputs": [],
   "source": []
  },
  {
   "cell_type": "code",
   "execution_count": null,
   "metadata": {
    "collapsed": true
   },
   "outputs": [],
   "source": []
  },
  {
   "cell_type": "code",
   "execution_count": null,
   "metadata": {
    "collapsed": true
   },
   "outputs": [],
   "source": []
  },
  {
   "cell_type": "code",
   "execution_count": null,
   "metadata": {
    "collapsed": true
   },
   "outputs": [],
   "source": []
  },
  {
   "cell_type": "code",
   "execution_count": null,
   "metadata": {
    "collapsed": true
   },
   "outputs": [],
   "source": []
  },
  {
   "cell_type": "code",
   "execution_count": null,
   "metadata": {
    "collapsed": true
   },
   "outputs": [],
   "source": []
  },
  {
   "cell_type": "code",
   "execution_count": null,
   "metadata": {
    "collapsed": true
   },
   "outputs": [],
   "source": []
  }
 ],
 "metadata": {
  "kernelspec": {
   "display_name": "Python 3",
   "language": "python",
   "name": "python3"
  },
  "language_info": {
   "codemirror_mode": {
    "name": "ipython",
    "version": 3
   },
   "file_extension": ".py",
   "mimetype": "text/x-python",
   "name": "python",
   "nbconvert_exporter": "python",
   "pygments_lexer": "ipython3",
   "version": "3.7.1"
  }
 },
 "nbformat": 4,
 "nbformat_minor": 2
}
