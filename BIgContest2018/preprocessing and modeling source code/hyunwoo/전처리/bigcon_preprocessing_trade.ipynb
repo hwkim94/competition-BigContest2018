{
 "cells": [
  {
   "cell_type": "code",
   "execution_count": null,
   "metadata": {},
   "outputs": [],
   "source": [
    "import numpy as np\n",
    "import pandas as pd"
   ]
  },
  {
   "cell_type": "code",
   "execution_count": null,
   "metadata": {},
   "outputs": [],
   "source": [
    "train_trade = pd.read_csv(\"data/train_trade.csv\").drop(\"Unnamed: 0\", axis=1)\n",
    "test_trade = pd.read_csv(\"data/test_trade.csv\").drop(\"Unnamed: 0\", axis=1)"
   ]
  },
  {
   "cell_type": "code",
   "execution_count": null,
   "metadata": {
    "scrolled": false
   },
   "outputs": [],
   "source": [
    "print(len(train_trade))\n",
    "train_trade.head()"
   ]
  },
  {
   "cell_type": "code",
   "execution_count": null,
   "metadata": {
    "scrolled": true
   },
   "outputs": [],
   "source": [
    "print(len(test_trade))\n",
    "test_trade.head()"
   ]
  },
  {
   "cell_type": "markdown",
   "metadata": {},
   "source": [
    " "
   ]
  },
  {
   "cell_type": "code",
   "execution_count": null,
   "metadata": {},
   "outputs": [],
   "source": [
    "dic = {}\n",
    "train_lst = train_trade.values.tolist()\n",
    "test_lst = test_trade.values.tolist()"
   ]
  },
  {
   "cell_type": "code",
   "execution_count": null,
   "metadata": {
    "scrolled": true
   },
   "outputs": [],
   "source": [
    "for idx, values in enumerate(train_lst): \n",
    "    source_id = values[3]\n",
    "    target_id = values[4]\n",
    "    item_type = values[5]\n",
    "    item_amount = values[6]\n",
    "    \n",
    "    if source_id not in dic :\n",
    "        dic[source_id] = {\"put\":{\"amount\" : {},\n",
    "                                 \"count\": {}\n",
    "                                },\n",
    "                          \"get\":{\"amount\" : {},\n",
    "                                 \"count\": {}\n",
    "                                }\n",
    "                         }\n",
    "        \n",
    "    if target_id not in dic :\n",
    "        dic[target_id] = {\"put\":{\"amount\" : {},\n",
    "                                 \"count\": {}\n",
    "                                },\n",
    "                          \"get\":{\"amount\" : {},\n",
    "                                 \"count\": {}\n",
    "                                }\n",
    "                         }\n",
    "        \n",
    "    if target_id not in dic[source_id][\"put\"][\"amount\"] :\n",
    "        dic[source_id][\"put\"][\"amount\"][target_id] = {}\n",
    "        dic[source_id][\"put\"][\"count\"][target_id] = {}\n",
    "    \n",
    "    if source_id not in dic[target_id][\"get\"][\"amount\"] :\n",
    "        dic[target_id][\"get\"][\"amount\"][source_id] = {}\n",
    "        dic[target_id][\"get\"][\"count\"][source_id] = {}\n",
    "    \n",
    "    if item_type not in dic[source_id][\"put\"][\"amount\"][target_id] :\n",
    "        dic[source_id][\"put\"][\"amount\"][target_id][item_type] = 0\n",
    "        dic[source_id][\"put\"][\"count\"][target_id][item_type] = 0\n",
    "        \n",
    "    if item_type not in dic[target_id][\"get\"][\"amount\"][source_id] :\n",
    "        dic[target_id][\"get\"][\"amount\"][source_id][item_type] = 0\n",
    "        dic[target_id][\"get\"][\"count\"][source_id][item_type] = 0\n",
    "        \n",
    "    dic[source_id][\"put\"][\"amount\"][target_id][item_type] += item_amount\n",
    "    dic[source_id][\"put\"][\"count\"][target_id][item_type] += 1\n",
    "    \n",
    "    dic[target_id][\"get\"][\"amount\"][source_id][item_type] += item_amount\n",
    "    dic[target_id][\"get\"][\"count\"][source_id][item_type] += 1\n",
    "    \n",
    "    if idx % 100000 == 0 :\n",
    "        print(idx)"
   ]
  },
  {
   "cell_type": "code",
   "execution_count": null,
   "metadata": {
    "scrolled": true
   },
   "outputs": [],
   "source": [
    "for idx, values in enumerate(test_lst): \n",
    "    source_id = values[3]\n",
    "    target_id = values[4]\n",
    "    item_type = values[5]\n",
    "    item_amount = values[6]\n",
    "    \n",
    "    if source_id not in dic :\n",
    "        dic[source_id] = {\"put\":{\"amount\" : {},\n",
    "                                 \"count\": {}\n",
    "                                },\n",
    "                          \"get\":{\"amount\" : {},\n",
    "                                 \"count\": {}\n",
    "                                }\n",
    "                         }\n",
    "        \n",
    "    if target_id not in dic :\n",
    "        dic[target_id] = {\"put\":{\"amount\" : {},\n",
    "                                 \"count\": {}\n",
    "                                },\n",
    "                          \"get\":{\"amount\" : {},\n",
    "                                 \"count\": {}\n",
    "                                }\n",
    "                         }\n",
    "        \n",
    "    if target_id not in dic[source_id][\"put\"][\"amount\"] :\n",
    "        dic[source_id][\"put\"][\"amount\"][target_id] = {}\n",
    "        dic[source_id][\"put\"][\"count\"][target_id] = {}\n",
    "    \n",
    "    if source_id not in dic[target_id][\"get\"][\"amount\"] :\n",
    "        dic[target_id][\"get\"][\"amount\"][source_id] = {}\n",
    "        dic[target_id][\"get\"][\"count\"][source_id] = {}\n",
    "    \n",
    "    if item_type not in dic[source_id][\"put\"][\"amount\"][target_id] :\n",
    "        dic[source_id][\"put\"][\"amount\"][target_id][item_type] = 0\n",
    "        dic[source_id][\"put\"][\"count\"][target_id][item_type] = 0\n",
    "        \n",
    "    if item_type not in dic[target_id][\"get\"][\"amount\"][source_id] :\n",
    "        dic[target_id][\"get\"][\"amount\"][source_id][item_type] = 0\n",
    "        dic[target_id][\"get\"][\"count\"][source_id][item_type] = 0\n",
    "        \n",
    "    dic[source_id][\"put\"][\"amount\"][target_id][item_type] += item_amount\n",
    "    dic[source_id][\"put\"][\"count\"][target_id][item_type] += 1\n",
    "    \n",
    "    dic[target_id][\"get\"][\"amount\"][source_id][item_type] += item_amount\n",
    "    dic[target_id][\"get\"][\"count\"][source_id][item_type] += 1\n",
    "    \n",
    "    if idx % 100000 == 0 :\n",
    "        print(idx)"
   ]
  },
  {
   "cell_type": "markdown",
   "metadata": {},
   "source": [
    " "
   ]
  },
  {
   "cell_type": "code",
   "execution_count": null,
   "metadata": {},
   "outputs": [],
   "source": [
    "train_trade[train_trade[\"source_acc_id\"]==256576]"
   ]
  },
  {
   "cell_type": "code",
   "execution_count": null,
   "metadata": {},
   "outputs": [],
   "source": [
    "train_trade[train_trade[\"target_acc_id\"]==256576]"
   ]
  },
  {
   "cell_type": "code",
   "execution_count": null,
   "metadata": {},
   "outputs": [],
   "source": []
  },
  {
   "cell_type": "code",
   "execution_count": null,
   "metadata": {},
   "outputs": [],
   "source": []
  },
  {
   "cell_type": "code",
   "execution_count": null,
   "metadata": {},
   "outputs": [],
   "source": []
  },
  {
   "cell_type": "code",
   "execution_count": null,
   "metadata": {},
   "outputs": [],
   "source": []
  },
  {
   "cell_type": "code",
   "execution_count": null,
   "metadata": {},
   "outputs": [],
   "source": []
  },
  {
   "cell_type": "code",
   "execution_count": null,
   "metadata": {},
   "outputs": [],
   "source": []
  },
  {
   "cell_type": "code",
   "execution_count": null,
   "metadata": {},
   "outputs": [],
   "source": []
  },
  {
   "cell_type": "code",
   "execution_count": null,
   "metadata": {},
   "outputs": [],
   "source": []
  },
  {
   "cell_type": "code",
   "execution_count": null,
   "metadata": {},
   "outputs": [],
   "source": []
  },
  {
   "cell_type": "code",
   "execution_count": null,
   "metadata": {},
   "outputs": [],
   "source": []
  },
  {
   "cell_type": "code",
   "execution_count": null,
   "metadata": {},
   "outputs": [],
   "source": []
  },
  {
   "cell_type": "code",
   "execution_count": null,
   "metadata": {},
   "outputs": [],
   "source": []
  }
 ],
 "metadata": {
  "kernelspec": {
   "display_name": "Python 3",
   "language": "python",
   "name": "python3"
  },
  "language_info": {
   "codemirror_mode": {
    "name": "ipython",
    "version": 3
   },
   "file_extension": ".py",
   "mimetype": "text/x-python",
   "name": "python",
   "nbconvert_exporter": "python",
   "pygments_lexer": "ipython3",
   "version": "3.7.1"
  }
 },
 "nbformat": 4,
 "nbformat_minor": 2
}
