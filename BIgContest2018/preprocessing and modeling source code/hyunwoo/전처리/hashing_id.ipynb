{
 "cells": [
  {
   "cell_type": "code",
   "execution_count": null,
   "metadata": {},
   "outputs": [],
   "source": [
    "sc"
   ]
  },
  {
   "cell_type": "code",
   "execution_count": null,
   "metadata": {},
   "outputs": [],
   "source": [
    "import pandas as pd\n",
    "import numpy as np\n",
    "from itertools import chain"
   ]
  },
  {
   "cell_type": "markdown",
   "metadata": {},
   "source": [
    "<br></br> <br></br>"
   ]
  },
  {
   "cell_type": "code",
   "execution_count": null,
   "metadata": {
    "scrolled": true
   },
   "outputs": [],
   "source": [
    "train_activity = pd.read_csv(\"original_data/train_activity.csv\")\n",
    "train_activity.head()"
   ]
  },
  {
   "cell_type": "code",
   "execution_count": null,
   "metadata": {
    "scrolled": true
   },
   "outputs": [],
   "source": [
    "train_guild = pd.read_csv(\"original_data/train_guild.csv\")\n",
    "train_guild.head()"
   ]
  },
  {
   "cell_type": "code",
   "execution_count": null,
   "metadata": {
    "scrolled": true
   },
   "outputs": [],
   "source": [
    "train_label = pd.read_csv(\"original_data/train_label.csv\")\n",
    "train_label.head()"
   ]
  },
  {
   "cell_type": "code",
   "execution_count": null,
   "metadata": {
    "scrolled": true
   },
   "outputs": [],
   "source": [
    "train_party = pd.read_csv(\"original_data/train_party.csv\")\n",
    "train_party.head()"
   ]
  },
  {
   "cell_type": "code",
   "execution_count": null,
   "metadata": {
    "scrolled": false
   },
   "outputs": [],
   "source": [
    "train_payment = pd.read_csv(\"original_data/train_payment.csv\")\n",
    "train_payment.head(10)"
   ]
  },
  {
   "cell_type": "code",
   "execution_count": null,
   "metadata": {
    "scrolled": false
   },
   "outputs": [],
   "source": [
    "train_trade = pd.read_csv(\"original_data/train_trade.csv\")\n",
    "train_trade.head()"
   ]
  },
  {
   "cell_type": "code",
   "execution_count": null,
   "metadata": {},
   "outputs": [],
   "source": [
    "test_activity = pd.read_csv(\"original_data/test_activity.csv\")\n",
    "test_activity.head()"
   ]
  },
  {
   "cell_type": "code",
   "execution_count": null,
   "metadata": {},
   "outputs": [],
   "source": [
    "test_guild = pd.read_csv(\"original_data/test_guild.csv\")\n",
    "test_guild.head()"
   ]
  },
  {
   "cell_type": "code",
   "execution_count": null,
   "metadata": {},
   "outputs": [],
   "source": [
    "test_party = pd.read_csv(\"original_data/test_party.csv\")\n",
    "test_party.head()"
   ]
  },
  {
   "cell_type": "code",
   "execution_count": null,
   "metadata": {},
   "outputs": [],
   "source": [
    "test_payment = pd.read_csv(\"original_data/test_payment.csv\")\n",
    "test_payment.head(10)"
   ]
  },
  {
   "cell_type": "code",
   "execution_count": null,
   "metadata": {},
   "outputs": [],
   "source": [
    "test_trade = pd.read_csv(\"original_data/test_trade.csv\")\n",
    "test_trade.head()"
   ]
  },
  {
   "cell_type": "markdown",
   "metadata": {},
   "source": [
    "<br></br>"
   ]
  },
  {
   "cell_type": "code",
   "execution_count": null,
   "metadata": {},
   "outputs": [],
   "source": [
    "path = \"file:///home/ubuntu/BigCon/data/\"\n",
    "data_set = [\"train_\", \"test_\"]\n",
    "data_lst = [\"activity.csv\", \"guild.csv\", \"label.csv\", \"party.csv\", \"payment.csv\", \"trade.csv\"]"
   ]
  },
  {
   "cell_type": "code",
   "execution_count": null,
   "metadata": {},
   "outputs": [],
   "source": [
    "def load_data_as_rdd(path=path, data_set=data_set, data_lst=data_lst) :\n",
    "    rdd_lst = []\n",
    "    \n",
    "    for idx in data_set :\n",
    "        for idx2 in data_lst :\n",
    "            rdd_lst.append(sc.textFile(path+idx+idx2, 16))\n",
    "            \n",
    "    return rdd_lst"
   ]
  },
  {
   "cell_type": "code",
   "execution_count": null,
   "metadata": {},
   "outputs": [],
   "source": [
    "rdd_lst = load_data_as_rdd()"
   ]
  },
  {
   "cell_type": "markdown",
   "metadata": {},
   "source": [
    "<br></br><br></br>"
   ]
  },
  {
   "cell_type": "markdown",
   "metadata": {},
   "source": [
    "### train data의 user id 정리"
   ]
  },
  {
   "cell_type": "code",
   "execution_count": null,
   "metadata": {},
   "outputs": [],
   "source": [
    "train_activity_rdd = rdd_lst[0]\n",
    "train_activity_id_rdd = train_activity_rdd.map(lambda line : line.split(\",\")[1]).filter(lambda line : line != 'acc_id')\n",
    "train_activity_id_rdd = train_activity_id_rdd.distinct()\n",
    "\n",
    "print(\"acc_id\" in train_activity_id_rdd.collect())\n",
    "train_activity_id_rdd.take(5)"
   ]
  },
  {
   "cell_type": "code",
   "execution_count": null,
   "metadata": {
    "scrolled": true
   },
   "outputs": [],
   "source": [
    "def guild_id(line) :\n",
    "    guild_id_lst = line.split(\",\")[1:]\n",
    "    guild_id_lst[0] = guild_id_lst[0].strip('\"')\n",
    "    guild_id_lst[-1] = guild_id_lst[-1].strip('\"')\n",
    "    \n",
    "    return guild_id_lst\n",
    "\n",
    "train_guild_rdd = rdd_lst[1]\n",
    "train_guild_id_rdd = train_guild_rdd.flatMap(lambda line : guild_id(line)).filter(lambda line : line != 'guild_member_acc_id')\n",
    "train_guild_id_rdd = train_guild_id_rdd.distinct()\n",
    "\n",
    "print(\"guild_member_acc_id\" in train_guild_id_rdd.collect())\n",
    "train_guild_id_rdd.take(5)"
   ]
  },
  {
   "cell_type": "code",
   "execution_count": null,
   "metadata": {},
   "outputs": [],
   "source": [
    "train_label_rdd = rdd_lst[2]\n",
    "train_label_id_rdd = train_label_rdd.map(lambda line : line.split(\",\")[0]).filter(lambda line : line != 'acc_id')\n",
    "train_label_id_rdd = train_label_id_rdd.distinct()\n",
    "\n",
    "print(\"acc_id\" in train_label_id_rdd.collect())\n",
    "train_label_id_rdd.take(5)"
   ]
  },
  {
   "cell_type": "code",
   "execution_count": null,
   "metadata": {},
   "outputs": [],
   "source": [
    "def party_id(line) :\n",
    "    party_id_lst = line.split(\",\")[6:]\n",
    "    party_id_lst[0] = party_id_lst[0].strip('\"')\n",
    "    party_id_lst[-1] = party_id_lst[-1].strip('\"')\n",
    "    \n",
    "    return party_id_lst\n",
    "\n",
    "train_party_rdd = rdd_lst[3]\n",
    "train_party_id_rdd = train_party_rdd.flatMap(lambda line : party_id(line)).filter(lambda line : line != 'hashed')\n",
    "train_party_id_rdd = train_party_id_rdd.distinct()\n",
    "\n",
    "print('hashed' in train_party_id_rdd.collect())\n",
    "train_party_id_rdd.take(5)"
   ]
  },
  {
   "cell_type": "code",
   "execution_count": null,
   "metadata": {},
   "outputs": [],
   "source": [
    "train_payment_rdd = rdd_lst[4]\n",
    "train_payment_id_rdd = train_payment_rdd.map(lambda line : line.split(\",\")[1]).filter(lambda line : line != \"acc_id\")\n",
    "train_payment_id_rdd = train_payment_id_rdd.distinct()\n",
    "\n",
    "print(\"acc_id\" in train_payment_id_rdd.collect())\n",
    "train_payment_id_rdd.take(5)\n",
    "train_payment_id_rdd.take(5)"
   ]
  },
  {
   "cell_type": "code",
   "execution_count": null,
   "metadata": {
    "scrolled": true
   },
   "outputs": [],
   "source": [
    "train_trade_rdd = rdd_lst[5]\n",
    "train_trade_id_rdd = train_trade_rdd.flatMap(lambda line : line.split(\",\")[3:5])\n",
    "train_trade_id_rdd = train_trade_id_rdd.filter(lambda line : line not in ['source_acc_id','target_acc_id'])\n",
    "train_trade_id_rdd = train_trade_id_rdd.distinct()\n",
    "\n",
    "print('source_acc_id' in train_trade_id_rdd.collect())\n",
    "print('target_acc_id' in train_trade_id_rdd.collect())\n",
    "train_trade_id_rdd.take(5)"
   ]
  },
  {
   "cell_type": "markdown",
   "metadata": {},
   "source": [
    " "
   ]
  },
  {
   "cell_type": "code",
   "execution_count": null,
   "metadata": {},
   "outputs": [],
   "source": [
    "train_user_id_lst_rdd = train_activity_id_rdd.union(train_guild_id_rdd).distinct() \\\n",
    "                              .union(train_label_id_rdd).distinct() \\\n",
    "                              .union(train_party_id_rdd).distinct() \\\n",
    "                              .union(train_payment_id_rdd).distinct() \\\n",
    "                              .union(train_trade_id_rdd).distinct()"
   ]
  },
  {
   "cell_type": "code",
   "execution_count": null,
   "metadata": {},
   "outputs": [],
   "source": [
    "print(train_user_id_lst_rdd.count())\n",
    "train_user_id_lst_rdd.take(5)"
   ]
  },
  {
   "cell_type": "code",
   "execution_count": null,
   "metadata": {},
   "outputs": [],
   "source": [
    "train_user_id_dic = {}\n",
    "train_user_id_lst = train_user_id_lst_rdd.collect()\n",
    "\n",
    "for idx, acc_id in enumerate(train_user_id_lst) :\n",
    "    train_user_id_dic[acc_id] = idx"
   ]
  },
  {
   "cell_type": "code",
   "execution_count": null,
   "metadata": {},
   "outputs": [],
   "source": [
    "train_user_id_df = pd.DataFrame.from_records(list(train_user_id_dic.items())).rename(columns={0:\"acc_id\", 1:\"change_id\"})\n",
    "print(len(train_user_id_df))\n",
    "train_user_id_df.head()"
   ]
  },
  {
   "cell_type": "markdown",
   "metadata": {},
   "source": [
    "<br></br><br></br>"
   ]
  },
  {
   "cell_type": "markdown",
   "metadata": {},
   "source": [
    "### train data의 guild id 정리"
   ]
  },
  {
   "cell_type": "code",
   "execution_count": null,
   "metadata": {},
   "outputs": [],
   "source": [
    "train_guild_rdd2 = rdd_lst[1]\n",
    "train_guild_id_rdd2 = train_guild_rdd2.map(lambda line : line.split(\",\")[0]).filter(lambda line : line != 'guild_id')\n",
    "train_guild_id_rdd2 = train_guild_id_rdd2.distinct()\n",
    "\n",
    "print(\"guild_id\" in train_guild_id_rdd2.collect())\n",
    "train_guild_id_rdd2.take(5)"
   ]
  },
  {
   "cell_type": "code",
   "execution_count": null,
   "metadata": {},
   "outputs": [],
   "source": [
    "train_guild_id_dic = {}\n",
    "train_guild_id_lst = train_guild_id_rdd2.collect()\n",
    "\n",
    "for idx, guild_id in enumerate(train_guild_id_lst) :\n",
    "    train_guild_id_dic[guild_id] = idx"
   ]
  },
  {
   "cell_type": "code",
   "execution_count": null,
   "metadata": {
    "scrolled": true
   },
   "outputs": [],
   "source": [
    "train_guild_id_df = pd.DataFrame.from_records(list(train_guild_id_dic.items())).rename(columns={0:\"guild_id\", 1:\"change_id\"})\n",
    "print(len(train_guild_id_df))\n",
    "train_guild_id_df.head()"
   ]
  },
  {
   "cell_type": "markdown",
   "metadata": {},
   "source": [
    "<br></br> <br></br>"
   ]
  },
  {
   "cell_type": "markdown",
   "metadata": {},
   "source": [
    "### test data의 user id 정리"
   ]
  },
  {
   "cell_type": "code",
   "execution_count": null,
   "metadata": {},
   "outputs": [],
   "source": [
    "test_activity_rdd = rdd_lst[6]\n",
    "test_activity_id_rdd = test_activity_rdd.map(lambda line : line.split(\",\")[1]).filter(lambda line : line != 'acc_id')\n",
    "test_activity_id_rdd = test_activity_id_rdd.distinct()\n",
    "\n",
    "print(\"acc_id\" in test_activity_id_rdd.collect())\n",
    "test_activity_id_rdd.take(5)"
   ]
  },
  {
   "cell_type": "code",
   "execution_count": null,
   "metadata": {
    "scrolled": true
   },
   "outputs": [],
   "source": [
    "def guild_id(line) :\n",
    "    guild_id_lst = line.split(\",\")[1:]\n",
    "    guild_id_lst[0] = guild_id_lst[0].strip('\"')\n",
    "    guild_id_lst[-1] = guild_id_lst[-1].strip('\"')\n",
    "    \n",
    "    return guild_id_lst\n",
    "\n",
    "test_guild_rdd = rdd_lst[7]\n",
    "test_guild_id_rdd = test_guild_rdd.flatMap(lambda line : guild_id(line)).filter(lambda line : line != 'guild_member_acc_id')\n",
    "test_guild_id_rdd = test_guild_id_rdd.distinct()\n",
    "\n",
    "print(\"guild_member_acc_id\" in test_guild_id_rdd.collect())\n",
    "test_guild_id_rdd.take(5)"
   ]
  },
  {
   "cell_type": "code",
   "execution_count": null,
   "metadata": {},
   "outputs": [],
   "source": [
    "def party_id(line) :\n",
    "    party_id_lst = line.split(\",\")[6:]\n",
    "    party_id_lst[0] = party_id_lst[0].strip('\"')\n",
    "    party_id_lst[-1] = party_id_lst[-1].strip('\"')\n",
    "    \n",
    "    return party_id_lst\n",
    "\n",
    "test_party_rdd = rdd_lst[9]\n",
    "test_party_id_rdd = test_party_rdd.flatMap(lambda line : party_id(line)).filter(lambda line : line != 'hashed')\n",
    "test_party_id_rdd = test_party_id_rdd.distinct()\n",
    "\n",
    "print('hashed' in test_party_id_rdd.collect())\n",
    "test_party_id_rdd.take(5)"
   ]
  },
  {
   "cell_type": "code",
   "execution_count": null,
   "metadata": {},
   "outputs": [],
   "source": [
    "test_payment_rdd = rdd_lst[10]\n",
    "test_payment_id_rdd = test_payment_rdd.map(lambda line : line.split(\",\")[1]).filter(lambda line : line != \"acc_id\")\n",
    "test_payment_id_rdd = test_payment_id_rdd.distinct()\n",
    "\n",
    "print(\"acc_id\" in test_payment_id_rdd.collect())\n",
    "test_payment_id_rdd.take(5)\n",
    "test_payment_id_rdd.take(5)"
   ]
  },
  {
   "cell_type": "code",
   "execution_count": null,
   "metadata": {},
   "outputs": [],
   "source": [
    "test_trade_rdd = rdd_lst[11]\n",
    "test_trade_id_rdd = test_trade_rdd.flatMap(lambda line : line.split(\",\")[3:5])\n",
    "test_trade_id_rdd = test_trade_id_rdd.filter(lambda line : line not in ['source_acc_id','target_acc_id'])\n",
    "test_trade_id_rdd = test_trade_id_rdd.distinct()\n",
    "\n",
    "print('source_acc_id' in test_trade_id_rdd.collect())\n",
    "print('target_acc_id' in test_trade_id_rdd.collect())\n",
    "test_trade_id_rdd.take(5)"
   ]
  },
  {
   "cell_type": "markdown",
   "metadata": {},
   "source": [
    " "
   ]
  },
  {
   "cell_type": "code",
   "execution_count": null,
   "metadata": {},
   "outputs": [],
   "source": [
    "test_user_id_lst_rdd = test_activity_id_rdd.union(test_guild_id_rdd).distinct() \\\n",
    "                              .union(test_party_id_rdd).distinct() \\\n",
    "                              .union(test_payment_id_rdd).distinct() \\\n",
    "                              .union(test_trade_id_rdd).distinct()"
   ]
  },
  {
   "cell_type": "code",
   "execution_count": null,
   "metadata": {},
   "outputs": [],
   "source": [
    "test_user_id_dic = {}\n",
    "test_user_id_lst = test_user_id_lst_rdd.collect()\n",
    "\n",
    "for idx, acc_id in enumerate(test_user_id_lst) :\n",
    "    test_user_id_dic[acc_id] = idx"
   ]
  },
  {
   "cell_type": "code",
   "execution_count": null,
   "metadata": {},
   "outputs": [],
   "source": [
    "test_user_id_df = pd.DataFrame.from_records(list(test_user_id_dic.items())).rename(columns={0:\"acc_id\", 1:\"change_id\"})\n",
    "print(len(test_user_id_df))\n",
    "test_user_id_df.head()"
   ]
  },
  {
   "cell_type": "markdown",
   "metadata": {},
   "source": [
    "<br></br>"
   ]
  },
  {
   "cell_type": "markdown",
   "metadata": {},
   "source": [
    "### test data의 guild id 정리"
   ]
  },
  {
   "cell_type": "code",
   "execution_count": null,
   "metadata": {},
   "outputs": [],
   "source": [
    "test_guild_rdd2 = rdd_lst[7]\n",
    "test_guild_id_rdd2 = test_guild_rdd2.map(lambda line : line.split(\",\")[0]).filter(lambda line : line != 'guild_id')\n",
    "test_guild_id_rdd2 = test_guild_id_rdd2.distinct()\n",
    "\n",
    "print(\"guild_id\" in test_guild_id_rdd2.collect())\n",
    "test_guild_id_rdd2.take(5)"
   ]
  },
  {
   "cell_type": "code",
   "execution_count": null,
   "metadata": {},
   "outputs": [],
   "source": [
    "test_guild_id_dic = {}\n",
    "test_guild_id_lst = test_guild_id_rdd2.collect()\n",
    "\n",
    "for idx, guild_id in enumerate(test_guild_id_lst) :\n",
    "    test_guild_id_dic[guild_id] = idx"
   ]
  },
  {
   "cell_type": "code",
   "execution_count": null,
   "metadata": {
    "scrolled": true
   },
   "outputs": [],
   "source": [
    "test_guild_id_df = pd.DataFrame.from_records(list(test_guild_id_dic.items())).rename(columns={0:\"guild_id\", 1:\"change_id\"})\n",
    "print(len(test_guild_id_df))\n",
    "test_guild_id_df.head()"
   ]
  },
  {
   "cell_type": "markdown",
   "metadata": {},
   "source": [
    "<br></br> <br></br>"
   ]
  },
  {
   "cell_type": "markdown",
   "metadata": {},
   "source": [
    "### df 저장"
   ]
  },
  {
   "cell_type": "code",
   "execution_count": null,
   "metadata": {},
   "outputs": [],
   "source": [
    "train_user_id_df.to_csv(\"./data_index/train_user_id.csv\")\n",
    "train_guild_id_df.to_csv(\"./data_index/train_guild_id.csv\")\n",
    "test_user_id_df.to_csv(\"./data_index/test_user_id.csv\")\n",
    "test_guild_id_df.to_csv(\"./data_index/test_guild_id.csv\")"
   ]
  },
  {
   "cell_type": "markdown",
   "metadata": {},
   "source": [
    "<br></br>"
   ]
  },
  {
   "cell_type": "markdown",
   "metadata": {},
   "source": [
    "### train id 변환"
   ]
  },
  {
   "cell_type": "code",
   "execution_count": null,
   "metadata": {},
   "outputs": [],
   "source": [
    "train_activity[\"acc_id\"] = train_activity[\"acc_id\"].map(lambda x : int(train_user_id_dic[x]))\n",
    "train_activity.head()"
   ]
  },
  {
   "cell_type": "code",
   "execution_count": null,
   "metadata": {
    "scrolled": true
   },
   "outputs": [],
   "source": [
    "train_guild2 = train_guild['guild_member_acc_id'].map(lambda x : x.split(\",\")).apply(pd.Series)\n",
    "train_guild2 = train_guild2.rename(columns = lambda x : 'member' + str(x)+'_acc_id')\n",
    "train_guild3 = pd.concat([train_guild[:], train_guild2[:]], axis=1).drop(\"guild_member_acc_id\", axis=1)\n",
    "\n",
    "for idx in range(77) :\n",
    "    col = 'member' + str(idx)+'_acc_id'\n",
    "    train_guild3[col] = train_guild3[col].map(lambda x : int(train_user_id_dic[x]) if type(x)==str else x)\n",
    "train_guild3[\"guild_id\"] = train_guild3[\"guild_id\"].map(lambda x : int(train_guild_id_dic[x]))\n",
    "\n",
    "train_guild3.head()"
   ]
  },
  {
   "cell_type": "code",
   "execution_count": null,
   "metadata": {
    "scrolled": false
   },
   "outputs": [],
   "source": [
    "train_label[\"acc_id\"] = train_label[\"acc_id\"].map(lambda x : int(train_user_id_dic[x]))\n",
    "train_label.head()"
   ]
  },
  {
   "cell_type": "code",
   "execution_count": null,
   "metadata": {
    "scrolled": true
   },
   "outputs": [],
   "source": [
    "print(len(train_party))\n",
    "train_party.head()"
   ]
  },
  {
   "cell_type": "code",
   "execution_count": null,
   "metadata": {},
   "outputs": [],
   "source": [
    "train_party_lst = []\n",
    "length = 0\n",
    "\n",
    "for idx in range(0, len(train_party), 100000) :\n",
    "    if idx == 0 :\n",
    "        pre_idx=idx\n",
    "        continue\n",
    "        \n",
    "    temp = train_party[pre_idx:idx]\n",
    "    temp2 = temp['hashed'].map(lambda x : x.split(\",\")).apply(pd.Series)\n",
    "    temp3 = temp2.rename(columns = lambda x : 'member' + str(x)+'_acc_id')\n",
    "    temp4 = pd.concat([temp[:], temp3[:]], axis=1).drop(\"hashed\", axis=1)\n",
    "    print(\"check\", end=\" \")\n",
    "    \n",
    "    temp_length = len(temp3.columns)\n",
    "    if temp_length > length :\n",
    "        length = temp_length \n",
    "        \n",
    "    for idx2 in range(temp_length) :\n",
    "        col = 'member' + str(idx2)+'_acc_id'\n",
    "        temp4[col] = temp4[col].map(lambda x : train_user_id_dic[x] if type(x)==str else x)\n",
    "        \n",
    "    train_party_lst.append(temp4)\n",
    "    pre_idx = idx\n",
    "    print(idx)\n",
    "\n",
    "temp = train_party['hashed'][pre_idx:]\n",
    "temp2 = temp.map(lambda x : x.split(\",\")).apply(pd.Series)\n",
    "temp3 = temp2.rename(columns = lambda x : 'member' + str(x)+'_acc_id')\n",
    "temp4 = pd.concat([temp[:], temp3[:]], axis=1).drop(\"hashed\", axis=1)\n",
    "print(\"check\", end=\" \")\n",
    "    \n",
    "temp_length = len(temp3.columns)\n",
    "if temp_length > length :\n",
    "    length = temp_length \n",
    "        \n",
    "for idx2 in range(temp_length) :\n",
    "    col = 'member' + str(idx2)+'_acc_id'\n",
    "    temp4[col] = temp4[col].map(lambda x : train_user_id_dic[x] if type(x)==str else x)\n",
    "        \n",
    "train_party_lst.append(temp4)\n",
    "pre_idx = idx + len(temp)\n",
    "print(pre_idx)\n",
    "print(len(train_party))\n",
    "\n",
    "length +=6\n",
    "print(length)\n",
    "\n",
    "for df in train_party_lst :\n",
    "    if len(df.columns) < length :\n",
    "        temp = length - len(df) \n",
    "        \n",
    "        for idx in range(len(df)-6, len(df)-6+temp) :\n",
    "            df['member' + str(idx)+'_acc_id'] = float('nan')\n",
    "\n",
    "train_party2 = pd.concat(train_party_lst)\n",
    "train_party2.head()"
   ]
  },
  {
   "cell_type": "code",
   "execution_count": null,
   "metadata": {},
   "outputs": [],
   "source": [
    "cnt = 0\n",
    "def party_id(x) :\n",
    "    global cnt\n",
    "    \n",
    "    x += cnt\n",
    "    cnt += 1\n",
    "    \n",
    "    return x\n",
    "\n",
    "train_party3 = train_party2.copy()\n",
    "train_party3[\"party_id\"] = 0\n",
    "train_party3[\"party_id\"] = train_party3[\"party_id\"].map(lambda x: party_id(x))\n",
    "train_party3.head()"
   ]
  },
  {
   "cell_type": "code",
   "execution_count": null,
   "metadata": {
    "scrolled": true
   },
   "outputs": [],
   "source": [
    "train_payment[\"acc_id\"] = train_payment[\"acc_id\"].map(lambda x : int(train_user_id_dic[x]))\n",
    "train_payment.head()"
   ]
  },
  {
   "cell_type": "code",
   "execution_count": null,
   "metadata": {},
   "outputs": [],
   "source": [
    "train_trade[\"source_acc_id\"] = train_trade[\"source_acc_id\"].map(lambda x : int(train_user_id_dic[x]))\n",
    "train_trade[\"target_acc_id\"] = train_trade[\"target_acc_id\"].map(lambda x : int(train_user_id_dic[x]))\n",
    "train_trade.head()"
   ]
  },
  {
   "cell_type": "markdown",
   "metadata": {},
   "source": [
    "<br></br> <br></br>"
   ]
  },
  {
   "cell_type": "markdown",
   "metadata": {},
   "source": [
    "### test id 변환"
   ]
  },
  {
   "cell_type": "code",
   "execution_count": null,
   "metadata": {
    "scrolled": false
   },
   "outputs": [],
   "source": [
    "test_activity[\"acc_id\"] = test_activity[\"acc_id\"].map(lambda x : int(test_user_id_dic[x]))\n",
    "test_activity.head()"
   ]
  },
  {
   "cell_type": "code",
   "execution_count": null,
   "metadata": {
    "scrolled": false
   },
   "outputs": [],
   "source": [
    "test_guild2 = test_guild['guild_member_acc_id'].map(lambda x : x.split(\",\")).apply(pd.Series)\n",
    "test_guild2 = test_guild2.rename(columns = lambda x : 'member' + str(x)+'_acc_id')\n",
    "test_guild3 = pd.concat([test_guild[:], test_guild2[:]], axis=1).drop(\"guild_member_acc_id\", axis=1)\n",
    "\n",
    "for idx in range(77) :\n",
    "    col = 'member' + str(idx)+'_acc_id'\n",
    "    test_guild3[col] = test_guild3[col].map(lambda x : int(test_user_id_dic[x]) if type(x)==str else x)\n",
    "test_guild3[\"guild_id\"] = test_guild3[\"guild_id\"].map(lambda x : int(test_guild_id_dic[x]))\n",
    "\n",
    "test_guild3.head()"
   ]
  },
  {
   "cell_type": "code",
   "execution_count": null,
   "metadata": {
    "scrolled": true
   },
   "outputs": [],
   "source": [
    "test_party_lst = []\n",
    "length = 0\n",
    "\n",
    "for idx in range(0, len(test_party), 100000) :\n",
    "    if idx == 0 :\n",
    "        pre_idx=idx\n",
    "        continue\n",
    "        \n",
    "    temp = test_party[pre_idx:idx]\n",
    "    temp2 = temp['hashed'].map(lambda x : x.split(\",\")).apply(pd.Series)\n",
    "    temp3 = temp2.rename(columns = lambda x : 'member' + str(x)+'_acc_id')\n",
    "    temp4 = pd.concat([temp[:], temp3[:]], axis=1).drop(\"hashed\", axis=1)\n",
    "    print(\"check\", end=\" \")\n",
    "    \n",
    "    temp_length = len(temp3.columns)\n",
    "    if temp_length > length :\n",
    "        length = temp_length \n",
    "        \n",
    "    for idx2 in range(temp_length) :\n",
    "        col = 'member' + str(idx2)+'_acc_id'\n",
    "        temp4[col] = temp4[col].map(lambda x : test_user_id_dic[x] if type(x)==str else x)\n",
    "        \n",
    "    test_party_lst.append(temp4)\n",
    "    pre_idx = idx\n",
    "    print(idx)\n",
    "\n",
    "temp = test_party['hashed'][pre_idx:]\n",
    "temp2 = temp.map(lambda x : x.split(\",\")).apply(pd.Series)\n",
    "temp3 = temp2.rename(columns = lambda x : 'member' + str(x)+'_acc_id')\n",
    "temp4 = pd.concat([temp[:], temp3[:]], axis=1).drop(\"hashed\", axis=1)\n",
    "print(\"check\", end=\" \")\n",
    "    \n",
    "temp_length = len(temp3.columns)\n",
    "if temp_length > length :\n",
    "    length = temp_length \n",
    "        \n",
    "for idx2 in range(temp_length) :\n",
    "    col = 'member' + str(idx2)+'_acc_id'\n",
    "    temp4[col] = temp4[col].map(lambda x : test_user_id_dic[x] if type(x)==str else x)\n",
    "        \n",
    "test_party_lst.append(temp4)\n",
    "pre_idx = idx + len(temp)\n",
    "print(pre_idx)\n",
    "print(len(test_party))\n",
    "\n",
    "length +=6\n",
    "print(length)\n",
    "\n",
    "for df in test_party_lst :\n",
    "    if len(df.columns) < length :\n",
    "        temp = length - len(df) \n",
    "        \n",
    "        for idx in range(len(df)-6, len(df)-6+temp) :\n",
    "            df['member' + str(idx)+'_acc_id'] = float('nan')\n",
    "\n",
    "test_party2 = pd.concat(test_party_lst)\n",
    "test_party2.head()"
   ]
  },
  {
   "cell_type": "code",
   "execution_count": null,
   "metadata": {},
   "outputs": [],
   "source": [
    "cnt = 0\n",
    "def party_id(x) :\n",
    "    global cnt\n",
    "    \n",
    "    x += cnt\n",
    "    cnt += 1\n",
    "    \n",
    "    return x\n",
    "\n",
    "test_party3 = test_party2.copy()\n",
    "test_party3[\"party_id\"] = 0\n",
    "test_party3[\"party_id\"] = test_party3[\"party_id\"].map(lambda x: party_id(x))\n",
    "test_party3.head()"
   ]
  },
  {
   "cell_type": "code",
   "execution_count": null,
   "metadata": {},
   "outputs": [],
   "source": [
    "test_payment[\"acc_id\"] = test_payment[\"acc_id\"].map(lambda x : int(test_user_id_dic[x]))\n",
    "test_payment.head()"
   ]
  },
  {
   "cell_type": "code",
   "execution_count": null,
   "metadata": {},
   "outputs": [],
   "source": [
    "test_trade[\"source_acc_id\"] = test_trade[\"source_acc_id\"].map(lambda x : int(test_user_id_dic[x]))\n",
    "test_trade[\"target_acc_id\"] = test_trade[\"target_acc_id\"].map(lambda x : int(test_user_id_dic[x]))\n",
    "test_trade.head()"
   ]
  },
  {
   "cell_type": "markdown",
   "metadata": {},
   "source": [
    "<br></br>"
   ]
  },
  {
   "cell_type": "markdown",
   "metadata": {},
   "source": [
    "### 최종 저장"
   ]
  },
  {
   "cell_type": "code",
   "execution_count": null,
   "metadata": {},
   "outputs": [],
   "source": [
    "train_activity.to_csv(\"changed_data/train_activity.csv\")\n",
    "print(\"saved\")\n",
    "train_label.to_csv(\"changed_data/train_label.csv\")\n",
    "print(\"saved\")\n",
    "train_payment.to_csv(\"changed_data/train_payment.csv\")\n",
    "print(\"saved\")\n",
    "train_trade.to_csv(\"changed_data/train_trade.csv\")\n",
    "print(\"saved\")"
   ]
  },
  {
   "cell_type": "code",
   "execution_count": null,
   "metadata": {},
   "outputs": [],
   "source": [
    "test_activity.to_csv(\"changed_data/test_activity.csv\")\n",
    "print(\"saved\")\n",
    "test_payment.to_csv(\"changed_data/test_payment.csv\")\n",
    "print(\"saved\")\n",
    "test_trade.to_csv(\"changed_data/test_trade.csv\")\n",
    "print(\"saved\")"
   ]
  },
  {
   "cell_type": "code",
   "execution_count": null,
   "metadata": {},
   "outputs": [],
   "source": [
    "#train_party3.to_csv(\"changed_data/train_party.csv\")\n",
    "#print(\"saved\")\n",
    "#train_guild3.to_csv(\"changed_data/train_guild.csv\")\n",
    "#print(\"saved\")"
   ]
  },
  {
   "cell_type": "code",
   "execution_count": null,
   "metadata": {},
   "outputs": [],
   "source": [
    "#test_party3.to_csv(\"changed_data/test_party.csv\")\n",
    "#print(\"saved\")\n",
    "#test_guild3.to_csv(\"changed_data/test_guild.csv\")\n",
    "#print(\"saved\")"
   ]
  },
  {
   "cell_type": "markdown",
   "metadata": {},
   "source": [
    "<br></br> <br></br>"
   ]
  },
  {
   "cell_type": "markdown",
   "metadata": {},
   "source": [
    "### guild/party csv 수정"
   ]
  },
  {
   "cell_type": "code",
   "execution_count": null,
   "metadata": {},
   "outputs": [],
   "source": [
    "def party_id(x) :\n",
    "    global cnt\n",
    "    \n",
    "    x += cnt\n",
    "    cnt += 1\n",
    "    \n",
    "    return x"
   ]
  },
  {
   "cell_type": "code",
   "execution_count": null,
   "metadata": {
    "scrolled": true
   },
   "outputs": [],
   "source": [
    "cnt = 0\n",
    "\n",
    "train_party4 = train_party.copy()\n",
    "train_party4[\"party_id\"] = 0\n",
    "train_party4[\"party_id\"] = train_party4[\"party_id\"].map(lambda x : party_id(x))\n",
    "train_party4[\"hashed\"] = train_party4[\"hashed\"].map(lambda x : [x.split(\",\")])\n",
    "\n",
    "train_party5 = pd.DataFrame({\"party_id\": np.repeat(train_party4.party_id.values, [len(x) for x in (chain.from_iterable(train_party4.hashed))]),\n",
    "                            'party_start_week': np.repeat(train_party4.party_start_week.values, [len(x) for x in (chain.from_iterable(train_party4.hashed))]),\n",
    "                            'party_start_day': np.repeat(train_party4.party_start_day.values, [len(x) for x in (chain.from_iterable(train_party4.hashed))]),\n",
    "                            'party_start_time': np.repeat(train_party4.party_start_time.values, [len(x) for x in (chain.from_iterable(train_party4.hashed))]),\n",
    "                            'party_end_week': np.repeat(train_party4.party_end_week.values, [len(x) for x in (chain.from_iterable(train_party4.hashed))]),\n",
    "                            'party_end_day': np.repeat(train_party4.party_end_day.values, [len(x) for x in (chain.from_iterable(train_party4.hashed))]),\n",
    "                            'party_end_time': np.repeat(train_party4.party_end_time.values, [len(x) for x in (chain.from_iterable(train_party4.hashed))]),\n",
    "                            \"hashed\": list(chain.from_iterable(chain.from_iterable(train_party4.hashed)))})\n",
    "\n",
    "train_party5[\"hashed\"] = train_party5[\"hashed\"].map(lambda x : train_user_id_dic[x])\n",
    "train_party5.head()"
   ]
  },
  {
   "cell_type": "code",
   "execution_count": null,
   "metadata": {
    "scrolled": false
   },
   "outputs": [],
   "source": [
    "cnt = 0\n",
    "\n",
    "test_party4 = test_party.copy()\n",
    "test_party4[\"party_id\"] = 0\n",
    "test_party4[\"party_id\"] = test_party4[\"party_id\"].map(lambda x : party_id(x))\n",
    "test_party4[\"hashed\"] = test_party4[\"hashed\"].map(lambda x : [x.split(\",\")])\n",
    "\n",
    "test_party5 = pd.DataFrame({\"party_id\": np.repeat(test_party4.party_id.values, [len(x) for x in (chain.from_iterable(test_party4.hashed))]),\n",
    "                            'party_start_week': np.repeat(test_party4.party_start_week.values, [len(x) for x in (chain.from_iterable(test_party4.hashed))]),\n",
    "                            'party_start_day': np.repeat(test_party4.party_start_day.values, [len(x) for x in (chain.from_iterable(test_party4.hashed))]),\n",
    "                            'party_start_time': np.repeat(test_party4.party_start_time.values, [len(x) for x in (chain.from_iterable(test_party4.hashed))]),\n",
    "                            'party_end_week': np.repeat(test_party4.party_end_week.values, [len(x) for x in (chain.from_iterable(test_party4.hashed))]),\n",
    "                            'party_end_day': np.repeat(test_party4.party_end_day.values, [len(x) for x in (chain.from_iterable(test_party4.hashed))]),\n",
    "                            'party_end_time': np.repeat(test_party4.party_end_time.values, [len(x) for x in (chain.from_iterable(test_party4.hashed))]),\n",
    "                            \"hashed\": list(chain.from_iterable(chain.from_iterable(test_party4.hashed)))})\n",
    "\n",
    "test_party5[\"hashed\"] = test_party5[\"hashed\"].map(lambda x : test_user_id_dic[x])\n",
    "test_party5.head()"
   ]
  },
  {
   "cell_type": "code",
   "execution_count": null,
   "metadata": {},
   "outputs": [],
   "source": [
    "train_party5.to_csv(\"changed_data/train_party.csv\")\n",
    "test_party5.to_csv(\"changed_data/test_party.csv\")"
   ]
  },
  {
   "cell_type": "markdown",
   "metadata": {},
   "source": [
    "<br></br><br></br>"
   ]
  },
  {
   "cell_type": "code",
   "execution_count": null,
   "metadata": {},
   "outputs": [],
   "source": [
    "train_guild4 = train_guild.copy()\n",
    "train_guild4[\"guild_member_acc_id\"] = train_guild4[\"guild_member_acc_id\"].map(lambda x : [x.split(\",\")])\n",
    "\n",
    "train_guild5 = pd.DataFrame({\"guild_id\": np.repeat(train_guild4.guild_id.values, [len(x) for x in (chain.from_iterable(train_guild4.guild_member_acc_id))]),\n",
    "                             \"guild_member_acc_id\": list(chain.from_iterable(chain.from_iterable(train_guild4.guild_member_acc_id)))})\n",
    "\n",
    "train_guild5[\"guild_id\"] = train_guild5[\"guild_id\"].map(lambda x : train_guild_id_dic[x])\n",
    "train_guild5[\"guild_member_acc_id\"] = train_guild5[\"guild_member_acc_id\"].map(lambda x : train_user_id_dic[x])\n",
    "train_guild5.head()"
   ]
  },
  {
   "cell_type": "code",
   "execution_count": null,
   "metadata": {
    "scrolled": true
   },
   "outputs": [],
   "source": [
    "test_guild4 = test_guild.copy()\n",
    "test_guild4[\"guild_member_acc_id\"] = test_guild4[\"guild_member_acc_id\"].map(lambda x : [x.split(\",\")])\n",
    "\n",
    "test_guild5 = pd.DataFrame({\"guild_id\": np.repeat(test_guild4.guild_id.values, [len(x) for x in (chain.from_iterable(test_guild4.guild_member_acc_id))]),\n",
    "                             \"guild_member_acc_id\": list(chain.from_iterable(chain.from_iterable(test_guild4.guild_member_acc_id)))})\n",
    "\n",
    "test_guild5[\"guild_id\"] = test_guild5[\"guild_id\"].map(lambda x : test_guild_id_dic[x])\n",
    "test_guild5[\"guild_member_acc_id\"] = test_guild5[\"guild_member_acc_id\"].map(lambda x : test_user_id_dic[x])\n",
    "test_guild5.head()"
   ]
  },
  {
   "cell_type": "code",
   "execution_count": null,
   "metadata": {},
   "outputs": [],
   "source": [
    "train_guild5.to_csv(\"changed_data/train_guild.csv\")\n",
    "test_guild5.to_csv(\"changed_data/test_guild.csv\")"
   ]
  },
  {
   "cell_type": "markdown",
   "metadata": {},
   "source": [
    "<br></br> <br></br>"
   ]
  },
  {
   "cell_type": "markdown",
   "metadata": {},
   "source": [
    "### 확인"
   ]
  },
  {
   "cell_type": "code",
   "execution_count": null,
   "metadata": {},
   "outputs": [],
   "source": [
    "def check(data) :\n",
    "    for d in list(set(list(data))) :\n",
    "        if type(d) == str :\n",
    "            print(d)"
   ]
  },
  {
   "cell_type": "code",
   "execution_count": null,
   "metadata": {},
   "outputs": [],
   "source": [
    "check(train_activity.acc_id.values)\n",
    "check(train_label.acc_id.values)\n",
    "check(train_payment.acc_id.values)\n",
    "check(train_trade.source_acc_id.values)\n",
    "check(train_trade.target_acc_id.values)"
   ]
  },
  {
   "cell_type": "code",
   "execution_count": null,
   "metadata": {},
   "outputs": [],
   "source": [
    "check(test_activity.acc_id.values)\n",
    "check(test_payment.acc_id.values)\n",
    "check(test_trade.source_acc_id.values)\n",
    "check(test_trade.target_acc_id.values)"
   ]
  },
  {
   "cell_type": "code",
   "execution_count": null,
   "metadata": {},
   "outputs": [],
   "source": [
    "check(train_party5.hashed.values)\n",
    "check(test_party5.hashed.values)"
   ]
  },
  {
   "cell_type": "code",
   "execution_count": null,
   "metadata": {},
   "outputs": [],
   "source": [
    "check(train_guild5.guild_member_acc_id.values)\n",
    "check(test_guild5.guild_member_acc_id.values)"
   ]
  },
  {
   "cell_type": "code",
   "execution_count": null,
   "metadata": {},
   "outputs": [],
   "source": [
    "check(train_party5.party_id.values)\n",
    "check(test_party5.party_id.values)"
   ]
  },
  {
   "cell_type": "code",
   "execution_count": null,
   "metadata": {},
   "outputs": [],
   "source": [
    "check(train_guild5.guild_id.values)\n",
    "check(test_guild5.guild_id.values)"
   ]
  },
  {
   "cell_type": "markdown",
   "metadata": {},
   "source": [
    "<br></br><br></br>"
   ]
  },
  {
   "cell_type": "markdown",
   "metadata": {},
   "source": [
    "### payment 수정"
   ]
  },
  {
   "cell_type": "code",
   "execution_count": null,
   "metadata": {},
   "outputs": [],
   "source": [
    "train_payment = pd.read_csv(\"original_data/train_payment.csv\")\n",
    "test_payment = pd.read_csv(\"original_data/test_payment.csv\")"
   ]
  },
  {
   "cell_type": "code",
   "execution_count": null,
   "metadata": {},
   "outputs": [],
   "source": [
    "train_user_id_df = pd.read_csv(\"data_index/train_user_id.csv\").drop(\"Unnamed: 0\" ,axis=1).set_index(\"acc_id\")\n",
    "test_user_id_df = pd.read_csv(\"data_index/test_user_id.csv\").drop(\"Unnamed: 0\" ,axis=1).set_index(\"acc_id\")"
   ]
  },
  {
   "cell_type": "code",
   "execution_count": null,
   "metadata": {},
   "outputs": [],
   "source": [
    "train_user_id_dic = train_user_id_df.to_dict()[\"change_id\"]\n",
    "test_user_id_dic = test_user_id_df.to_dict()[\"change_id\"]"
   ]
  },
  {
   "cell_type": "code",
   "execution_count": null,
   "metadata": {},
   "outputs": [],
   "source": [
    "train_payment.acc_id = train_payment.acc_id.map(lambda x : int(train_user_id_dic[x]))\n",
    "test_payment.acc_id = test_payment.acc_id.map(lambda x : int(test_user_id_dic[x]))"
   ]
  },
  {
   "cell_type": "code",
   "execution_count": null,
   "metadata": {},
   "outputs": [],
   "source": [
    "train_payment.head()"
   ]
  },
  {
   "cell_type": "code",
   "execution_count": null,
   "metadata": {},
   "outputs": [],
   "source": [
    "test_payment.head()"
   ]
  },
  {
   "cell_type": "code",
   "execution_count": null,
   "metadata": {},
   "outputs": [],
   "source": [
    "train_payment.to_csv(\"changed_data/train_payment.csv\")\n",
    "test_payment.to_csv(\"changed_data/test_payment.csv\")"
   ]
  },
  {
   "cell_type": "markdown",
   "metadata": {},
   "source": [
    " "
   ]
  },
  {
   "cell_type": "code",
   "execution_count": null,
   "metadata": {
    "scrolled": true
   },
   "outputs": [],
   "source": [
    "train_payment2 = train_payment.copy()\n",
    "train_payment2 = train_payment.set_index(\"acc_id\")\n",
    "\n",
    "train_payment2.head()"
   ]
  },
  {
   "cell_type": "code",
   "execution_count": null,
   "metadata": {},
   "outputs": [],
   "source": [
    "train_payment2 = train_payment2.pivot(index=train_payment2.index, columns='payment_week').xs('payment_amount', axis=1, drop_level=True)\n",
    "train_payment2.head()"
   ]
  },
  {
   "cell_type": "markdown",
   "metadata": {},
   "source": [
    " "
   ]
  },
  {
   "cell_type": "code",
   "execution_count": null,
   "metadata": {},
   "outputs": [],
   "source": [
    "test_payment2 = test_payment.copy()\n",
    "test_payment2 = test_payment.set_index(\"acc_id\")\n",
    "\n",
    "test_payment2.head()"
   ]
  },
  {
   "cell_type": "code",
   "execution_count": null,
   "metadata": {},
   "outputs": [],
   "source": [
    "test_payment2 = test_payment2.pivot(index=test_payment2.index, columns='payment_week').xs('payment_amount', axis=1, drop_level=True)\n",
    "test_payment2.head()"
   ]
  },
  {
   "cell_type": "markdown",
   "metadata": {},
   "source": [
    " "
   ]
  },
  {
   "cell_type": "code",
   "execution_count": null,
   "metadata": {},
   "outputs": [],
   "source": [
    "train_payment2.to_csv(\"changed_data/train_payment2.csv\")\n",
    "test_payment2.to_csv(\"changed_data/test_payment2.csv\")"
   ]
  },
  {
   "cell_type": "code",
   "execution_count": null,
   "metadata": {},
   "outputs": [],
   "source": []
  },
  {
   "cell_type": "code",
   "execution_count": null,
   "metadata": {},
   "outputs": [],
   "source": []
  },
  {
   "cell_type": "code",
   "execution_count": null,
   "metadata": {},
   "outputs": [],
   "source": []
  },
  {
   "cell_type": "code",
   "execution_count": null,
   "metadata": {},
   "outputs": [],
   "source": []
  }
 ],
 "metadata": {
  "kernelspec": {
   "display_name": "Python 3",
   "language": "python",
   "name": "python3"
  },
  "language_info": {
   "codemirror_mode": {
    "name": "ipython",
    "version": 3
   },
   "file_extension": ".py",
   "mimetype": "text/x-python",
   "name": "python",
   "nbconvert_exporter": "python",
   "pygments_lexer": "ipython3",
   "version": "3.7.1"
  }
 },
 "nbformat": 4,
 "nbformat_minor": 2
}
