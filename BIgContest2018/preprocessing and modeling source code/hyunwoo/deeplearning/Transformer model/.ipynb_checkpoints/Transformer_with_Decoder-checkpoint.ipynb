{
 "cells": [
  {
   "cell_type": "code",
   "execution_count": null,
   "metadata": {},
   "outputs": [],
   "source": [
    "import numpy as np\n",
    "import pandas as pd\n",
    "import tensorflow as tf\n",
    "import matplotlib.pyplot as plt\n",
    "from sklearn.metrics import f1_score\n",
    "\n",
    "%matplotlib inline"
   ]
  },
  {
   "cell_type": "code",
   "execution_count": null,
   "metadata": {},
   "outputs": [],
   "source": [
    "pd.set_option('display.max_columns', 100)"
   ]
  },
  {
   "cell_type": "code",
   "execution_count": null,
   "metadata": {},
   "outputs": [],
   "source": [
    "activity = pd.read_csv(\"user_vector.csv\").drop(\"Unnamed: 0\", axis=1)\n",
    "label = pd.read_csv(\"data/train_label.csv\").drop(\"Unnamed: 0\", axis=1)"
   ]
  },
  {
   "cell_type": "code",
   "execution_count": null,
   "metadata": {},
   "outputs": [],
   "source": [
    "activity.head()"
   ]
  },
  {
   "cell_type": "code",
   "execution_count": null,
   "metadata": {
    "scrolled": true
   },
   "outputs": [],
   "source": [
    "label = label.sort_values(\"acc_id\")\n",
    "label.head()"
   ]
  },
  {
   "cell_type": "markdown",
   "metadata": {},
   "source": [
    "<br></br><br></br><br></br>"
   ]
  },
  {
   "cell_type": "code",
   "execution_count": null,
   "metadata": {
    "scrolled": true
   },
   "outputs": [],
   "source": [
    "id_lst = [int(x) for x in label.acc_id.tolist()]\n",
    "print(len(id_lst))"
   ]
  },
  {
   "cell_type": "code",
   "execution_count": null,
   "metadata": {},
   "outputs": [],
   "source": [
    "activity_dic = {}\n",
    "for user in id_lst :\n",
    "    activity_dic[user] = []"
   ]
  },
  {
   "cell_type": "code",
   "execution_count": null,
   "metadata": {
    "scrolled": false
   },
   "outputs": [],
   "source": [
    "print(len(activity.head().values[0]))\n",
    "activity.head().values[0]"
   ]
  },
  {
   "cell_type": "code",
   "execution_count": null,
   "metadata": {},
   "outputs": [],
   "source": [
    "for data in activity.values :\n",
    "    activity_dic[int(data[0])].append([int(data[1])]+list(data[2:]))"
   ]
  },
  {
   "cell_type": "code",
   "execution_count": null,
   "metadata": {},
   "outputs": [],
   "source": [
    "activity_lst = [list(y) for y in activity_dic.items()]\n",
    "activity_lst[0]"
   ]
  },
  {
   "cell_type": "code",
   "execution_count": null,
   "metadata": {
    "scrolled": true
   },
   "outputs": [],
   "source": [
    "day_1_lst = [x for x in activity_lst]\n",
    "print(len(day_1_lst))"
   ]
  },
  {
   "cell_type": "code",
   "execution_count": null,
   "metadata": {},
   "outputs": [],
   "source": [
    "day_1_dic = {}\n",
    "day_1_id_lst = [x[0] for x in day_1_lst]"
   ]
  },
  {
   "cell_type": "code",
   "execution_count": null,
   "metadata": {},
   "outputs": [],
   "source": [
    "START_TOKEN = [1] + [0]*52\n",
    "EMPTY_TOKEN = [0,1] + [0]*51\n",
    "END_TOKEN = [0,0,1] + [0]*50"
   ]
  },
  {
   "cell_type": "code",
   "execution_count": null,
   "metadata": {},
   "outputs": [],
   "source": [
    "for user in day_1_id_lst :\n",
    "    day_1_dic[(user, 0)] = START_TOKEN\n",
    "    day_1_dic[(user, 1)] = EMPTY_TOKEN\n",
    "    day_1_dic[(user, 2)] = EMPTY_TOKEN\n",
    "    day_1_dic[(user, 3)] = EMPTY_TOKEN\n",
    "    day_1_dic[(user, 4)] = EMPTY_TOKEN\n",
    "    day_1_dic[(user, 5)] = EMPTY_TOKEN\n",
    "    day_1_dic[(user, 6)] = EMPTY_TOKEN\n",
    "    day_1_dic[(user, 7)] = EMPTY_TOKEN\n",
    "    day_1_dic[(user, 8)] = EMPTY_TOKEN\n",
    "    day_1_dic[(user, 9)] = END_TOKEN\n"
   ]
  },
  {
   "cell_type": "code",
   "execution_count": null,
   "metadata": {},
   "outputs": [],
   "source": [
    "for data in day_1_lst :\n",
    "    user = data[0]\n",
    "    lst = data[1]\n",
    "    \n",
    "    for idx, data2 in enumerate(lst) :\n",
    "        if idx == 0 :\n",
    "            first_week = data2[0]\n",
    "            \n",
    "            for idx2 in range(first_week) :\n",
    "                day_1_dic[(user, idx2)] = START_TOKEN\n",
    "                \n",
    "        week = data2[0]\n",
    "        day_1_dic[(user, week)] = data2[1:]"
   ]
  },
  {
   "cell_type": "markdown",
   "metadata": {},
   "source": [
    " "
   ]
  },
  {
   "cell_type": "code",
   "execution_count": null,
   "metadata": {},
   "outputs": [],
   "source": [
    "label_dic = {\"week\":0 , \"month\" :1, \"2month\":2, \"retained\":3}"
   ]
  },
  {
   "cell_type": "code",
   "execution_count": null,
   "metadata": {},
   "outputs": [],
   "source": [
    "label2 = label.sort_values(by=\"acc_id\")\n",
    "label2[\"label\"] = label2[\"label\"].map(lambda x : label_dic[x])\n",
    "\n",
    "label2.head()"
   ]
  },
  {
   "cell_type": "markdown",
   "metadata": {},
   "source": [
    "<br></br><br></br><br></br>"
   ]
  },
  {
   "cell_type": "code",
   "execution_count": null,
   "metadata": {},
   "outputs": [],
   "source": [
    "def one_hot(lst, num_class=4) :\n",
    "    return np.eye(num_class)[lst]"
   ]
  },
  {
   "cell_type": "code",
   "execution_count": null,
   "metadata": {},
   "outputs": [],
   "source": [
    "day_1_total_lst = []\n",
    "temp1 = list(day_1_dic.values())\n",
    "\n",
    "last1=0"
   ]
  },
  {
   "cell_type": "code",
   "execution_count": null,
   "metadata": {},
   "outputs": [],
   "source": [
    "for now in range(0,len(temp1)+1,10) :\n",
    "    if now == 0 :\n",
    "        last1 = now\n",
    "        continue\n",
    "    \n",
    "    day_1_total_lst.append(temp1[last1:now])\n",
    "    last1=now"
   ]
  },
  {
   "cell_type": "code",
   "execution_count": null,
   "metadata": {
    "scrolled": false
   },
   "outputs": [],
   "source": [
    "print(len(day_1_total_lst))"
   ]
  },
  {
   "cell_type": "code",
   "execution_count": null,
   "metadata": {},
   "outputs": [],
   "source": [
    "label_dic = label2.set_index(\"acc_id\").to_dict()['label']\n",
    "print(len(label_dic))"
   ]
  },
  {
   "cell_type": "code",
   "execution_count": null,
   "metadata": {},
   "outputs": [],
   "source": [
    "day_1_total_label = one_hot([label_dic[x] for x in day_1_id_lst])"
   ]
  },
  {
   "cell_type": "code",
   "execution_count": null,
   "metadata": {},
   "outputs": [],
   "source": [
    "print(len(day_1_total_label))"
   ]
  },
  {
   "cell_type": "code",
   "execution_count": null,
   "metadata": {},
   "outputs": [],
   "source": [
    "idx1 = len(day_1_total_lst)//5 *4\n",
    "\n",
    "day_1_training_lst = np.array(day_1_total_lst[:idx1])\n",
    "day_1_valid_lst = np.array(day_1_total_lst[idx1:])\n",
    "\n",
    "day_1_training_label = np.array(day_1_total_label[:idx1])\n",
    "day_1_valid_label = np.array(day_1_total_label[idx1:])"
   ]
  },
  {
   "cell_type": "code",
   "execution_count": null,
   "metadata": {},
   "outputs": [],
   "source": [
    "print(np.array(day_1_total_lst).shape)\n",
    "print(np.array(day_1_total_label).shape)"
   ]
  },
  {
   "cell_type": "markdown",
   "metadata": {},
   "source": [
    "<br></br><br></br><br></br>"
   ]
  },
  {
   "cell_type": "markdown",
   "metadata": {},
   "source": [
    "# Model\n",
    "- Transformer with denseNet\n",
    "    - Encoding된 vector를 stack하는 방식\n",
    "    - 마지막에 1x1 CNN\n",
    "    \n",
    "    \n",
    "- need to customize\n",
    "    - QK_T_dk -> QK_T\n",
    "    - sinusoid PE -> other PE\n",
    "    - pooling\n",
    "    - one-hot을 한 후 cost 계산\n",
    "    \n",
    "    \n",
    "- https://github.com/jadore801120/attention-is-all-you-need-pytorch/blob/4f4a192f0fd272102c8852b00b1007dffd292b90/transformer/Models.py#L11\n",
    "- https://github.com/tensorflow/tensor2tensor/blob/master/tensor2tensor/layers/common_attention.py\n",
    "- http://nlp.seas.harvard.edu/2018/04/03/attention.html\n"
   ]
  },
  {
   "cell_type": "code",
   "execution_count": null,
   "metadata": {},
   "outputs": [],
   "source": [
    "class Transformer_Classifer() :\n",
    "    def __init__(self, sess, name):\n",
    "        self.sess = sess\n",
    "        self.name = name\n",
    "        \n",
    "    def enc_embedding(self, X_input, emb_dim, emb_activation) :\n",
    "        if emb_dim == X_input.get_shape().as_list()[2] :\n",
    "            emb_vector = X_input\n",
    "            \n",
    "        else :\n",
    "            batch, position, dim = X_input.get_shape().as_list()\n",
    "            W_emb = tf.Variable(tf.random_normal([batch, dim, emb_dim]), name=\"W_emb_enc\")\n",
    "            emb_vector = tf.matmul(X_input, W_emb)\n",
    "            \n",
    "        return emb_vector\n",
    "    \n",
    "    def dec_embedding(self, X_input, emb_dim, emb_activation) :\n",
    "        batch, position, dim = X_input.get_shape().as_list()\n",
    "        dimension = position*dim\n",
    "        \n",
    "        flat = tf.reshape(X_input, [batch, 1, dimension])\n",
    "        W_emb = tf.Variable(tf.random_normal([batch, dimension, emb_dim]), name=\"W_emb_dec\")\n",
    "        \n",
    "        emb_vector = tf.matmul(flat, W_emb)\n",
    "        return emb_vector\n",
    "    \n",
    "    def positional_encoding(self, X_input) :\n",
    "        batch, position, dim = X_input.get_shape().as_list()\n",
    "        position_enc = np.array([list([[pos / np.power(10000, 2*i/dim) for i in range(dim)] \n",
    "                                if pos != 0 else np.zeros(dim) for pos in range(position)])]*batch)\n",
    "\n",
    "        position_enc[:, 1:, 0::2] = np.sin(position_enc[:, 1:, 0::2])\n",
    "        position_enc[:, 1:, 1::2] = np.cos(position_enc[:, 1:, 1::2])\n",
    "\n",
    "        pos_enc_vector = tf.constant(position_enc, dtype=tf.float32, shape=[batch, position, dim])\n",
    "        return pos_enc_vector\n",
    "    \n",
    "    def scaled_dot_product_attention(self, Q, K, V, dk) :\n",
    "        QKT_dk = tf.matmul(Q,K, transpose_b=True) / dk\n",
    "        attention = tf.nn.softmax(QKT_dk)\n",
    "        attended_vector = tf.matmul(attention,V)\n",
    "        \n",
    "        return attended_vector\n",
    "        \n",
    "    def multihead_attention(self, Q, K, V, h) :\n",
    "        batch, position, dim_q = Q.get_shape().as_list()\n",
    "        batch, position, dim_k = K.get_shape().as_list()\n",
    "        batch, position, dim_v = V.get_shape().as_list()\n",
    "        dq = dim_q//h\n",
    "        dk = dim_k//h\n",
    "        dv = dim_v//h\n",
    "        \n",
    "        W_Q = tf.Variable(tf.random_normal([h, batch, dim_q, dq]), name=\"W_Q\")\n",
    "        W_K = tf.Variable(tf.random_normal([h, batch, dim_k, dk]), name=\"W_K\")\n",
    "        W_V = tf.Variable(tf.random_normal([h, batch, dim_v, dv]), name=\"W_V\")\n",
    "        W_O = tf.Variable(tf.random_normal([batch, dk*h, dim_k]), name=\"W_O\")\n",
    "    \n",
    "        head_lst = []\n",
    "        for idx in range(h) :\n",
    "            head_lst.append(self.scaled_dot_product_attention(tf.matmul(Q, W_Q[idx]), \n",
    "                                                              tf.matmul(K, W_K[idx]), \n",
    "                                                              tf.matmul(V, W_V[idx]), \n",
    "                                                              tf.constant(dk, tf.float32)))\n",
    "        \n",
    "        multihead_attention = tf.concat(head_lst, axis=2)\n",
    "        linear_projection= tf.matmul(multihead_attention, W_O)\n",
    "        \n",
    "        return linear_projection\n",
    "        \n",
    "    def normarlization(self, X_input) :\n",
    "        return tf.contrib.layers.layer_norm(X_input)\n",
    "    \n",
    "    def feedforward_network(self, X_input, ffn_dim) :\n",
    "        batch, position, dim =  X_input.get_shape().as_list()\n",
    "\n",
    "        ff_vector1 = tf.layers.dense(X_input, ffn_dim, activation=tf.nn.relu)\n",
    "        dropout = tf.layers.dropout(ff_vector1, training=self.training)\n",
    "        ff_vector2 = tf.layers.dense(dropout, dim)\n",
    "        \n",
    "        return ff_vector2\n",
    "    \n",
    "    def resnet(self, X_input1, X_input2) :\n",
    "        return X_input1 + X_input2\n",
    "        \n",
    "    def encoder_layer(self, X_input, h, ffn_dim) :\n",
    "        attended_vector = self.multihead_attention(X_input, X_input, X_input, h)\n",
    "        sublayer1 = self.resnet(X_input, attended_vector)\n",
    "        norm1 = self.normarlization(sublayer1)\n",
    "        \n",
    "        ffn_vector = self.feedforward_network(norm1, ffn_dim)\n",
    "        sublayer2 = self.resnet(norm1, ffn_vector)\n",
    "        norm2 = self.normarlization(sublayer2)\n",
    "        \n",
    "        return norm2\n",
    "    \n",
    "    def decoder_layer(self, X_input, Y_input, h, ffn_dim) :\n",
    "        attended_vector = self.multihead_attention(Y_input, X_input, X_input, h)\n",
    "        sublayer1 = self.resnet(X_input, attended_vector)\n",
    "        norm1 = self.normarlization(sublayer1)\n",
    "        \n",
    "        ffn_vector = self.feedforward_network(norm1, ffn_dim)\n",
    "        sublayer2 = self.resnet(norm1, ffn_vector)\n",
    "        norm2 = self.normarlization(sublayer2)\n",
    "        \n",
    "        return norm2\n",
    "    \n",
    "    def Encode(self) :\n",
    "        enc_embedded_vector = self.enc_embedding(self.X, self.emb_dim, self.emb_activation)\n",
    "        enc_pos_encoded_vector = enc_embedded_vector + self.positional_encoding(enc_embedded_vector)\n",
    "        encoder_input = enc_pos_encoded_vector\n",
    "        \n",
    "        for idx in range(self.N) :\n",
    "            encoder_input = self.encoder_layer(encoder_input, self.h, self.ffn_dim)\n",
    "        encoder_output = encoder_input\n",
    "    \n",
    "        return encoder_output\n",
    "    \n",
    "    def Decode(self, encoder_output) :\n",
    "        dec_embedded_vector = self.dec_embedding(self.X, self.emb_dim, self.emb_activation)\n",
    "        decoder_input = dec_embedded_vector\n",
    "        \n",
    "        W_D = tf.Variable(tf.random_normal([self.output_length-1, self.batch_size, self.emb_dim, self.emb_dim]), name=\"W_D\")\n",
    "        decode_lst = []\n",
    "\n",
    "        for idx in range(self.output_length) :\n",
    "            if idx != 0 :\n",
    "                decoder_input = tf.matmul(decoder_input, W_D[idx-1])\n",
    "                \n",
    "            for idx2 in range(self.N) :\n",
    "                decoder_input = self.decoder_layer(encoder_output, decoder_input, self.h, self.ffn_dim)\n",
    "                \n",
    "            decoder_output = decoder_input\n",
    "            decode_lst.append(decoder_output)\n",
    "\n",
    "        return decode_lst\n",
    "    \n",
    "    def Classify(self, decoder_output) : \n",
    "        classifier_input = tf.stack(decoder_output, axis=1)\n",
    "        batch, length, position, dim = classifier_input.get_shape().as_list()\n",
    "\n",
    "        dimension = position*dim\n",
    "        flat = tf.reshape(classifier_input, [batch, length, dimension])\n",
    "        layer = tf.layers.dense(inputs=flat, units=1)\n",
    "\n",
    "        return tf.reshape(layer, [batch, length])\n",
    "    \n",
    "    def build(self, batch_size, input_length, output_length, input_dim, N, emb_dim, emb_activation, h, ffn_dim, fc_activation) :\n",
    "        with tf.variable_scope(self.name) :\n",
    "            \n",
    "            ## Setting ##\n",
    "            # input  : ? x input_length x input_dim\n",
    "            self.X = tf.placeholder(tf.float32, [batch_size, input_length, input_dim])\n",
    "            self.Y = tf.placeholder(tf.float32, [batch_size, output_length])\n",
    "            self.learning_rate =  tf.placeholder(tf.float32)\n",
    "            self.training = tf.placeholder(tf.bool)\n",
    "            \n",
    "            self.batch_size = batch_size\n",
    "            self.input_length = input_length\n",
    "            self.output_length = output_length\n",
    "            self.input_dim = input_dim\n",
    "            self.N = N\n",
    "            self.emb_dim = emb_dim\n",
    "            self.emb_activation = emb_activation\n",
    "            self.h = h \n",
    "            self.ffn_dim = ffn_dim\n",
    "            self.fc_activation = fc_activation\n",
    "            #############\n",
    "            \n",
    "            \n",
    "            ## Encoder and Decoder ##\n",
    "            self.Encoder = self.Encode()\n",
    "            self.Decoder = self.Decode(self.Encoder)\n",
    "            #########################\n",
    "            \n",
    "            \n",
    "            ## Classifier ##\n",
    "            self.logit = self.Classify(self.Decoder)\n",
    "            self.softmax = tf.nn.softmax(self.logit)\n",
    "            self.softmax_logit = tf.nn.softmax_cross_entropy_with_logits(logits=self.logit, labels=self.Y)\n",
    "            ################\n",
    "            \n",
    "            \n",
    "            ## Learning ##\n",
    "            self.cost =  tf.reduce_mean(tf.nn.softmax_cross_entropy_with_logits(logits=self.logit, labels=self.Y))\n",
    "\n",
    "            update_ops = tf.get_collection(tf.GraphKeys.UPDATE_OPS, scope=self.name)\n",
    "            with tf.control_dependencies(update_ops):\n",
    "                self.optimizer = tf.train.AdamOptimizer(learning_rate=self.learning_rate).minimize(self.cost)\n",
    "            \n",
    "            self.prediction = tf.equal(tf.argmax(self.logit, 1), tf.argmax(self.Y, 1))     \n",
    "            self.accuracy = tf.reduce_mean(tf.cast(self.prediction, tf.float32))    \n",
    "            ##############\n",
    "        \n",
    "        \n",
    "    def train(self, X_input, Y_input, learning_rate, training=True):\n",
    "        feed_dict = {self.X: X_input, self.Y: Y_input, self.learning_rate: learning_rate, self.training: training}\n",
    "        _, cost = self.sess.run([self.optimizer, self.cost], feed_dict=feed_dict)\n",
    "        \n",
    "        return _, cost\n",
    "    \n",
    "    def predict(self, X_input, training=False):\n",
    "        size = X_input.shape[0]\n",
    "        result_lst = []\n",
    "        \n",
    "        total_loss = 0\n",
    "        total_acc = 0\n",
    "            \n",
    "        for idx in range(0, size, self.batch_size):\n",
    "            X_batch = X_input[idx:idx + batch_size]\n",
    "            feed_dict = {self.X: X_batch, self.training: False}\n",
    "                \n",
    "            result = self.sess.run([self.logit], feed_dict=feed_dict)\n",
    "            result_lst.append(result)\n",
    "            \n",
    "        return np.concatenate([x[0][:] for x in result_lst], axis=0)\n",
    "    \n",
    "    def evaluate(self, X_input, Y_input):\n",
    "        size = X_input.shape[0]\n",
    "            \n",
    "        total_loss = 0\n",
    "        total_acc = 0\n",
    "            \n",
    "        for idx in range(0, size, self.batch_size):\n",
    "            X_batch = X_input[idx:idx + batch_size]\n",
    "            Y_batch = Y_input[idx:idx + batch_size]\n",
    "            feed_dict = {self.X: X_batch, self.Y: Y_batch, self.training: False}\n",
    "                \n",
    "            loss = self.cost\n",
    "            accuracy = self.accuracy\n",
    "                \n",
    "            step_loss, step_acc = self.sess.run([loss, accuracy], feed_dict=feed_dict)\n",
    "                \n",
    "            total_loss += step_loss * X_batch.shape[0]\n",
    "            total_acc += step_acc * X_batch.shape[0]\n",
    "            \n",
    "        total_loss /= size\n",
    "        total_acc /= size\n",
    "            \n",
    "        return total_loss, total_acc\n",
    "        \n",
    "        "
   ]
  },
  {
   "cell_type": "code",
   "execution_count": null,
   "metadata": {},
   "outputs": [],
   "source": [
    "tf.reset_default_graph() "
   ]
  },
  {
   "cell_type": "markdown",
   "metadata": {},
   "source": [
    "<br></br><br></br><br></br> "
   ]
  },
  {
   "cell_type": "code",
   "execution_count": null,
   "metadata": {},
   "outputs": [],
   "source": [
    "learning_rate1 = 0.05\n",
    "learning_rate2 = 0.02\n",
    "learning_rate3 = 0.01\n",
    "learning_rate4 = 0.005\n",
    "\n",
    "total_epoch = 80\n",
    "batch_size = 500"
   ]
  },
  {
   "cell_type": "code",
   "execution_count": null,
   "metadata": {},
   "outputs": [],
   "source": [
    "day_1_train_losses1 = []\n",
    "day_1_train_accs1 = []\n",
    "day_1_valid_losses1 = []\n",
    "day_1_valid_accs1 = []\n",
    "\n",
    "day_1_train_losses2 = []\n",
    "day_1_train_accs2 = []\n",
    "day_1_valid_losses2 = []\n",
    "day_1_valid_accs2 = []\n",
    "\n",
    "day_1_train_losses3 = []\n",
    "day_1_train_accs3 = []\n",
    "day_1_valid_losses3 = []\n",
    "day_1_valid_accs3 = []"
   ]
  },
  {
   "cell_type": "code",
   "execution_count": null,
   "metadata": {},
   "outputs": [],
   "source": [
    "sess= tf.Session()\n",
    "\n",
    "day_1_model1 = Transformer_Classifer(sess, \"model1\")\n",
    "day_1_model2 = Transformer_Classifer(sess, \"model2\")\n",
    "day_1_model3 = Transformer_Classifer(sess, \"model3\")\n",
    "\n",
    "day_1_model1.build(batch_size, 10, 4, 53, 6, 64, None, 6, 64, None)\n",
    "day_1_model2.build(batch_size, 10, 4, 53, 6, 128, None, 6, 128, None)\n",
    "day_1_model3.build(batch_size, 10, 4, 53, 6, 256, None, 6, 256, None)\n",
    "\n",
    "sess.run(tf.global_variables_initializer())"
   ]
  },
  {
   "cell_type": "code",
   "execution_count": null,
   "metadata": {},
   "outputs": [],
   "source": [
    "print(\"Ready!\")"
   ]
  },
  {
   "cell_type": "code",
   "execution_count": null,
   "metadata": {
    "scrolled": true
   },
   "outputs": [],
   "source": [
    "print('Learning Started!')\n",
    "print(\"\")\n",
    "\n",
    "# train my model\n",
    "for epoch in range(total_epoch):\n",
    "    avg_cost1 = 0\n",
    "    avg_cost2 = 0\n",
    "    avg_cost3 = 0\n",
    "    \n",
    "    total_batch = int(len(day_1_training_lst) / batch_size)\n",
    "    idx = 0\n",
    "    \n",
    "    if epoch == 0 :\n",
    "        learning_rate = learning_rate1\n",
    "    elif epoch == 40 :\n",
    "        learning_rate = learning_rate2\n",
    "    elif epoch == 70 :\n",
    "        learning_rate = learning_rate3\n",
    "    elif epoch == 80 :\n",
    "        learning_rate = learning_rate4\n",
    "\n",
    "    for i in range(total_batch):\n",
    "        batch_xs, batch_ys = day_1_training_lst[idx:idx+batch_size],day_1_training_label[idx:idx+batch_size]\n",
    "        \n",
    "        _, c1 = day_1_model1.train(batch_xs, batch_ys, learning_rate)\n",
    "        _, c2 = day_1_model2.train(batch_xs, batch_ys, learning_rate)\n",
    "        _, c3 = day_1_model3.train(batch_xs, batch_ys, learning_rate)\n",
    "        \n",
    "        avg_cost1 += c1 / total_batch\n",
    "        avg_cost2 += c2 / total_batch\n",
    "        avg_cost3 += c3 / total_batch\n",
    "        \n",
    "        idx += batch_size\n",
    "        \n",
    "        if i%10 == 0 :\n",
    "            print(\"log :\", i)\n",
    "            \n",
    "    #train cost & acc\n",
    "    cost1, acc1 = day_1_model1.evaluate(day_1_training_lst, day_1_training_label)\n",
    "    cost2, acc2 = day_1_model2.evaluate(day_1_training_lst, day_1_training_label)\n",
    "    cost3, acc3 = day_1_model3.evaluate(day_1_training_lst, day_1_training_label)\n",
    "    \n",
    "    day_1_train_losses1.append(cost1)\n",
    "    day_1_train_accs1.append(acc1)\n",
    "    day_1_train_losses2.append(cost2)\n",
    "    day_1_train_accs2.append(acc2)\n",
    "    day_1_train_losses3.append(cost3)\n",
    "    day_1_train_accs3.append(acc3)\n",
    "    \n",
    "    #valid cost & acc\n",
    "    v_cost1, v_acc1 = day_1_model1.evaluate(day_1_valid_lst, day_1_valid_label)\n",
    "    v_cost2, v_acc2 = day_1_model2.evaluate(day_1_valid_lst, day_1_valid_label)\n",
    "    v_cost3, v_acc3 = day_1_model3.evaluate(day_1_valid_lst, day_1_valid_label)\n",
    "    \n",
    "    day_1_valid_losses1.append(v_cost1)\n",
    "    day_1_valid_accs1.append(v_acc1)\n",
    "    day_1_valid_losses2.append(v_cost2)\n",
    "    day_1_valid_accs2.append(v_acc2)\n",
    "    day_1_valid_losses3.append(v_cost3)\n",
    "    day_1_valid_accs3.append(v_acc3)\n",
    "    \n",
    "    print(\"epoch : \", epoch, \" -- train {:.5f}({:.1f}%), valid{:.5f}({:.1f}%)\".format(cost1, acc1*100, v_cost1, v_acc1*100))\n",
    "    print(\"epoch : \", epoch, \" -- train {:.5f}({:.1f}%), valid{:.5f}({:.1f}%)\".format(cost2, acc2*100, v_cost2, v_acc2*100))\n",
    "    print(\"epoch : \", epoch, \" -- train {:.5f}({:.1f}%), valid{:.5f}({:.1f}%)\".format(cost3, acc3*100, v_cost3, v_acc3*100))\n",
    "    print('Accuracy:', day_1_model1.evaluate(day_1_valid_lst, day_1_valid_label)[1])\n",
    "    print('Accuracy:', day_1_model2.evaluate(day_1_valid_lst, day_1_valid_label)[1])\n",
    "    print('Accuracy:', day_1_model3.evaluate(day_1_valid_lst, day_1_valid_label)[1])\n",
    "    \n",
    "    print(\"train F1 score :\", f1_score(np.argmax(day_1_training_label, 1), np.argmax(day_1_model1.predict(day_1_training_lst), 1), average=\"weighted\"))\n",
    "    print(\"train F1 score :\", f1_score(np.argmax(day_1_training_label, 1), np.argmax(day_1_model2.predict(day_1_training_lst), 1), average=\"weighted\"))\n",
    "    print(\"train F1 score :\", f1_score(np.argmax(day_1_training_label, 1), np.argmax(day_1_model3.predict(day_1_training_lst), 1), average=\"weighted\"))\n",
    "    print(\"valid F1 score :\", f1_score(np.argmax(day_1_valid_label, 1), np.argmax(day_1_model1.predict(day_1_valid_lst), 1), average=\"weighted\"))\n",
    "    print(\"valid F1 score :\", f1_score(np.argmax(day_1_valid_label, 1), np.argmax(day_1_model2.predict(day_1_valid_lst), 1), average=\"weighted\"))\n",
    "    print(\"valid F1 score :\", f1_score(np.argmax(day_1_valid_label, 1), np.argmax(day_1_model3.predict(day_1_valid_lst), 1), average=\"weighted\"))\n",
    "    print(\" \")\n",
    "\n",
    "print(\"\")\n",
    "print('Learning Finished!')"
   ]
  },
  {
   "cell_type": "markdown",
   "metadata": {},
   "source": [
    " "
   ]
  },
  {
   "cell_type": "code",
   "execution_count": null,
   "metadata": {
    "scrolled": true
   },
   "outputs": [],
   "source": [
    "for idx in range(1,4) :\n",
    "    plt.plot(eval(\"day_1_train_losses\"+str(idx)), label='training'+str(idx))\n",
    "    plt.plot(eval(\"day_1_valid_losses\"+str(idx)), label='valid'+str(idx))\n",
    "    plt.title(\"model\"+str(idx))\n",
    "    plt.grid(\"on\")\n",
    "    plt.legend()\n",
    "    plt.show()"
   ]
  },
  {
   "cell_type": "markdown",
   "metadata": {},
   "source": [
    " "
   ]
  },
  {
   "cell_type": "code",
   "execution_count": null,
   "metadata": {
    "scrolled": true
   },
   "outputs": [],
   "source": [
    "for idx in range(1,4) :\n",
    "    plt.plot(eval(\"day_1_train_accs\"+str(idx)), label='training'+str(idx))\n",
    "    plt.plot(eval(\"day_1_valid_accs\"+str(idx)), label='valid'+str(idx))\n",
    "    plt.title(\"model\"+str(idx))\n",
    "    plt.grid(\"on\")\n",
    "    plt.legend()\n",
    "    plt.show()"
   ]
  },
  {
   "cell_type": "markdown",
   "metadata": {},
   "source": [
    " "
   ]
  },
  {
   "cell_type": "code",
   "execution_count": null,
   "metadata": {},
   "outputs": [],
   "source": [
    "for idx in range(1,4) :\n",
    "    plt.plot(eval(\"day_1_train_losses\"+str(idx)), label='training'+str(idx))\n",
    "    \n",
    "plt.grid(\"on\")\n",
    "plt.legend()\n",
    "plt.show()"
   ]
  },
  {
   "cell_type": "code",
   "execution_count": null,
   "metadata": {},
   "outputs": [],
   "source": [
    "for idx in range(1,4) :\n",
    "    plt.plot(eval(\"day_1_valid_losses\"+str(idx)), label='training'+str(idx))\n",
    "    \n",
    "plt.grid(\"on\")\n",
    "plt.legend()\n",
    "plt.show()"
   ]
  },
  {
   "cell_type": "markdown",
   "metadata": {},
   "source": [
    " "
   ]
  },
  {
   "cell_type": "code",
   "execution_count": null,
   "metadata": {},
   "outputs": [],
   "source": [
    "for idx in range(1,4) :\n",
    "    plt.plot(eval(\"day_1_train_accs\"+str(idx)), label='valid'+str(idx))\n",
    "    \n",
    "plt.grid(\"on\")\n",
    "plt.legend()\n",
    "plt.show()"
   ]
  },
  {
   "cell_type": "code",
   "execution_count": null,
   "metadata": {},
   "outputs": [],
   "source": [
    "for idx in range(1,4) :\n",
    "    plt.plot(eval(\"day_1_valid_accs\"+str(idx)), label='valid'+str(idx))\n",
    "    \n",
    "plt.grid(\"on\")\n",
    "plt.legend()\n",
    "plt.show()"
   ]
  },
  {
   "cell_type": "markdown",
   "metadata": {},
   "source": [
    " "
   ]
  },
  {
   "cell_type": "code",
   "execution_count": null,
   "metadata": {},
   "outputs": [],
   "source": [
    "#tf.reset_default_graph() "
   ]
  },
  {
   "cell_type": "markdown",
   "metadata": {},
   "source": [
    "<br></br><br></br><br></br>"
   ]
  },
  {
   "cell_type": "code",
   "execution_count": null,
   "metadata": {},
   "outputs": [],
   "source": [
    "saver = tf.train.Saver()\n",
    "saver.save(sess, './model_Transformer/original_user_vector_with_Decoder/original_user_vector_with_Decoder')"
   ]
  },
  {
   "cell_type": "markdown",
   "metadata": {},
   "source": [
    "<br></br><br></br><br></br>"
   ]
  },
  {
   "cell_type": "markdown",
   "metadata": {},
   "source": [
    "# Test"
   ]
  },
  {
   "cell_type": "code",
   "execution_count": null,
   "metadata": {},
   "outputs": [],
   "source": [
    "activity = pd.read_csv(\"user_vector_test.csv\").drop(\"Unnamed: 0\", axis=1)"
   ]
  },
  {
   "cell_type": "code",
   "execution_count": null,
   "metadata": {},
   "outputs": [],
   "source": [
    "activity.head()"
   ]
  },
  {
   "cell_type": "code",
   "execution_count": null,
   "metadata": {},
   "outputs": [],
   "source": [
    "label = activity.groupby(\"acc_id\").count().reset_index()[[\"acc_id\"]]\n",
    "label.head()"
   ]
  },
  {
   "cell_type": "code",
   "execution_count": null,
   "metadata": {},
   "outputs": [],
   "source": [
    "id_lst = [int(x) for x in label.acc_id.tolist()]\n",
    "print(len(id_lst))"
   ]
  },
  {
   "cell_type": "code",
   "execution_count": null,
   "metadata": {},
   "outputs": [],
   "source": [
    "activity_dic = {}\n",
    "for user in id_lst :\n",
    "    activity_dic[user] = []"
   ]
  },
  {
   "cell_type": "code",
   "execution_count": null,
   "metadata": {},
   "outputs": [],
   "source": [
    "print(len(activity.head().values[0]))\n",
    "activity.head().values[0]"
   ]
  },
  {
   "cell_type": "code",
   "execution_count": null,
   "metadata": {},
   "outputs": [],
   "source": [
    "for data in activity.values :\n",
    "    activity_dic[int(data[0])].append([int(data[1])]+list(data[2:]))"
   ]
  },
  {
   "cell_type": "code",
   "execution_count": null,
   "metadata": {},
   "outputs": [],
   "source": [
    "activity_lst = [list(y) for y in activity_dic.items()]\n",
    "activity_lst[0]"
   ]
  },
  {
   "cell_type": "code",
   "execution_count": null,
   "metadata": {},
   "outputs": [],
   "source": [
    "day_1_lst = [x for x in activity_lst if x[1][0][0]==1]\n",
    "print(len(day_1_lst))"
   ]
  },
  {
   "cell_type": "code",
   "execution_count": null,
   "metadata": {},
   "outputs": [],
   "source": [
    "day_1_dic = {}\n",
    "day_1_id_lst = [x[0] for x in day_1_lst]"
   ]
  },
  {
   "cell_type": "code",
   "execution_count": null,
   "metadata": {},
   "outputs": [],
   "source": [
    "START_TOKEN = [1] + [0]*52\n",
    "EMPTY_TOKEN = [0,1] + [0]*51\n",
    "END_TOKEN = [0,0,1] + [0]*50"
   ]
  },
  {
   "cell_type": "code",
   "execution_count": null,
   "metadata": {},
   "outputs": [],
   "source": [
    "for user in day_1_id_lst :\n",
    "    day_1_dic[(user, 0)] = START_TOKEN\n",
    "    day_1_dic[(user, 1)] = EMPTY_TOKEN\n",
    "    day_1_dic[(user, 2)] = EMPTY_TOKEN\n",
    "    day_1_dic[(user, 3)] = EMPTY_TOKEN\n",
    "    day_1_dic[(user, 4)] = EMPTY_TOKEN\n",
    "    day_1_dic[(user, 5)] = EMPTY_TOKEN\n",
    "    day_1_dic[(user, 6)] = EMPTY_TOKEN\n",
    "    day_1_dic[(user, 7)] = EMPTY_TOKEN\n",
    "    day_1_dic[(user, 8)] = EMPTY_TOKEN\n",
    "    day_1_dic[(user, 9)] = END_TOKEN\n",
    "    \n"
   ]
  },
  {
   "cell_type": "code",
   "execution_count": null,
   "metadata": {},
   "outputs": [],
   "source": [
    "for data in day_1_lst :\n",
    "    user = data[0]\n",
    "    lst = data[1]\n",
    "    \n",
    "    for data2 in lst :\n",
    "        if idx == 0 :\n",
    "            first_week = data2[0]\n",
    "            \n",
    "            for idx2 in range(first_week) :\n",
    "                day_1_dic[(user, idx2)] = START_TOKEN\n",
    "                \n",
    "        week = data2[0]\n",
    "        day_1_dic[(user, week)] = data2[1:]"
   ]
  },
  {
   "cell_type": "code",
   "execution_count": null,
   "metadata": {},
   "outputs": [],
   "source": [
    "day_1_total_lst = []\n",
    "temp1 = list(day_1_dic.values())\n",
    "\n",
    "last1=0"
   ]
  },
  {
   "cell_type": "code",
   "execution_count": null,
   "metadata": {},
   "outputs": [],
   "source": [
    "for now in range(0,len(temp1)+1,9) :\n",
    "    if now == 0 :\n",
    "        last1 = now\n",
    "        continue\n",
    "    \n",
    "    day_1_total_lst.append(temp1[last1:now])\n",
    "    last1=now"
   ]
  },
  {
   "cell_type": "code",
   "execution_count": null,
   "metadata": {
    "scrolled": true
   },
   "outputs": [],
   "source": [
    "print(len(day_1_total_lst))"
   ]
  },
  {
   "cell_type": "code",
   "execution_count": null,
   "metadata": {},
   "outputs": [],
   "source": [
    "day_1_test_lst = np.array(day_1_total_lst)"
   ]
  },
  {
   "cell_type": "markdown",
   "metadata": {},
   "source": [
    "<br></br><br></br>"
   ]
  },
  {
   "cell_type": "markdown",
   "metadata": {},
   "source": [
    "# Predict"
   ]
  },
  {
   "cell_type": "code",
   "execution_count": null,
   "metadata": {},
   "outputs": [],
   "source": [
    "result_11 = np.argmax(day_1_model1.predict(day_1_test_lst), axis=1)\n",
    "result_12 = np.argmax(day_1_model2.predict(day_1_test_lst), axis=1)\n",
    "result_13 = np.argmax(day_1_model3.predict(day_1_test_lst), axis=1)"
   ]
  },
  {
   "cell_type": "markdown",
   "metadata": {},
   "source": [
    " "
   ]
  },
  {
   "cell_type": "code",
   "execution_count": null,
   "metadata": {},
   "outputs": [],
   "source": [
    "def voting(result_lst) :\n",
    "    final_result = []\n",
    "    \n",
    "    for data in result_lst :\n",
    "        temp = sorted([(0, data.count(0)),(1, data.count(1)),(2, data.count(2)),(3, data.count(3))], key=lambda x :x[1], reverse=True)\n",
    "        final_result.append(temp[0][0])\n",
    "\n",
    "    return pd.Series(final_result)"
   ]
  },
  {
   "cell_type": "code",
   "execution_count": null,
   "metadata": {},
   "outputs": [],
   "source": [
    "dic = {0 : \"acc_id\", 1:\"model1\", 2:\"model2\", 3:\"model3\", 4:\"model4\"}\n",
    "result_1 = pd.DataFrame(list(zip(day_1_id_lst, result_11, result_12, result_13))).rename(columns = dic)"
   ]
  },
  {
   "cell_type": "code",
   "execution_count": null,
   "metadata": {},
   "outputs": [],
   "source": [
    "result_1[\"result\"] = voting(list(zip(result_1.model1,result_1.model2,result_1.model3)))"
   ]
  },
  {
   "cell_type": "code",
   "execution_count": null,
   "metadata": {},
   "outputs": [],
   "source": [
    "result_lst = [result_1[[\"acc_id\",\"result\"]]]\n",
    "\n",
    "total_result = pd.concat(result_lst).sort_values(\"acc_id\")\n",
    "total_result.head()"
   ]
  },
  {
   "cell_type": "code",
   "execution_count": null,
   "metadata": {},
   "outputs": [],
   "source": [
    "total_result.to_csv(\"./result/transformer_original_user_vector_with_decoder/transformer_original_user_vector_with_decoder.csv\")"
   ]
  },
  {
   "cell_type": "markdown",
   "metadata": {},
   "source": [
    " "
   ]
  },
  {
   "cell_type": "code",
   "execution_count": null,
   "metadata": {},
   "outputs": [],
   "source": [
    "test_user_id_df = pd.read_csv(\"test_user_id.csv\").drop(\"Unnamed: 0\", axis=1)\n",
    "test_user_id_df.head()"
   ]
  },
  {
   "cell_type": "code",
   "execution_count": null,
   "metadata": {},
   "outputs": [],
   "source": [
    "test_user_id_dic = {}\n",
    "\n",
    "for kv in test_user_id_df.values :\n",
    "    test_user_id_dic[kv[1]] = kv[0]"
   ]
  },
  {
   "cell_type": "code",
   "execution_count": null,
   "metadata": {},
   "outputs": [],
   "source": [
    "label_dic = {0 : \"week\", 1 : \"month\", 2:\"2month\", 3 :\"retained\"}\n",
    "\n",
    "total_result[\"acc_id\"] = total_result[\"acc_id\"].map(lambda x: test_user_id_dic[x])\n",
    "total_result[\"result\"] = total_result[\"result\"].map(lambda x: label_dic[x])\n",
    "total_result.head()"
   ]
  },
  {
   "cell_type": "code",
   "execution_count": null,
   "metadata": {},
   "outputs": [],
   "source": [
    "total_result2 = total_result.set_index(\"acc_id\").rename(columns = {\"result\" : \"label\"})\n",
    "total_result2.head()"
   ]
  },
  {
   "cell_type": "code",
   "execution_count": null,
   "metadata": {},
   "outputs": [],
   "source": [
    "total_result2.to_csv(\"./result/transformer_original_user_vector_with_decoder/transformer_original_user_vector_with_decoder_with_acc_id.csv\")"
   ]
  },
  {
   "cell_type": "code",
   "execution_count": null,
   "metadata": {},
   "outputs": [],
   "source": []
  }
 ],
 "metadata": {
  "kernelspec": {
   "display_name": "Python 3",
   "language": "python",
   "name": "python3"
  },
  "language_info": {
   "codemirror_mode": {
    "name": "ipython",
    "version": 3
   },
   "file_extension": ".py",
   "mimetype": "text/x-python",
   "name": "python",
   "nbconvert_exporter": "python",
   "pygments_lexer": "ipython3",
   "version": "3.7.1"
  }
 },
 "nbformat": 4,
 "nbformat_minor": 2
}
