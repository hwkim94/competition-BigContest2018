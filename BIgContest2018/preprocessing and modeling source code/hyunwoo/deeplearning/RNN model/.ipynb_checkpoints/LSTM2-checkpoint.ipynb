{
 "cells": [
  {
   "cell_type": "code",
   "execution_count": 1,
   "metadata": {
    "collapsed": true
   },
   "outputs": [],
   "source": [
    "import numpy as np\n",
    "import pandas as pd\n",
    "import tensorflow as tf\n",
    "import matplotlib.pyplot as plt\n",
    "from sklearn.metrics import f1_score\n",
    "\n",
    "%matplotlib inline\n",
    "pd.set_option('display.max_columns', 100)"
   ]
  },
  {
   "cell_type": "code",
   "execution_count": 12,
   "metadata": {
    "collapsed": true
   },
   "outputs": [],
   "source": [
    "def one_hot(lst, num_class=3) :\n",
    "    return np.eye(num_class)[lst]"
   ]
  },
  {
   "cell_type": "code",
   "execution_count": 13,
   "metadata": {
    "collapsed": true
   },
   "outputs": [],
   "source": [
    "def making_data(csv) :\n",
    "    activity = pd.read_csv(csv).drop(\"Unnamed: 0\", axis=1)\n",
    "    activity = activity[activity[\"label\"]!=\"retained\"]\n",
    "    label = activity[[\"acc_id\", \"label\"]]\n",
    "    \n",
    "    activity = activity[activity[\"label\"] != \"empty\"]\n",
    "    activity = activity.drop(\"label\", axis=1)\n",
    "    label = label[label[\"label\"] != \"empty\"]\n",
    "    \n",
    "    activity = activity.sort_values([\"acc_id\",\"wk\"])[['acc_id', 'wk', 'cnt_clear_bam', 'cnt_clear_inzone_light','cnt_clear_inzone_normal', \n",
    "                                                  'cnt_clear_inzone_skilled', 'cnt_clear_inzone_solo', 'cnt_clear_raid', 'cnt_clear_raid_light',\n",
    "                                                  'cnt_dt', 'cnt_enter_bam', 'cnt_enter_inzone_light', 'cnt_enter_inzone_normal', \n",
    "                                                  'cnt_enter_inzone_skilled', 'cnt_enter_inzone_solo', 'cnt_enter_raid', 'cnt_enter_raid_light',\n",
    "                                                  'cnt_use_buffitem', 'district_chat', 'duel_cnt', 'duel_win', 'faction_chat', 'game_combat_time', \n",
    "                                                  'gathering_cnt', 'get_money','guild_chat', 'item_hongmun', 'making_cnt', 'normal_chat', \n",
    "                                                  'npc_exp', 'npc_hongmun', 'party_chat', 'partybattle_cnt', 'partybattle_win', 'play_time', \n",
    "                                                  'quest_exp', 'quest_hongmun', 'whisper_chat','first_week', 'payment_amount']]\n",
    "    label = label.sort_values(\"acc_id\")\n",
    "    \n",
    "    label_lst = sorted(list(set([tuple(x) for x in label.values])))\n",
    "    label = pd.DataFrame(label_lst, columns = [\"acc_id\", \"label\"])\n",
    "    \n",
    "    activity1 = activity[activity[\"wk\"]==1].drop([\"acc_id\", \"wk\"], axis=1)\n",
    "    activity2 = activity[activity[\"wk\"]==2].drop([\"acc_id\", \"wk\"], axis=1)\n",
    "    activity3 = activity[activity[\"wk\"]==3].drop([\"acc_id\", \"wk\"], axis=1)\n",
    "    activity4 = activity[activity[\"wk\"]==4].drop([\"acc_id\", \"wk\"], axis=1)\n",
    "    activity5 = activity[activity[\"wk\"]==5].drop([\"acc_id\", \"wk\"], axis=1)\n",
    "    activity6 = activity[activity[\"wk\"]==6].drop([\"acc_id\", \"wk\"], axis=1)\n",
    "    activity7 = activity[activity[\"wk\"]==7].drop([\"acc_id\", \"wk\"], axis=1)\n",
    "    activity8 = activity[activity[\"wk\"]==8].drop([\"acc_id\", \"wk\"], axis=1)\n",
    "    \n",
    "    num_values = len(activity1.values[0])\n",
    "    \n",
    "    activity = np.concatenate([activity1.values.reshape([-1, 1, num_values]), activity2.values.reshape([-1, 1, num_values]), \n",
    "                               activity3.values.reshape([-1, 1, num_values]), activity4.values.reshape([-1, 1, num_values]),\n",
    "                               activity5.values.reshape([-1, 1, num_values]), activity6.values.reshape([-1, 1, num_values]),\n",
    "                               activity7.values.reshape([-1, 1, num_values]), activity8.values.reshape([-1, 1, num_values])], axis=1)\n",
    "    \n",
    "    label_dic = {\"week\":0 , \"month\" :1, \"2month\":2}\n",
    "\n",
    "    label2 = label.sort_values(by=\"acc_id\")\n",
    "    label2[\"label\"] = label2[\"label\"].map(lambda x : label_dic[x])\n",
    "    \n",
    "    total_lst = activity\n",
    "    label_dic = label2.label.tolist()\n",
    "    total_label = one_hot(label_dic)\n",
    "    \n",
    "    return total_lst, total_label"
   ]
  },
  {
   "cell_type": "markdown",
   "metadata": {},
   "source": [
    " <br></br><br></br><br></br>"
   ]
  },
  {
   "cell_type": "code",
   "execution_count": 14,
   "metadata": {
    "collapsed": true
   },
   "outputs": [],
   "source": [
    "total_lst, total_label = making_data(\"OnlyExpanded.csv\")"
   ]
  },
  {
   "cell_type": "code",
   "execution_count": 15,
   "metadata": {
    "collapsed": true
   },
   "outputs": [],
   "source": [
    "idx1 = len(total_lst)//5 *4\n",
    "\n",
    "training_lst = np.array(total_lst[:idx1])\n",
    "valid_lst = np.array(total_lst[idx1:])\n",
    "\n",
    "training_label = np.array(total_label[:idx1])\n",
    "valid_label = np.array(total_label[idx1:])"
   ]
  },
  {
   "cell_type": "code",
   "execution_count": 16,
   "metadata": {},
   "outputs": [
    {
     "name": "stdout",
     "output_type": "stream",
     "text": [
      "(75000, 8, 38)\n",
      "(75000, 3)\n"
     ]
    }
   ],
   "source": [
    "print(np.array(total_lst).shape)\n",
    "print(np.array(total_label).shape)"
   ]
  },
  {
   "cell_type": "markdown",
   "metadata": {},
   "source": [
    "<br></br><br></br><br></br>"
   ]
  },
  {
   "cell_type": "markdown",
   "metadata": {},
   "source": [
    "# Model"
   ]
  },
  {
   "cell_type": "code",
   "execution_count": 17,
   "metadata": {
    "collapsed": true
   },
   "outputs": [],
   "source": [
    "class RNN() :\n",
    "    def __init__(self, sess, name):\n",
    "        self.sess = sess\n",
    "        self.name = name\n",
    "        \n",
    "    def build(self, batch_size, length, dim, is_embedding, emb_width, num_unit, is_fc, fc_num_unit, fc_activation, cost_function, output_dim) :\n",
    "        with tf.variable_scope(self.name) :\n",
    "            \n",
    "            ## Setting ##\n",
    "            self.batch_size = batch_size\n",
    "            self.length = length\n",
    "            self.dim = dim\n",
    "            self.is_embedding = is_embedding\n",
    "            self.emb_width = emb_width\n",
    "            self.num_unit = num_unit\n",
    "            self.is_fc = is_fc\n",
    "            self.fc_num_unit = fc_num_unit\n",
    "            self.fc_activation = fc_activation\n",
    "            self.output_dim = output_dim\n",
    "            \n",
    "            self.X = tf.placeholder(tf.float32, [self.batch_size, self.length, self.dim])\n",
    "            self.Y = tf.placeholder(tf.float32, [self.batch_size, self.output_dim])\n",
    "            self.learning_rate =  tf.placeholder(tf.float32)\n",
    "            self.training = tf.placeholder(tf.bool)\n",
    "            #############\n",
    "            \n",
    "            \n",
    "            ## Embedding ##\n",
    "            if self.is_embedding :\n",
    "                W_emb = tf.Variable(tf.random_normal([self.width, self.emb_width]))\n",
    "                self.X = tf.concat(self.X, tf.matmul(self.X, W_emb), axis=2)\n",
    "            ###############\n",
    "            \n",
    "            \n",
    "            ## RNN ##\n",
    "            f_cell1 = tf.nn.rnn_cell.BasicLSTMCell(self.num_unit)\n",
    "            f_cell2 = tf.nn.rnn_cell.BasicLSTMCell(self.num_unit)\n",
    "            f_multi_cell = tf.nn.rnn_cell.MultiRNNCell([f_cell1, f_cell2])\n",
    "            \n",
    "            f_output, f_state = tf.nn.dynamic_rnn(f_multi_cell, self.X, dtype=tf.float32)\n",
    "            rnn_result = tf.transpose(f_output,[1,0,2])[-1]\n",
    "            #########\n",
    "    \n",
    "            \n",
    "            ## Classifier ##\n",
    "            if is_fc : \n",
    "                dense= tf.layers.dense(rnn_result, self.fc_num_unit)\n",
    "                norm = tf.contrib.layers.layer_norm(dense)\n",
    "                relu = tf.nn.relu(norm)\n",
    "                self.logit = tf.layers.dense(norm, 3)\n",
    "            else :\n",
    "                self.logit = tf.layers.dense(rnn_result, 3)\n",
    "                \n",
    "            self.softmax = tf.nn.softmax(self.logit)\n",
    "            ################\n",
    "            \n",
    "            \n",
    "            ## Learning ##\n",
    "            if cost_function == \"f1\" :\n",
    "                self.numerator = tf.reduce_sum(self.softmax*self.Y)\n",
    "                self.denominator = tf.reduce_sum(self.softmax*self.Y + self.Y)\n",
    "                self.cost = -2 * self.numerator / self.denominator\n",
    "                \n",
    "            else :\n",
    "                self.class_weights = tf.constant([1,1.2,1], dtype=tf.float32) \n",
    "                self.weights = tf.reduce_sum(self.class_weights * self.Y, axis=1)\n",
    "                self.unweighted_losses = tf.nn.softmax_cross_entropy_with_logits(logits=self.logit, labels=self.Y)\n",
    "                \n",
    "                self.weighted_losses = self.unweighted_losses * self.weights\n",
    "                self.cost = tf.reduce_mean(self.weighted_losses)\n",
    "\n",
    "            update_ops = tf.get_collection(tf.GraphKeys.UPDATE_OPS, scope=self.name)\n",
    "            with tf.control_dependencies(update_ops):\n",
    "                self.optimizer = tf.train.AdamOptimizer(learning_rate=self.learning_rate).minimize(self.cost)\n",
    "            \n",
    "            self.prediction = tf.equal(tf.argmax(self.logit, 1), tf.argmax(self.Y, 1))     \n",
    "            self.accuracy = tf.reduce_mean(tf.cast(self.prediction, tf.float32))    \n",
    "            ##############\n",
    "        \n",
    "        \n",
    "    def train(self, X_input, Y_input, learning_rate, training=True):\n",
    "        feed_dict = {self.X: X_input, self.Y: Y_input, self.learning_rate: learning_rate, self.training: training}\n",
    "        _, cost = self.sess.run([self.optimizer, self.cost], feed_dict=feed_dict)\n",
    "        \n",
    "        return _, cost\n",
    "    \n",
    "    def predict(self, X_input, training=False):\n",
    "        feed_dict = {self.X: X_input, self.training: training}\n",
    "        result = self.sess.run([self.logit], feed_dict=feed_dict)\n",
    "            \n",
    "        return result\n",
    "    \n",
    "    def evaluate(self, X_input, Y_input):\n",
    "        size = X_input.shape[0]\n",
    "            \n",
    "        total_loss = 0\n",
    "        total_acc = 0\n",
    "            \n",
    "        for idx in range(0, size, self.batch_size):\n",
    "            X_batch = X_input[idx:idx + batch_size]\n",
    "            Y_batch = Y_input[idx:idx + batch_size]\n",
    "            feed_dict = {self.X: X_batch, self.Y: Y_batch, self.training: False}\n",
    "                \n",
    "            loss = self.cost\n",
    "            accuracy = self.accuracy\n",
    "                \n",
    "            step_loss, step_acc = self.sess.run([loss, accuracy], feed_dict=feed_dict)\n",
    "                \n",
    "            total_loss += step_loss * X_batch.shape[0]\n",
    "            total_acc += step_acc * X_batch.shape[0]\n",
    "            \n",
    "        total_loss /= size\n",
    "        total_acc /= size\n",
    "            \n",
    "        return total_loss, total_acc"
   ]
  },
  {
   "cell_type": "code",
   "execution_count": 18,
   "metadata": {
    "collapsed": true
   },
   "outputs": [],
   "source": [
    "tf.reset_default_graph() "
   ]
  },
  {
   "cell_type": "markdown",
   "metadata": {},
   "source": [
    "<br></br><br></br><br></br> "
   ]
  },
  {
   "cell_type": "code",
   "execution_count": 19,
   "metadata": {
    "collapsed": true
   },
   "outputs": [],
   "source": [
    "learning_rate1 = 0.02\n",
    "learning_rate2 = 0.01\n",
    "learning_rate3 = 0.005\n",
    "learning_rate4 = 0.001\n",
    "\n",
    "total_epoch = 80\n",
    "batch_size = 500\n",
    "input_dim = np.array(total_lst).shape[1]"
   ]
  },
  {
   "cell_type": "code",
   "execution_count": 20,
   "metadata": {},
   "outputs": [
    {
     "name": "stdout",
     "output_type": "stream",
     "text": [
      "0\n",
      "1\n",
      "2\n",
      "3\n",
      "4\n",
      "5\n",
      "6\n",
      "7\n",
      "8\n",
      "9\n",
      "10\n",
      "11\n",
      "12\n",
      "13\n",
      "14\n",
      "15\n",
      "16\n",
      "17\n",
      "Ready!\n"
     ]
    }
   ],
   "source": [
    "idx = 0\n",
    "is_pass = False\n",
    "model_lst = []\n",
    "\n",
    "for is_embedding in [False, True] :\n",
    "    for emb_width in [64,128] :\n",
    "        if not is_pass :\n",
    "            is_pass = True\n",
    "            continue\n",
    "            \n",
    "        for num_unit in [128, 256, 512] :\n",
    "            for is_fc in [False, True] :\n",
    "                for cost in [\"accuracy\"] :\n",
    "                    print(idx) \n",
    "                    sess = tf.Session()\n",
    "                    model = RNN(sess, \"model{}\".format(idx))\n",
    "                    model.build(500, 8, 38, False, emb_width, num_unit, is_fc, 128, tf.nn.relu, cost, 3)\n",
    "                    sess.run(tf.global_variables_initializer())\n",
    "\n",
    "                    model_lst.append(model)\n",
    "                    idx +=1\n",
    "            \n",
    "tl_ta_vl_va_lst = [[[],[],[],[]]]*len(model_lst)\n",
    "print(\"Ready!\")"
   ]
  },
  {
   "cell_type": "code",
   "execution_count": 21,
   "metadata": {
    "scrolled": true
   },
   "outputs": [
    {
     "name": "stdout",
     "output_type": "stream",
     "text": [
      "Learning Started!\n",
      "\n",
      "log : 0\n",
      "log : 10\n",
      "log : 20\n",
      "log : 30\n",
      "log : 40\n",
      "log : 50\n",
      "log : 60\n",
      "log : 70\n",
      "log : 80\n",
      "log : 90\n",
      "log : 100\n",
      "log : 110\n",
      "***epoch*** :  0\n",
      "-- train 0.71377(67.0%), valid0.71218(67.1%)\n",
      "-- train 1.00066(53.7%), valid0.99150(54.5%)\n",
      "-- train 0.71412(67.5%), valid0.71164(67.7%)\n",
      "-- train 1.16411(33.4%), valid1.16507(33.0%)\n",
      "-- train 1.12926(35.4%), valid1.12882(35.2%)\n",
      "-- train 1.16624(33.4%), valid1.16640(33.0%)\n",
      "-- train 0.72507(66.5%), valid0.72431(66.3%)\n",
      "-- train 1.00538(49.4%), valid1.00394(49.0%)\n",
      "-- train 0.72945(65.6%), valid0.73189(65.2%)\n",
      "-- train 1.16792(33.4%), valid1.16781(33.0%)\n",
      "-- train 0.86126(58.0%), valid0.85578(58.3%)\n",
      "-- train 1.16942(33.4%), valid1.16891(33.0%)\n",
      "-- train 0.70088(67.4%), valid0.69945(67.5%)\n",
      "-- train 1.16799(33.4%), valid1.16799(33.0%)\n",
      "-- train 1.15596(50.8%), valid1.13924(52.0%)\n",
      "-- train 1.16634(33.4%), valid1.16621(33.0%)\n",
      "-- train 0.84943(60.1%), valid0.84294(60.6%)\n",
      "-- train 1.16779(33.4%), valid1.16761(33.0%)\n",
      "Accuracy: 0.671066659689\n",
      "Accuracy: 0.54459999601\n",
      "Accuracy: 0.676666661104\n",
      "Accuracy: 0.330266667406\n",
      "Accuracy: 0.352333333095\n",
      "Accuracy: 0.32993333439\n",
      "Accuracy: 0.663066665332\n",
      "Accuracy: 0.490199995041\n",
      "Accuracy: 0.652466670672\n",
      "Accuracy: 0.330133333802\n",
      "Accuracy: 0.58333333532\n",
      "Accuracy: 0.330133333802\n",
      "Accuracy: 0.675399996837\n",
      "Accuracy: 0.330133333802\n",
      "Accuracy: 0.519733332594\n",
      "Accuracy: 0.330133333802\n",
      "Accuracy: 0.605866666635\n",
      "Accuracy: 0.330133333802\n",
      " \n",
      "log : 0\n",
      "log : 10\n",
      "log : 20\n",
      "log : 30\n",
      "log : 40\n",
      "log : 50\n",
      "log : 60\n",
      "log : 70\n",
      "log : 80\n",
      "log : 90\n",
      "log : 100\n",
      "log : 110\n",
      "***epoch*** :  1\n",
      "-- train 0.66986(69.5%), valid0.67176(69.7%)\n",
      "-- train 0.78353(62.6%), valid0.77834(62.6%)\n",
      "-- train 0.69008(68.6%), valid0.68982(68.6%)\n",
      "-- train 1.16118(34.1%), valid1.16252(33.5%)\n",
      "-- train 0.86715(55.3%), valid0.86454(55.1%)\n",
      "-- train 1.12640(47.8%), valid1.12456(48.7%)\n",
      "-- train 0.69201(66.5%), valid0.69658(66.0%)\n",
      "-- train 0.86661(60.2%), valid0.85699(61.0%)\n",
      "-- train 0.68072(68.2%), valid0.68667(67.8%)\n",
      "-- train 1.16781(33.4%), valid1.16787(33.0%)\n",
      "-- train 0.76568(63.8%), valid0.76308(64.1%)\n",
      "-- train 1.17023(33.4%), valid1.16956(33.0%)\n",
      "-- train 0.67616(68.2%), valid0.67896(68.1%)\n",
      "-- train 1.16774(33.4%), valid1.16747(33.0%)\n",
      "-- train 0.72840(67.2%), valid0.72317(67.6%)\n",
      "-- train 1.12493(33.4%), valid1.12314(33.0%)\n",
      "-- train 0.75852(64.7%), valid0.75482(64.9%)\n",
      "-- train 1.17209(33.9%), valid1.17136(33.9%)\n",
      "Accuracy: 0.696600000064\n",
      "Accuracy: 0.626333332062\n",
      "Accuracy: 0.685999993483\n",
      "Accuracy: 0.335399999221\n",
      "Accuracy: 0.551200000445\n",
      "Accuracy: 0.486733331283\n",
      "Accuracy: 0.659933332602\n",
      "Accuracy: 0.609933330615\n",
      "Accuracy: 0.677733333906\n",
      "Accuracy: 0.330133333802\n",
      "Accuracy: 0.641000000636\n",
      "Accuracy: 0.330133333802\n",
      "Accuracy: 0.680733335018\n",
      "Accuracy: 0.330133333802\n",
      "Accuracy: 0.676399999857\n",
      "Accuracy: 0.330133333802\n",
      "Accuracy: 0.649466665586\n",
      "Accuracy: 0.338666668534\n",
      " \n",
      "log : 0\n",
      "log : 10\n",
      "log : 20\n",
      "log : 30\n",
      "log : 40\n",
      "log : 50\n",
      "log : 60\n",
      "log : 70\n",
      "log : 80\n",
      "log : 90\n"
     ]
    },
    {
     "ename": "KeyboardInterrupt",
     "evalue": "",
     "output_type": "error",
     "traceback": [
      "\u001b[0;31m---------------------------------------------------------------------------\u001b[0m",
      "\u001b[0;31mKeyboardInterrupt\u001b[0m                         Traceback (most recent call last)",
      "\u001b[0;32m<ipython-input-21-db6de48a297d>\u001b[0m in \u001b[0;36m<module>\u001b[0;34m()\u001b[0m\n\u001b[1;32m     21\u001b[0m \u001b[0;34m\u001b[0m\u001b[0m\n\u001b[1;32m     22\u001b[0m         \u001b[0;32mfor\u001b[0m \u001b[0mmodel_num\u001b[0m\u001b[0;34m,\u001b[0m \u001b[0mmodel\u001b[0m \u001b[0;32min\u001b[0m \u001b[0menumerate\u001b[0m\u001b[0;34m(\u001b[0m\u001b[0mmodel_lst\u001b[0m\u001b[0;34m)\u001b[0m \u001b[0;34m:\u001b[0m\u001b[0;34m\u001b[0m\u001b[0m\n\u001b[0;32m---> 23\u001b[0;31m             \u001b[0m_\u001b[0m\u001b[0;34m,\u001b[0m \u001b[0mc\u001b[0m \u001b[0;34m=\u001b[0m \u001b[0mmodel\u001b[0m\u001b[0;34m.\u001b[0m\u001b[0mtrain\u001b[0m\u001b[0;34m(\u001b[0m\u001b[0mbatch_xs\u001b[0m\u001b[0;34m,\u001b[0m \u001b[0mbatch_ys\u001b[0m\u001b[0;34m,\u001b[0m \u001b[0mlearning_rate\u001b[0m\u001b[0;34m)\u001b[0m\u001b[0;34m\u001b[0m\u001b[0m\n\u001b[0m\u001b[1;32m     24\u001b[0m             \u001b[0mavg_cost\u001b[0m\u001b[0;34m[\u001b[0m\u001b[0mmodel_num\u001b[0m\u001b[0;34m]\u001b[0m \u001b[0;34m+=\u001b[0m \u001b[0mc\u001b[0m \u001b[0;34m/\u001b[0m \u001b[0mtotal_batch\u001b[0m\u001b[0;34m\u001b[0m\u001b[0m\n\u001b[1;32m     25\u001b[0m \u001b[0;34m\u001b[0m\u001b[0m\n",
      "\u001b[0;32m<ipython-input-17-73a6006e8455>\u001b[0m in \u001b[0;36mtrain\u001b[0;34m(self, X_input, Y_input, learning_rate, training)\u001b[0m\n\u001b[1;32m     81\u001b[0m     \u001b[0;32mdef\u001b[0m \u001b[0mtrain\u001b[0m\u001b[0;34m(\u001b[0m\u001b[0mself\u001b[0m\u001b[0;34m,\u001b[0m \u001b[0mX_input\u001b[0m\u001b[0;34m,\u001b[0m \u001b[0mY_input\u001b[0m\u001b[0;34m,\u001b[0m \u001b[0mlearning_rate\u001b[0m\u001b[0;34m,\u001b[0m \u001b[0mtraining\u001b[0m\u001b[0;34m=\u001b[0m\u001b[0;32mTrue\u001b[0m\u001b[0;34m)\u001b[0m\u001b[0;34m:\u001b[0m\u001b[0;34m\u001b[0m\u001b[0m\n\u001b[1;32m     82\u001b[0m         \u001b[0mfeed_dict\u001b[0m \u001b[0;34m=\u001b[0m \u001b[0;34m{\u001b[0m\u001b[0mself\u001b[0m\u001b[0;34m.\u001b[0m\u001b[0mX\u001b[0m\u001b[0;34m:\u001b[0m \u001b[0mX_input\u001b[0m\u001b[0;34m,\u001b[0m \u001b[0mself\u001b[0m\u001b[0;34m.\u001b[0m\u001b[0mY\u001b[0m\u001b[0;34m:\u001b[0m \u001b[0mY_input\u001b[0m\u001b[0;34m,\u001b[0m \u001b[0mself\u001b[0m\u001b[0;34m.\u001b[0m\u001b[0mlearning_rate\u001b[0m\u001b[0;34m:\u001b[0m \u001b[0mlearning_rate\u001b[0m\u001b[0;34m,\u001b[0m \u001b[0mself\u001b[0m\u001b[0;34m.\u001b[0m\u001b[0mtraining\u001b[0m\u001b[0;34m:\u001b[0m \u001b[0mtraining\u001b[0m\u001b[0;34m}\u001b[0m\u001b[0;34m\u001b[0m\u001b[0m\n\u001b[0;32m---> 83\u001b[0;31m         \u001b[0m_\u001b[0m\u001b[0;34m,\u001b[0m \u001b[0mcost\u001b[0m \u001b[0;34m=\u001b[0m \u001b[0mself\u001b[0m\u001b[0;34m.\u001b[0m\u001b[0msess\u001b[0m\u001b[0;34m.\u001b[0m\u001b[0mrun\u001b[0m\u001b[0;34m(\u001b[0m\u001b[0;34m[\u001b[0m\u001b[0mself\u001b[0m\u001b[0;34m.\u001b[0m\u001b[0moptimizer\u001b[0m\u001b[0;34m,\u001b[0m \u001b[0mself\u001b[0m\u001b[0;34m.\u001b[0m\u001b[0mcost\u001b[0m\u001b[0;34m]\u001b[0m\u001b[0;34m,\u001b[0m \u001b[0mfeed_dict\u001b[0m\u001b[0;34m=\u001b[0m\u001b[0mfeed_dict\u001b[0m\u001b[0;34m)\u001b[0m\u001b[0;34m\u001b[0m\u001b[0m\n\u001b[0m\u001b[1;32m     84\u001b[0m \u001b[0;34m\u001b[0m\u001b[0m\n\u001b[1;32m     85\u001b[0m         \u001b[0;32mreturn\u001b[0m \u001b[0m_\u001b[0m\u001b[0;34m,\u001b[0m \u001b[0mcost\u001b[0m\u001b[0;34m\u001b[0m\u001b[0m\n",
      "\u001b[0;32m/opt/conda/lib/python3.6/site-packages/tensorflow/python/client/session.py\u001b[0m in \u001b[0;36mrun\u001b[0;34m(self, fetches, feed_dict, options, run_metadata)\u001b[0m\n\u001b[1;32m    893\u001b[0m     \u001b[0;32mtry\u001b[0m\u001b[0;34m:\u001b[0m\u001b[0;34m\u001b[0m\u001b[0m\n\u001b[1;32m    894\u001b[0m       result = self._run(None, fetches, feed_dict, options_ptr,\n\u001b[0;32m--> 895\u001b[0;31m                          run_metadata_ptr)\n\u001b[0m\u001b[1;32m    896\u001b[0m       \u001b[0;32mif\u001b[0m \u001b[0mrun_metadata\u001b[0m\u001b[0;34m:\u001b[0m\u001b[0;34m\u001b[0m\u001b[0m\n\u001b[1;32m    897\u001b[0m         \u001b[0mproto_data\u001b[0m \u001b[0;34m=\u001b[0m \u001b[0mtf_session\u001b[0m\u001b[0;34m.\u001b[0m\u001b[0mTF_GetBuffer\u001b[0m\u001b[0;34m(\u001b[0m\u001b[0mrun_metadata_ptr\u001b[0m\u001b[0;34m)\u001b[0m\u001b[0;34m\u001b[0m\u001b[0m\n",
      "\u001b[0;32m/opt/conda/lib/python3.6/site-packages/tensorflow/python/client/session.py\u001b[0m in \u001b[0;36m_run\u001b[0;34m(self, handle, fetches, feed_dict, options, run_metadata)\u001b[0m\n\u001b[1;32m   1122\u001b[0m     \u001b[0;32mif\u001b[0m \u001b[0mfinal_fetches\u001b[0m \u001b[0;32mor\u001b[0m \u001b[0mfinal_targets\u001b[0m \u001b[0;32mor\u001b[0m \u001b[0;34m(\u001b[0m\u001b[0mhandle\u001b[0m \u001b[0;32mand\u001b[0m \u001b[0mfeed_dict_tensor\u001b[0m\u001b[0;34m)\u001b[0m\u001b[0;34m:\u001b[0m\u001b[0;34m\u001b[0m\u001b[0m\n\u001b[1;32m   1123\u001b[0m       results = self._do_run(handle, final_targets, final_fetches,\n\u001b[0;32m-> 1124\u001b[0;31m                              feed_dict_tensor, options, run_metadata)\n\u001b[0m\u001b[1;32m   1125\u001b[0m     \u001b[0;32melse\u001b[0m\u001b[0;34m:\u001b[0m\u001b[0;34m\u001b[0m\u001b[0m\n\u001b[1;32m   1126\u001b[0m       \u001b[0mresults\u001b[0m \u001b[0;34m=\u001b[0m \u001b[0;34m[\u001b[0m\u001b[0;34m]\u001b[0m\u001b[0;34m\u001b[0m\u001b[0m\n",
      "\u001b[0;32m/opt/conda/lib/python3.6/site-packages/tensorflow/python/client/session.py\u001b[0m in \u001b[0;36m_do_run\u001b[0;34m(self, handle, target_list, fetch_list, feed_dict, options, run_metadata)\u001b[0m\n\u001b[1;32m   1319\u001b[0m     \u001b[0;32mif\u001b[0m \u001b[0mhandle\u001b[0m \u001b[0;32mis\u001b[0m \u001b[0;32mNone\u001b[0m\u001b[0;34m:\u001b[0m\u001b[0;34m\u001b[0m\u001b[0m\n\u001b[1;32m   1320\u001b[0m       return self._do_call(_run_fn, self._session, feeds, fetches, targets,\n\u001b[0;32m-> 1321\u001b[0;31m                            options, run_metadata)\n\u001b[0m\u001b[1;32m   1322\u001b[0m     \u001b[0;32melse\u001b[0m\u001b[0;34m:\u001b[0m\u001b[0;34m\u001b[0m\u001b[0m\n\u001b[1;32m   1323\u001b[0m       \u001b[0;32mreturn\u001b[0m \u001b[0mself\u001b[0m\u001b[0;34m.\u001b[0m\u001b[0m_do_call\u001b[0m\u001b[0;34m(\u001b[0m\u001b[0m_prun_fn\u001b[0m\u001b[0;34m,\u001b[0m \u001b[0mself\u001b[0m\u001b[0;34m.\u001b[0m\u001b[0m_session\u001b[0m\u001b[0;34m,\u001b[0m \u001b[0mhandle\u001b[0m\u001b[0;34m,\u001b[0m \u001b[0mfeeds\u001b[0m\u001b[0;34m,\u001b[0m \u001b[0mfetches\u001b[0m\u001b[0;34m)\u001b[0m\u001b[0;34m\u001b[0m\u001b[0m\n",
      "\u001b[0;32m/opt/conda/lib/python3.6/site-packages/tensorflow/python/client/session.py\u001b[0m in \u001b[0;36m_do_call\u001b[0;34m(self, fn, *args)\u001b[0m\n\u001b[1;32m   1325\u001b[0m   \u001b[0;32mdef\u001b[0m \u001b[0m_do_call\u001b[0m\u001b[0;34m(\u001b[0m\u001b[0mself\u001b[0m\u001b[0;34m,\u001b[0m \u001b[0mfn\u001b[0m\u001b[0;34m,\u001b[0m \u001b[0;34m*\u001b[0m\u001b[0margs\u001b[0m\u001b[0;34m)\u001b[0m\u001b[0;34m:\u001b[0m\u001b[0;34m\u001b[0m\u001b[0m\n\u001b[1;32m   1326\u001b[0m     \u001b[0;32mtry\u001b[0m\u001b[0;34m:\u001b[0m\u001b[0;34m\u001b[0m\u001b[0m\n\u001b[0;32m-> 1327\u001b[0;31m       \u001b[0;32mreturn\u001b[0m \u001b[0mfn\u001b[0m\u001b[0;34m(\u001b[0m\u001b[0;34m*\u001b[0m\u001b[0margs\u001b[0m\u001b[0;34m)\u001b[0m\u001b[0;34m\u001b[0m\u001b[0m\n\u001b[0m\u001b[1;32m   1328\u001b[0m     \u001b[0;32mexcept\u001b[0m \u001b[0merrors\u001b[0m\u001b[0;34m.\u001b[0m\u001b[0mOpError\u001b[0m \u001b[0;32mas\u001b[0m \u001b[0me\u001b[0m\u001b[0;34m:\u001b[0m\u001b[0;34m\u001b[0m\u001b[0m\n\u001b[1;32m   1329\u001b[0m       \u001b[0mmessage\u001b[0m \u001b[0;34m=\u001b[0m \u001b[0mcompat\u001b[0m\u001b[0;34m.\u001b[0m\u001b[0mas_text\u001b[0m\u001b[0;34m(\u001b[0m\u001b[0me\u001b[0m\u001b[0;34m.\u001b[0m\u001b[0mmessage\u001b[0m\u001b[0;34m)\u001b[0m\u001b[0;34m\u001b[0m\u001b[0m\n",
      "\u001b[0;32m/opt/conda/lib/python3.6/site-packages/tensorflow/python/client/session.py\u001b[0m in \u001b[0;36m_run_fn\u001b[0;34m(session, feed_dict, fetch_list, target_list, options, run_metadata)\u001b[0m\n\u001b[1;32m   1304\u001b[0m           return tf_session.TF_Run(session, options,\n\u001b[1;32m   1305\u001b[0m                                    \u001b[0mfeed_dict\u001b[0m\u001b[0;34m,\u001b[0m \u001b[0mfetch_list\u001b[0m\u001b[0;34m,\u001b[0m \u001b[0mtarget_list\u001b[0m\u001b[0;34m,\u001b[0m\u001b[0;34m\u001b[0m\u001b[0m\n\u001b[0;32m-> 1306\u001b[0;31m                                    status, run_metadata)\n\u001b[0m\u001b[1;32m   1307\u001b[0m \u001b[0;34m\u001b[0m\u001b[0m\n\u001b[1;32m   1308\u001b[0m     \u001b[0;32mdef\u001b[0m \u001b[0m_prun_fn\u001b[0m\u001b[0;34m(\u001b[0m\u001b[0msession\u001b[0m\u001b[0;34m,\u001b[0m \u001b[0mhandle\u001b[0m\u001b[0;34m,\u001b[0m \u001b[0mfeed_dict\u001b[0m\u001b[0;34m,\u001b[0m \u001b[0mfetch_list\u001b[0m\u001b[0;34m)\u001b[0m\u001b[0;34m:\u001b[0m\u001b[0;34m\u001b[0m\u001b[0m\n",
      "\u001b[0;31mKeyboardInterrupt\u001b[0m: "
     ]
    }
   ],
   "source": [
    "print('Learning Started!')\n",
    "print(\"\")\n",
    "\n",
    "# train my model\n",
    "for epoch in range(total_epoch):\n",
    "    avg_cost = [0]*len(model_lst)\n",
    "    total_batch = int(len(training_lst) / batch_size)\n",
    "    idx = 0\n",
    "    \n",
    "    if epoch == 0 :\n",
    "        learning_rate = learning_rate1\n",
    "    elif epoch == 10 :\n",
    "        learning_rate = learning_rate2\n",
    "    elif epoch == 20 :\n",
    "        learning_rate = learning_rate3\n",
    "    elif epoch == 80 :\n",
    "        learning_rate = learning_rate4\n",
    "\n",
    "    for i in range(total_batch):\n",
    "        batch_xs, batch_ys = training_lst[idx:idx+batch_size],training_label[idx:idx+batch_size]\n",
    "        \n",
    "        for model_num, model in enumerate(model_lst) :\n",
    "            _, c = model.train(batch_xs, batch_ys, learning_rate)\n",
    "            avg_cost[model_num] += c / total_batch\n",
    "        \n",
    "        idx += batch_size\n",
    "        if i%10 == 0 :\n",
    "            print(\"log :\", i)\n",
    "            \n",
    "    #train/valid cost & acc\n",
    "    print(\"***epoch*** : \", epoch)\n",
    "    for model_num, model in enumerate(model_lst) :\n",
    "        train_cost, train_acc = model.evaluate(training_lst, training_label)\n",
    "        valid_cost, valid_acc = model.evaluate(valid_lst, valid_label)\n",
    "\n",
    "        tl_ta_vl_va_lst[model_num][0].append(train_cost)\n",
    "        tl_ta_vl_va_lst[model_num][1].append(train_acc)\n",
    "        tl_ta_vl_va_lst[model_num][2].append(valid_cost)\n",
    "        tl_ta_vl_va_lst[model_num][3].append(valid_acc)\n",
    "\n",
    "        print(\"-- train {:.5f}({:.1f}%), valid{:.5f}({:.1f}%)\".format(train_cost, train_acc*100, valid_cost, valid_acc*100))\n",
    "    \n",
    "    for model in model_lst :\n",
    "        print('Accuracy:', model.evaluate(valid_lst, valid_label)[1])\n",
    "    print(\" \")\n",
    "\n",
    "print(\"\")\n",
    "print('Learning Finished!')"
   ]
  },
  {
   "cell_type": "markdown",
   "metadata": {},
   "source": [
    " <br></br><br></br><br></br> "
   ]
  },
  {
   "cell_type": "code",
   "execution_count": null,
   "metadata": {
    "collapsed": true,
    "scrolled": true
   },
   "outputs": [],
   "source": [
    "for idx in range(len(model_lst)) :\n",
    "    plt.plot(tl_ta_vl_va_lst[idx][0], label='training'+str(idx))\n",
    "    plt.plot(tl_ta_vl_va_lst[idx][2], label='valid'+str(idx))\n",
    "    plt.title(\"model\"+str(idx))\n",
    "    plt.grid(\"on\")\n",
    "    plt.legend()\n",
    "    plt.show()"
   ]
  },
  {
   "cell_type": "code",
   "execution_count": null,
   "metadata": {
    "collapsed": true,
    "scrolled": true
   },
   "outputs": [],
   "source": [
    "for idx in range(len(model_lst)) :\n",
    "    plt.plot(tl_ta_vl_va_lst[idx][1], label='training'+str(idx))\n",
    "    plt.plot(tl_ta_vl_va_lst[idx][3], label='valid'+str(idx))\n",
    "    plt.title(\"model\"+str(idx))\n",
    "    plt.grid(\"on\")\n",
    "    plt.legend()\n",
    "    plt.show()"
   ]
  },
  {
   "cell_type": "code",
   "execution_count": null,
   "metadata": {
    "collapsed": true
   },
   "outputs": [],
   "source": [
    "for idx in range(len(model_lst)) :\n",
    "    plt.plot(tl_ta_vl_va_lst[idx][0], label='training'+str(idx))\n",
    "    \n",
    "plt.grid(\"on\")\n",
    "plt.legend()\n",
    "plt.show()"
   ]
  },
  {
   "cell_type": "code",
   "execution_count": null,
   "metadata": {
    "collapsed": true
   },
   "outputs": [],
   "source": [
    "for idx in range(len(model_lst)) :\n",
    "    plt.plot(tl_ta_vl_va_lst[idx][2], label='training'+str(idx))\n",
    "    \n",
    "plt.grid(\"on\")\n",
    "plt.legend()\n",
    "plt.show()"
   ]
  },
  {
   "cell_type": "code",
   "execution_count": null,
   "metadata": {
    "collapsed": true
   },
   "outputs": [],
   "source": [
    "for idx in range(len(model_lst)) :\n",
    "    plt.plot(tl_ta_vl_va_lst[idx][1], label='training'+str(idx))\n",
    "    \n",
    "plt.grid(\"on\")\n",
    "plt.legend()\n",
    "plt.show()"
   ]
  },
  {
   "cell_type": "code",
   "execution_count": null,
   "metadata": {
    "collapsed": true
   },
   "outputs": [],
   "source": [
    "for idx in range(len(model_lst)) :\n",
    "    plt.plot(tl_ta_vl_va_lst[idx][3], label='training'+str(idx))\n",
    "    \n",
    "plt.grid(\"on\")\n",
    "plt.legend()\n",
    "plt.show()"
   ]
  },
  {
   "cell_type": "markdown",
   "metadata": {},
   "source": [
    " <br></br><br></br><br></br>  "
   ]
  },
  {
   "cell_type": "code",
   "execution_count": null,
   "metadata": {
    "collapsed": true
   },
   "outputs": [],
   "source": [
    "#tf.reset_default_graph() "
   ]
  },
  {
   "cell_type": "code",
   "execution_count": 364,
   "metadata": {},
   "outputs": [
    {
     "data": {
      "text/plain": [
       "'./advanced_RNN/original_user_vector/original'"
      ]
     },
     "execution_count": 364,
     "metadata": {},
     "output_type": "execute_result"
    }
   ],
   "source": [
    "saver = tf.train.Saver()\n",
    "\n",
    "for idx, model in enumerate(model_lst) :\n",
    "    saver.save(model.sess, './model/MLP_default_model_{}'.format(idx))\n",
    "\n",
    "print(\"Saved!\")"
   ]
  },
  {
   "cell_type": "markdown",
   "metadata": {},
   "source": [
    "<br></br><br></br><br></br>"
   ]
  },
  {
   "cell_type": "markdown",
   "metadata": {},
   "source": [
    "# Test"
   ]
  },
  {
   "cell_type": "code",
   "execution_count": 365,
   "metadata": {
    "collapsed": true
   },
   "outputs": [],
   "source": [
    "def making_data(csv) :\n",
    "    activity = pd.read_csv(csv).drop(\"Unnamed: 0\", axis=1)\n",
    "    \n",
    "    activity = activity[activity[\"label\"] == \"empty\"]\n",
    "    activity = activity.drop(\"label\", axis=1)\n",
    "    \n",
    "    activity = activity.sort_values([\"acc_id\",\"wk\"])[['acc_id', 'wk', 'cnt_clear_bam', 'cnt_clear_inzone_light','cnt_clear_inzone_normal', \n",
    "                                                  'cnt_clear_inzone_skilled', 'cnt_clear_inzone_solo', 'cnt_clear_raid', 'cnt_clear_raid_light',\n",
    "                                                  'cnt_dt', 'cnt_enter_bam', 'cnt_enter_inzone_light', 'cnt_enter_inzone_normal', \n",
    "                                                  'cnt_enter_inzone_skilled', 'cnt_enter_inzone_solo', 'cnt_enter_raid', 'cnt_enter_raid_light',\n",
    "                                                  'cnt_use_buffitem', 'district_chat', 'duel_cnt', 'duel_win', 'faction_chat', 'game_combat_time', \n",
    "                                                  'gathering_cnt', 'get_money','guild_chat', 'item_hongmun', 'making_cnt', 'normal_chat', \n",
    "                                                  'npc_exp', 'npc_hongmun', 'party_chat', 'partybattle_cnt', 'partybattle_win', 'play_time', \n",
    "                                                  'quest_exp', 'quest_hongmun', 'whisper_chat','first_week', 'payment_amount']]\n",
    "    \n",
    "    activity1 = activity[activity[\"wk\"]==1].drop([\"acc_id\", \"wk\"], axis=1)\n",
    "    activity2 = activity[activity[\"wk\"]==2].drop([\"acc_id\", \"wk\"], axis=1)\n",
    "    activity3 = activity[activity[\"wk\"]==3].drop([\"acc_id\", \"wk\"], axis=1)\n",
    "    activity4 = activity[activity[\"wk\"]==4].drop([\"acc_id\", \"wk\"], axis=1)\n",
    "    activity5 = activity[activity[\"wk\"]==5].drop([\"acc_id\", \"wk\"], axis=1)\n",
    "    activity6 = activity[activity[\"wk\"]==6].drop([\"acc_id\", \"wk\"], axis=1)\n",
    "    activity7 = activity[activity[\"wk\"]==7].drop([\"acc_id\", \"wk\"], axis=1)\n",
    "    activity8 = activity[activity[\"wk\"]==8].drop([\"acc_id\", \"wk\"], axis=1)\n",
    "    \n",
    "    label = activity[\"acc_id\"].values\n",
    "    activity = np.concatenate([activity1.values, activity2.values, activity3.values, activity4.values,\n",
    "                               activity5.values, activity6.values, activity7.values, activity8.values], axis=1)\n",
    "\n",
    "    total_lst = activity\n",
    "    return total_lst, label"
   ]
  },
  {
   "cell_type": "code",
   "execution_count": null,
   "metadata": {
    "collapsed": true
   },
   "outputs": [],
   "source": [
    "test_data, test_acc_id = making_data(\"OnlyExpanded.csv\")"
   ]
  },
  {
   "cell_type": "code",
   "execution_count": null,
   "metadata": {
    "collapsed": true
   },
   "outputs": [],
   "source": [
    "print(test_data.shape)"
   ]
  },
  {
   "cell_type": "markdown",
   "metadata": {},
   "source": [
    "<br></br><br></br><br></br> "
   ]
  },
  {
   "cell_type": "markdown",
   "metadata": {},
   "source": [
    "# Predict"
   ]
  },
  {
   "cell_type": "code",
   "execution_count": null,
   "metadata": {
    "collapsed": true
   },
   "outputs": [],
   "source": [
    "result = []\n",
    "for model in model_lst :\n",
    "    result.append(np.argmax(model.predict(test_data), axis=2)) \n",
    "    \n",
    "result = list(map(lambda x : x.tolist()[0], result))\n",
    "for r_lst in result :\n",
    "    print(\"week: {}, month: {}, 2month: {}, retained: {}\".format(r_lst.count(0), r_lst.count(1), r_lst.count(2), r_lst.count(3)))"
   ]
  },
  {
   "cell_type": "code",
   "execution_count": null,
   "metadata": {
    "collapsed": true
   },
   "outputs": [],
   "source": [
    "label_df = pd.DataFrame(sorted(list(set(list(test_acc_id))))).rename(columns = {0 : \"acc_id\"})\n",
    "result_df = pd.DataFrame(result).T"
   ]
  },
  {
   "cell_type": "code",
   "execution_count": null,
   "metadata": {
    "collapsed": true
   },
   "outputs": [],
   "source": [
    "result_df2 = pd.concat([label_df, result_df], axis=1)\n",
    "result_df2.head()"
   ]
  },
  {
   "cell_type": "code",
   "execution_count": null,
   "metadata": {
    "collapsed": true
   },
   "outputs": [],
   "source": []
  },
  {
   "cell_type": "code",
   "execution_count": null,
   "metadata": {
    "collapsed": true
   },
   "outputs": [],
   "source": []
  },
  {
   "cell_type": "code",
   "execution_count": null,
   "metadata": {
    "collapsed": true
   },
   "outputs": [],
   "source": []
  },
  {
   "cell_type": "code",
   "execution_count": null,
   "metadata": {
    "collapsed": true
   },
   "outputs": [],
   "source": []
  },
  {
   "cell_type": "code",
   "execution_count": null,
   "metadata": {
    "collapsed": true
   },
   "outputs": [],
   "source": []
  }
 ],
 "metadata": {
  "kernelspec": {
   "display_name": "Python 3",
   "language": "python",
   "name": "python3"
  },
  "language_info": {
   "codemirror_mode": {
    "name": "ipython",
    "version": 3
   },
   "file_extension": ".py",
   "mimetype": "text/x-python",
   "name": "python",
   "nbconvert_exporter": "python",
   "pygments_lexer": "ipython3",
   "version": "3.6.4"
  }
 },
 "nbformat": 4,
 "nbformat_minor": 2
}
