{
 "cells": [
  {
   "cell_type": "code",
   "execution_count": null,
   "metadata": {},
   "outputs": [],
   "source": [
    "import numpy as np\n",
    "import pandas as pd"
   ]
  },
  {
   "cell_type": "code",
   "execution_count": null,
   "metadata": {},
   "outputs": [],
   "source": [
    "activity = pd.read_csv(\"test_activity.csv\")\n",
    "guild = pd.read_csv(\"test_guild.csv\")\n",
    "party = pd.read_csv(\"test_party.csv\")\n",
    "payment = pd.read_csv(\"test_payment.csv\")\n",
    "payment2 = pd.read_csv(\"test_payment2.csv\")\n",
    "trade = pd.read_csv(\"test_trade.csv\")"
   ]
  },
  {
   "cell_type": "code",
   "execution_count": null,
   "metadata": {},
   "outputs": [],
   "source": [
    "label = activity.groupby(\"acc_id\").count().reset_index()[[\"acc_id\"]]\n",
    "label.head()\n"
   ]
  },
  {
   "cell_type": "code",
   "execution_count": null,
   "metadata": {},
   "outputs": [],
   "source": [
    "pd.set_option('display.max_columns', 100)\n",
    "pd.set_option('display.max_rows', 500)"
   ]
  },
  {
   "cell_type": "markdown",
   "metadata": {},
   "source": [
    " "
   ]
  },
  {
   "cell_type": "markdown",
   "metadata": {},
   "source": [
    "## activity"
   ]
  },
  {
   "cell_type": "code",
   "execution_count": null,
   "metadata": {
    "scrolled": true
   },
   "outputs": [],
   "source": [
    "activity = activity.drop(\"Unnamed: 0\", axis=1)\n",
    "\n",
    "print(len(activity))\n",
    "activity.head()"
   ]
  },
  {
   "cell_type": "markdown",
   "metadata": {},
   "source": [
    " "
   ]
  },
  {
   "cell_type": "markdown",
   "metadata": {},
   "source": [
    "## guild"
   ]
  },
  {
   "cell_type": "code",
   "execution_count": null,
   "metadata": {},
   "outputs": [],
   "source": [
    "guild = guild.drop(\"Unnamed: 0\", axis=1)\n",
    "\n",
    "print(len(guild))\n",
    "guild.head()"
   ]
  },
  {
   "cell_type": "markdown",
   "metadata": {},
   "source": [
    " "
   ]
  },
  {
   "cell_type": "markdown",
   "metadata": {},
   "source": [
    "## party"
   ]
  },
  {
   "cell_type": "code",
   "execution_count": null,
   "metadata": {
    "scrolled": true
   },
   "outputs": [],
   "source": [
    "party = party.drop(\"Unnamed: 0\", axis=1)\n",
    "\n",
    "print(len(party))\n",
    "party.head()"
   ]
  },
  {
   "cell_type": "code",
   "execution_count": null,
   "metadata": {},
   "outputs": [],
   "source": [
    "label2 = label.copy()\n",
    "party2 = party.rename(columns = {\"hashed\" : \"acc_id\"})"
   ]
  },
  {
   "cell_type": "code",
   "execution_count": null,
   "metadata": {},
   "outputs": [],
   "source": [
    "party2 = party2.sort_values(by = [\"acc_id\", \"party_start_week\", \"party_start_day\", \"party_start_time\"])\n",
    "label2 = label2.sort_values(by = \"acc_id\")"
   ]
  },
  {
   "cell_type": "code",
   "execution_count": null,
   "metadata": {},
   "outputs": [],
   "source": [
    "party2 = party2[[\"acc_id\", \"party_start_week\", \"party_start_day\", \"party_start_time\", \"party_end_week\", \"party_end_day\", \"party_end_time\"]]\n",
    "party2.head(40)"
   ]
  },
  {
   "cell_type": "code",
   "execution_count": null,
   "metadata": {
    "scrolled": true
   },
   "outputs": [],
   "source": [
    "label2.head()"
   ]
  },
  {
   "cell_type": "code",
   "execution_count": null,
   "metadata": {},
   "outputs": [],
   "source": [
    "party3 = pd.merge(label2, party2, how='left', on=['acc_id'])\n",
    "\n",
    "print(len(party3))\n",
    "party3 .head(40)"
   ]
  },
  {
   "cell_type": "code",
   "execution_count": null,
   "metadata": {
    "scrolled": false
   },
   "outputs": [],
   "source": [
    "print(party3.groupby(\"acc_id\")[\"party_start_week\"].count().min())\n",
    "print(party3.groupby(\"acc_id\")[\"party_start_week\"].count().mean())\n",
    "print(party3.groupby(\"acc_id\")[\"party_start_week\"].count().median())\n",
    "print(party3.groupby(\"acc_id\")[\"party_start_week\"].count().max())"
   ]
  },
  {
   "cell_type": "code",
   "execution_count": null,
   "metadata": {},
   "outputs": [],
   "source": [
    "#party 횟수의 분포\n",
    "print(len(party3.groupby(\"acc_id\").count()))\n",
    "party3.groupby(\"acc_id\").count().groupby(\"party_start_week\").count()"
   ]
  },
  {
   "cell_type": "markdown",
   "metadata": {},
   "source": [
    " "
   ]
  },
  {
   "cell_type": "markdown",
   "metadata": {},
   "source": [
    "## payment"
   ]
  },
  {
   "cell_type": "code",
   "execution_count": null,
   "metadata": {},
   "outputs": [],
   "source": [
    "payment = payment.drop(\"Unnamed: 0\", axis=1).rename(columns = {\"payment_week\":\"week\"})\n",
    "\n",
    "print(len(payment))\n",
    "payment.head()"
   ]
  },
  {
   "cell_type": "code",
   "execution_count": null,
   "metadata": {
    "scrolled": true
   },
   "outputs": [],
   "source": [
    "print(len(payment2))\n",
    "payment2.head()"
   ]
  },
  {
   "cell_type": "markdown",
   "metadata": {},
   "source": [
    " "
   ]
  },
  {
   "cell_type": "markdown",
   "metadata": {},
   "source": [
    "## trade"
   ]
  },
  {
   "cell_type": "code",
   "execution_count": null,
   "metadata": {
    "scrolled": true
   },
   "outputs": [],
   "source": [
    "trade = trade.drop(\"Unnamed: 0\", axis=1)\n",
    "trade[\"source\"] = 1\n",
    "trade[\"target\"] = 0\n",
    "\n",
    "print(len(trade))\n",
    "trade.head()"
   ]
  },
  {
   "cell_type": "code",
   "execution_count": null,
   "metadata": {},
   "outputs": [],
   "source": [
    "trade1 = trade[[\"source_acc_id\", \"trade_week\",\"trade_day\",\"trade_time\",\"item_type\", \"item_amount\", \"source\"]].rename(columns = {\"source_acc_id\":\"acc_id\"})\n",
    "trade2 = trade[[\"target_acc_id\", \"trade_week\",\"trade_day\",\"trade_time\",\"item_type\", \"item_amount\", \"target\"]].rename(columns = {\"target_acc_id\":\"acc_id\", \"target\":\"source\"})"
   ]
  },
  {
   "cell_type": "code",
   "execution_count": null,
   "metadata": {},
   "outputs": [],
   "source": [
    "trade1 = trade1.sort_values(by = [\"acc_id\", \"trade_week\", \"trade_day\", \"trade_time\"])\n",
    "trade2 = trade2.sort_values(by = [\"acc_id\", \"trade_week\", \"trade_day\", \"trade_time\"])"
   ]
  },
  {
   "cell_type": "code",
   "execution_count": null,
   "metadata": {
    "scrolled": true
   },
   "outputs": [],
   "source": [
    "trade3 = pd.concat([trade1, trade2]).sort_values(by = [\"acc_id\", \"trade_week\", \"trade_day\", \"trade_time\"])\n",
    "\n",
    "print(len(trade3))\n",
    "trade3.head(10)"
   ]
  },
  {
   "cell_type": "code",
   "execution_count": null,
   "metadata": {
    "scrolled": false
   },
   "outputs": [],
   "source": [
    "trade4 = trade3.drop_duplicates(subset=[\"acc_id\", \"trade_week\",\"trade_day\",\"trade_time\",\"item_type\", \"item_amount\", \"source\"])\n",
    "\n",
    "print(len(trade4))\n",
    "trade4.head(20)"
   ]
  },
  {
   "cell_type": "code",
   "execution_count": null,
   "metadata": {},
   "outputs": [],
   "source": [
    "trade5 = pd.merge(label2, trade4, how='left', on=['acc_id'])\n",
    "\n",
    "print(len(trade5))\n",
    "trade5.head(40)"
   ]
  },
  {
   "cell_type": "code",
   "execution_count": null,
   "metadata": {},
   "outputs": [],
   "source": [
    "#trade 횟수의 분포\n",
    "temp = trade5.groupby(\"acc_id\")[\"trade_week\"].count()\n",
    "print(temp.min())\n",
    "print(temp.mean())\n",
    "print(temp.median())\n",
    "print(temp.max())"
   ]
  },
  {
   "cell_type": "code",
   "execution_count": null,
   "metadata": {},
   "outputs": [],
   "source": [
    "#trade 횟수의 분포\n",
    "temp = trade5.groupby(\"acc_id\").count()\n",
    "print(len(temp))\n",
    "temp.groupby(\"trade_week\").count()"
   ]
  },
  {
   "cell_type": "markdown",
   "metadata": {},
   "source": [
    "<br></br><br></br><br></br>"
   ]
  },
  {
   "cell_type": "markdown",
   "metadata": {},
   "source": [
    "# activity vector 만들기"
   ]
  },
  {
   "cell_type": "code",
   "execution_count": null,
   "metadata": {},
   "outputs": [],
   "source": [
    "trade5.head()"
   ]
  },
  {
   "cell_type": "code",
   "execution_count": null,
   "metadata": {},
   "outputs": [],
   "source": [
    "party3.head()"
   ]
  },
  {
   "cell_type": "markdown",
   "metadata": {},
   "source": [
    " "
   ]
  },
  {
   "cell_type": "code",
   "execution_count": null,
   "metadata": {},
   "outputs": [],
   "source": [
    "trade6 = trade5.rename(columns = {\"trade_week\" : \"week\", \"trade_day\" : \"day\"})\n",
    "trade6[\"hour\"] = trade6[\"trade_time\"].map(lambda x : int(x.split(\":\")[0]) if type(x) == str else x)\n",
    "trade6[\"minute\"] = trade6[\"trade_time\"].map(lambda x : int(x.split(\":\")[1]) if type(x) == str else x)\n",
    "trade6 = trade6.drop(\"trade_time\", axis=1)"
   ]
  },
  {
   "cell_type": "code",
   "execution_count": null,
   "metadata": {
    "scrolled": false
   },
   "outputs": [],
   "source": [
    "trade6 = trade6.sort_values(by = [\"acc_id\", \"week\", \"day\", \"hour\", \"minute\"])[[\"acc_id\", \"week\", \"day\", \"hour\", \"minute\", \"item_type\", \"item_amount\", \"source\"]]\n",
    "trade6.head()"
   ]
  },
  {
   "cell_type": "markdown",
   "metadata": {},
   "source": [
    " "
   ]
  },
  {
   "cell_type": "code",
   "execution_count": null,
   "metadata": {},
   "outputs": [],
   "source": [
    "party4 = party3.rename(columns = {\"party_start_week\" : \"week\", \"party_start_day\" : \"day\"})\n",
    "party4[\"hour\"] = party4[\"party_start_time\"].map(lambda x : int(x.split(\":\")[0]) if type(x) == str else x)\n",
    "party4[\"minute\"] = party4[\"party_start_time\"].map(lambda x : int(x.split(\":\")[1]) if type(x) == str else x)"
   ]
  },
  {
   "cell_type": "code",
   "execution_count": null,
   "metadata": {},
   "outputs": [],
   "source": [
    "party4[\"time\"] = party4[\"party_end_week\"]*7*24*60 \\\n",
    "                 +party4[\"party_end_day\"]*24*60 \\\n",
    "                 +party4[\"party_end_time\"].map(lambda x : int(x.split(\":\")[0]) if type(x) == str else x)*60 \\\n",
    "                 +party4[\"party_end_time\"].map(lambda x : int(x.split(\":\")[1]) if type(x) == str else x) \\\n",
    "                 -party4[\"week\"]*7*24*60 \\\n",
    "                 -party4[\"day\"]*24*60 \\\n",
    "                 -party4[\"party_start_time\"].map(lambda x : int(x.split(\":\")[0]) if type(x) == str else x)*60 \\\n",
    "                 -party4[\"party_start_time\"].map(lambda x : int(x.split(\":\")[1]) if type(x) == str else x) "
   ]
  },
  {
   "cell_type": "code",
   "execution_count": null,
   "metadata": {},
   "outputs": [],
   "source": [
    "party4 = party4.drop([\"party_start_time\", \"party_end_week\", \"party_end_day\", \"party_end_time\"], axis=1)\n",
    "party4 = party4.sort_values(by = [\"acc_id\", \"week\", \"day\", \"hour\", \"minute\"])[[\"acc_id\", \"week\", \"day\", \"hour\", \"minute\", \"time\"]]\n",
    "party4.head()"
   ]
  },
  {
   "cell_type": "markdown",
   "metadata": {},
   "source": [
    " "
   ]
  },
  {
   "cell_type": "code",
   "execution_count": null,
   "metadata": {},
   "outputs": [],
   "source": [
    "trade6.head(20)"
   ]
  },
  {
   "cell_type": "code",
   "execution_count": null,
   "metadata": {},
   "outputs": [],
   "source": [
    "party4.head(20)"
   ]
  },
  {
   "cell_type": "code",
   "execution_count": null,
   "metadata": {},
   "outputs": [],
   "source": [
    "result = pd.concat([trade6, party4])\n",
    "result.head(20)"
   ]
  },
  {
   "cell_type": "code",
   "execution_count": null,
   "metadata": {},
   "outputs": [],
   "source": [
    "result = result[[\"acc_id\",\"week\",\"day\",\"hour\", \"minute\", \"time\", \"item_amount\", \"item_type\", \"source\"]].sort_values(by= [\"acc_id\",\"week\",\"day\",\"hour\", \"minute\"])\n",
    "result.head(50)"
   ]
  },
  {
   "cell_type": "code",
   "execution_count": null,
   "metadata": {},
   "outputs": [],
   "source": [
    "#activity 횟수의 분포\n",
    "result.groupby(\"acc_id\").count().groupby(\"week\").count().head()"
   ]
  },
  {
   "cell_type": "markdown",
   "metadata": {},
   "source": [
    " "
   ]
  },
  {
   "cell_type": "markdown",
   "metadata": {},
   "source": [
    "# user vector 만들기"
   ]
  },
  {
   "cell_type": "code",
   "execution_count": null,
   "metadata": {
    "scrolled": true
   },
   "outputs": [],
   "source": [
    "activity2 = activity.rename(columns = {\"wk\":\"week\"})\n",
    "activity2.head()"
   ]
  },
  {
   "cell_type": "markdown",
   "metadata": {},
   "source": [
    " "
   ]
  },
  {
   "cell_type": "markdown",
   "metadata": {},
   "source": [
    "## payment"
   ]
  },
  {
   "cell_type": "markdown",
   "metadata": {},
   "source": [
    "### 각 주의 충전금액"
   ]
  },
  {
   "cell_type": "code",
   "execution_count": null,
   "metadata": {},
   "outputs": [],
   "source": [
    "payment.sort_values(\"acc_id\").head(20)"
   ]
  },
  {
   "cell_type": "code",
   "execution_count": null,
   "metadata": {},
   "outputs": [],
   "source": [
    "activity_payment = pd.merge(activity2, payment, how='left', on=['acc_id', 'week']).sort_values(by = [\"acc_id\", \"week\"])\n",
    "activity_payment.head()"
   ]
  },
  {
   "cell_type": "markdown",
   "metadata": {},
   "source": [
    " "
   ]
  },
  {
   "cell_type": "markdown",
   "metadata": {},
   "source": [
    "## party"
   ]
  },
  {
   "cell_type": "markdown",
   "metadata": {},
   "source": [
    "### 각 주의 party 횟수"
   ]
  },
  {
   "cell_type": "code",
   "execution_count": null,
   "metadata": {},
   "outputs": [],
   "source": [
    "party5 = party4.groupby([\"acc_id\", \"week\"]).count()[[\"day\"]].rename(columns ={\"day\" : \"party_count\"}).reset_index()\n",
    "party5.head(20)"
   ]
  },
  {
   "cell_type": "code",
   "execution_count": null,
   "metadata": {
    "scrolled": true
   },
   "outputs": [],
   "source": [
    "activity_payment_party = pd.merge(activity_payment, party5, how='left', on=['acc_id', 'week']).sort_values(by = [\"acc_id\", \"week\"])\n",
    "activity_payment_party.head(20)"
   ]
  },
  {
   "cell_type": "code",
   "execution_count": null,
   "metadata": {
    "scrolled": true
   },
   "outputs": [],
   "source": [
    "print(activity_payment_party.isnull().count()[-1])\n",
    "activity_payment_party.isnull().any()"
   ]
  },
  {
   "cell_type": "code",
   "execution_count": null,
   "metadata": {},
   "outputs": [],
   "source": [
    "activity_payment_party = activity_payment_party.fillna(0)"
   ]
  },
  {
   "cell_type": "markdown",
   "metadata": {},
   "source": [
    "### 각 주의 party시간 총합"
   ]
  },
  {
   "cell_type": "code",
   "execution_count": null,
   "metadata": {},
   "outputs": [],
   "source": [
    "party6 = party4.groupby([\"acc_id\", \"week\"]).sum()[[\"time\"]].reset_index().rename(columns = {\"time\": \"party_time_total\"})\n",
    "party6.head(20)"
   ]
  },
  {
   "cell_type": "code",
   "execution_count": null,
   "metadata": {
    "scrolled": true
   },
   "outputs": [],
   "source": [
    "activity_payment_party2 = pd.merge(activity_payment_party, party6, how='left', on=['acc_id', 'week']).sort_values(by = [\"acc_id\", \"week\"])\n",
    "activity_payment_party2.head(20)"
   ]
  },
  {
   "cell_type": "code",
   "execution_count": null,
   "metadata": {},
   "outputs": [],
   "source": [
    "activity_payment_party2 = activity_payment_party2.fillna(0)"
   ]
  },
  {
   "cell_type": "markdown",
   "metadata": {},
   "source": [
    "### 각 주의 party시간 평균"
   ]
  },
  {
   "cell_type": "code",
   "execution_count": null,
   "metadata": {},
   "outputs": [],
   "source": [
    "party7 = party4.groupby([\"acc_id\", \"week\"]).mean()[[\"time\"]].reset_index().rename(columns = {\"time\": \"party_time_mean\"})\n",
    "party7.head(20)"
   ]
  },
  {
   "cell_type": "code",
   "execution_count": null,
   "metadata": {},
   "outputs": [],
   "source": [
    "activity_payment_party3 = pd.merge(activity_payment_party2, party7, how='left', on=['acc_id', 'week']).sort_values(by = [\"acc_id\", \"week\"])\n",
    "activity_payment_party3.head(20)"
   ]
  },
  {
   "cell_type": "code",
   "execution_count": null,
   "metadata": {},
   "outputs": [],
   "source": [
    "activity_payment_party3 = activity_payment_party3.fillna(0)"
   ]
  },
  {
   "cell_type": "markdown",
   "metadata": {},
   "source": [
    " "
   ]
  },
  {
   "cell_type": "markdown",
   "metadata": {},
   "source": [
    "## trade"
   ]
  },
  {
   "cell_type": "markdown",
   "metadata": {},
   "source": [
    "### 각 주의 trade횟수"
   ]
  },
  {
   "cell_type": "code",
   "execution_count": null,
   "metadata": {},
   "outputs": [],
   "source": [
    "trade7 = trade6.groupby([\"acc_id\", \"week\"]).count()[[\"day\"]].reset_index().rename(columns = {\"day\": \"trade_count\"})\n",
    "trade7.head()"
   ]
  },
  {
   "cell_type": "code",
   "execution_count": null,
   "metadata": {},
   "outputs": [],
   "source": [
    "activity_payment_party_trade = pd.merge(activity_payment_party3, trade7, how='left', on=['acc_id', 'week']).sort_values(by = [\"acc_id\", \"week\"])\n",
    "activity_payment_party_trade.head()"
   ]
  },
  {
   "cell_type": "code",
   "execution_count": null,
   "metadata": {},
   "outputs": [],
   "source": [
    "activity_payment_party_trade = activity_payment_party_trade.fillna(0)"
   ]
  },
  {
   "cell_type": "markdown",
   "metadata": {},
   "source": [
    "### 각 주의 trade 물품 횟수"
   ]
  },
  {
   "cell_type": "code",
   "execution_count": null,
   "metadata": {
    "scrolled": false
   },
   "outputs": [],
   "source": [
    "trade8 = trade6[[\"acc_id\", \"week\", \"item_type\", \"item_amount\"]]\n",
    "trade8 = trade8.groupby([\"acc_id\",\"week\",\"item_type\"]).count().reset_index()\n",
    "trade8.head(15)"
   ]
  },
  {
   "cell_type": "code",
   "execution_count": null,
   "metadata": {},
   "outputs": [],
   "source": [
    "trade8 = trade8.groupby(['acc_id','week', 'item_type'])['item_amount'].aggregate('first').unstack().reset_index().fillna(0)\n",
    "trade8 .head(15)"
   ]
  },
  {
   "cell_type": "code",
   "execution_count": null,
   "metadata": {
    "scrolled": true
   },
   "outputs": [],
   "source": [
    "activity_payment_party_trade2 = pd.merge(activity_payment_party_trade, trade8, how='left', on=['acc_id', 'week']).sort_values(by = [\"acc_id\", \"week\"])\n",
    "activity_payment_party_trade2.head()"
   ]
  },
  {
   "cell_type": "code",
   "execution_count": null,
   "metadata": {},
   "outputs": [],
   "source": [
    "col_dic = {\"accessory\" : \"trade_accessory_cnt\" ,\n",
    "           \"costume\": \"trade_costume_cnt\",\n",
    "           \"gem\": \"trade_gem_cnt\",\n",
    "           \"grocery\": \"trade_grocery_cnt\",\n",
    "           \"money\": \"trade_money_cnt\",\n",
    "           \"weapon\": \"trade_weapon_cnt\"}\n",
    "\n",
    "activity_payment_party_trade2 = activity_payment_party_trade2.rename(columns = col_dic)\n",
    "activity_payment_party_trade2 = activity_payment_party_trade2.fillna(0)"
   ]
  },
  {
   "cell_type": "markdown",
   "metadata": {},
   "source": [
    "### 각 주의 trade 물품 총합(정규화 문제)"
   ]
  },
  {
   "cell_type": "code",
   "execution_count": null,
   "metadata": {},
   "outputs": [],
   "source": [
    "trade9 = trade6[[\"acc_id\", \"week\", \"item_type\", \"item_amount\"]]\n",
    "trade9 = trade9.groupby([\"acc_id\",\"week\",\"item_type\"]).sum().reset_index()\n",
    "trade9.head(10)"
   ]
  },
  {
   "cell_type": "code",
   "execution_count": null,
   "metadata": {
    "scrolled": true
   },
   "outputs": [],
   "source": [
    "trade9 = trade9.groupby(['acc_id','week', 'item_type'])['item_amount'].aggregate('first').unstack().reset_index().fillna(0)\n",
    "trade9.head(15)"
   ]
  },
  {
   "cell_type": "code",
   "execution_count": null,
   "metadata": {},
   "outputs": [],
   "source": [
    "activity_payment_party_trade3 = pd.merge(activity_payment_party_trade2, trade9, how='left', on=['acc_id', 'week']).sort_values(by = [\"acc_id\", \"week\"])\n",
    "activity_payment_party_trade3.head()"
   ]
  },
  {
   "cell_type": "code",
   "execution_count": null,
   "metadata": {},
   "outputs": [],
   "source": [
    "col_dic = {\"accessory\" : \"trade_accessory_total\" ,\n",
    "           \"costume\": \"trade_costume_total\",\n",
    "           \"gem\": \"trade_gem_total\",\n",
    "           \"grocery\": \"trade_grocery_total\",\n",
    "           \"money\": \"trade_money_total\",\n",
    "           \"weapon\": \"trade_weapon_total\"}\n",
    "\n",
    "activity_payment_party_trade3 = activity_payment_party_trade3.rename(columns = col_dic)\n",
    "activity_payment_party_trade3 = activity_payment_party_trade3.fillna(0)"
   ]
  },
  {
   "cell_type": "code",
   "execution_count": null,
   "metadata": {},
   "outputs": [],
   "source": [
    "activity_payment_party_trade3.head(10)"
   ]
  },
  {
   "cell_type": "markdown",
   "metadata": {},
   "source": [
    "### 각 주의 trade 물품 평균(아직 추가해주지 않음- 정규화 문제)"
   ]
  },
  {
   "cell_type": "code",
   "execution_count": null,
   "metadata": {
    "scrolled": true
   },
   "outputs": [],
   "source": [
    "trade10 = trade6[[\"acc_id\", \"week\", \"item_type\", \"item_amount\"]]\n",
    "trade10 = trade10.groupby([\"acc_id\",\"week\",\"item_type\"]).mean()\n",
    "trade10.head(10)"
   ]
  },
  {
   "cell_type": "markdown",
   "metadata": {},
   "source": [
    " "
   ]
  },
  {
   "cell_type": "markdown",
   "metadata": {},
   "source": [
    "# 정규화"
   ]
  },
  {
   "cell_type": "code",
   "execution_count": null,
   "metadata": {},
   "outputs": [],
   "source": [
    "activity_payment_party_trade3.columns"
   ]
  },
  {
   "cell_type": "code",
   "execution_count": null,
   "metadata": {},
   "outputs": [],
   "source": [
    "user_vector = activity_payment_party_trade3[['acc_id', 'week','cnt_dt', 'play_time', 'npc_exp', 'npc_hongmun',\n",
    "       'quest_exp', 'quest_hongmun', 'item_hongmun', 'game_combat_time',\n",
    "       'get_money', 'duel_cnt', 'duel_win', 'partybattle_cnt',\n",
    "       'partybattle_win', 'cnt_enter_inzone_solo', 'cnt_enter_inzone_light',\n",
    "       'cnt_enter_inzone_skilled', 'cnt_enter_inzone_normal', 'cnt_enter_raid',\n",
    "       'cnt_enter_raid_light', 'cnt_enter_bam', 'cnt_clear_inzone_solo',\n",
    "       'cnt_clear_inzone_light', 'cnt_clear_inzone_skilled',\n",
    "       'cnt_clear_inzone_normal', 'cnt_clear_raid', 'cnt_clear_raid_light',\n",
    "       'cnt_clear_bam', 'normal_chat', 'whisper_chat', 'district_chat',\n",
    "       'party_chat', 'guild_chat', 'faction_chat', 'cnt_use_buffitem',\n",
    "       'gathering_cnt', 'making_cnt', 'payment_amount', 'party_count',\n",
    "       'party_time_total', 'party_time_mean', 'trade_count',\n",
    "       'trade_accessory_cnt', 'trade_costume_cnt', 'trade_gem_cnt',\n",
    "       'trade_grocery_cnt', 'trade_money_cnt', 'trade_weapon_cnt',\n",
    "       'trade_accessory_total', 'trade_costume_total', 'trade_gem_total',\n",
    "       'trade_grocery_total', 'trade_money_total', 'trade_weapon_total']].sort_values(['acc_id', 'week'])\n",
    "user_vector.head(20)"
   ]
  },
  {
   "cell_type": "code",
   "execution_count": null,
   "metadata": {},
   "outputs": [],
   "source": [
    "user_vector.isnull().any()"
   ]
  },
  {
   "cell_type": "code",
   "execution_count": null,
   "metadata": {},
   "outputs": [],
   "source": [
    "user_vector[\"cnt_dt\"] = (user_vector[\"cnt_dt\"] - user_vector[\"cnt_dt\"].mean()) / user_vector[\"cnt_dt\"].std()\n",
    "\n",
    "user_vector[\"party_count\"] = (user_vector[\"party_count\"] - user_vector[\"party_count\"].mean()) / user_vector[\"party_count\"].std()\n",
    "user_vector[\"party_time_total\"] = (user_vector[\"party_time_total\"] - user_vector[\"party_time_total\"].mean()) / user_vector[\"party_time_total\"].std()\n",
    "user_vector[\"party_time_mean\"] = (user_vector[\"party_time_mean\"] - user_vector[\"party_time_mean\"].mean()) / user_vector[\"party_time_mean\"].std()\n",
    "user_vector[\"party_time_total\"] = (user_vector[\"party_time_total\"] - user_vector[\"party_time_total\"].mean()) / user_vector[\"party_time_total\"].std()\n",
    "\n",
    "user_vector[\"trade_count\"] = (user_vector[\"trade_count\"] - user_vector[\"trade_count\"].mean()) / user_vector[\"trade_count\"].std()\n",
    "user_vector[\"trade_accessory_cnt\"] = (user_vector[\"trade_accessory_cnt\"] - user_vector[\"trade_accessory_cnt\"].mean()) / user_vector[\"trade_accessory_cnt\"].std()\n",
    "user_vector[\"trade_costume_cnt\"] = (user_vector[\"trade_costume_cnt\"] - user_vector[\"trade_costume_cnt\"].mean()) / user_vector[\"trade_costume_cnt\"].std()\n",
    "user_vector[\"trade_gem_cnt\"] = (user_vector[\"trade_gem_cnt\"] - user_vector[\"trade_gem_cnt\"].mean()) / user_vector[\"trade_gem_cnt\"].std()\n",
    "user_vector[\"trade_grocery_cnt\"] = (user_vector[\"trade_grocery_cnt\"] - user_vector[\"trade_grocery_cnt\"].mean()) / user_vector[\"trade_grocery_cnt\"].std()\n",
    "user_vector[\"trade_money_cnt\"] = (user_vector[\"trade_money_cnt\"] - user_vector[\"trade_money_cnt\"].mean()) / user_vector[\"trade_money_cnt\"].std()\n",
    "user_vector[\"trade_weapon_cnt\"] = (user_vector[\"trade_weapon_cnt\"] - user_vector[\"trade_weapon_cnt\"].mean()) / user_vector[\"trade_weapon_cnt\"].std()"
   ]
  },
  {
   "cell_type": "code",
   "execution_count": null,
   "metadata": {},
   "outputs": [],
   "source": [
    "user_vector.head()"
   ]
  },
  {
   "cell_type": "code",
   "execution_count": null,
   "metadata": {},
   "outputs": [],
   "source": [
    "user_vector.to_csv(\"user_vector_test.csv\")"
   ]
  },
  {
   "cell_type": "code",
   "execution_count": null,
   "metadata": {},
   "outputs": [],
   "source": []
  },
  {
   "cell_type": "code",
   "execution_count": null,
   "metadata": {},
   "outputs": [],
   "source": []
  },
  {
   "cell_type": "code",
   "execution_count": null,
   "metadata": {},
   "outputs": [],
   "source": []
  },
  {
   "cell_type": "code",
   "execution_count": null,
   "metadata": {},
   "outputs": [],
   "source": []
  },
  {
   "cell_type": "code",
   "execution_count": null,
   "metadata": {},
   "outputs": [],
   "source": []
  }
 ],
 "metadata": {
  "kernelspec": {
   "display_name": "Python 3",
   "language": "python",
   "name": "python3"
  },
  "language_info": {
   "codemirror_mode": {
    "name": "ipython",
    "version": 3
   },
   "file_extension": ".py",
   "mimetype": "text/x-python",
   "name": "python",
   "nbconvert_exporter": "python",
   "pygments_lexer": "ipython3",
   "version": "3.7.1"
  }
 },
 "nbformat": 4,
 "nbformat_minor": 2
}
