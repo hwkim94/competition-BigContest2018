{
 "cells": [
  {
   "cell_type": "code",
   "execution_count": null,
   "metadata": {
    "scrolled": true
   },
   "outputs": [],
   "source": [
    "import numpy as np\n",
    "import pandas as pd\n",
    "import cufflinks as cf\n",
    "\n",
    "cf.go_offline()"
   ]
  },
  {
   "cell_type": "code",
   "execution_count": null,
   "metadata": {},
   "outputs": [],
   "source": [
    "#!pip install cufflinks\n",
    "#!pip uninstall plotly -y\n",
    "#!pip install plotly==2.7.0"
   ]
  },
  {
   "cell_type": "markdown",
   "metadata": {},
   "source": [
    " "
   ]
  },
  {
   "cell_type": "code",
   "execution_count": null,
   "metadata": {},
   "outputs": [],
   "source": [
    "activity = pd.read_csv(\"train_activity.csv\")\n",
    "guild = pd.read_csv(\"train_guild.csv\")\n",
    "label = pd.read_csv(\"train_label.csv\")\n",
    "party = pd.read_csv(\"train_party.csv\")\n",
    "payment = pd.read_csv(\"train_payment2.csv\")\n",
    "trade = pd.read_csv(\"train_trade.csv\")"
   ]
  },
  {
   "cell_type": "code",
   "execution_count": null,
   "metadata": {},
   "outputs": [],
   "source": [
    "activity = activity.drop(\"Unnamed: 0\", axis=1)\n",
    "\n",
    "print(len(activity))\n",
    "activity.head()"
   ]
  },
  {
   "cell_type": "code",
   "execution_count": null,
   "metadata": {},
   "outputs": [],
   "source": [
    "guild = guild.drop(\"Unnamed: 0\", axis=1)\n",
    "\n",
    "print(len(guild))\n",
    "guild.head()"
   ]
  },
  {
   "cell_type": "code",
   "execution_count": null,
   "metadata": {},
   "outputs": [],
   "source": [
    "label = label.drop(\"Unnamed: 0\", axis=1)\n",
    "label.head()"
   ]
  },
  {
   "cell_type": "code",
   "execution_count": null,
   "metadata": {},
   "outputs": [],
   "source": [
    "party = party.drop(\"Unnamed: 0\", axis=1)\n",
    "\n",
    "print(len(party))\n",
    "party.head()"
   ]
  },
  {
   "cell_type": "code",
   "execution_count": null,
   "metadata": {},
   "outputs": [],
   "source": [
    "print(len(payment))\n",
    "payment.head()"
   ]
  },
  {
   "cell_type": "code",
   "execution_count": null,
   "metadata": {},
   "outputs": [],
   "source": [
    "trade = trade.drop(\"Unnamed: 0\", axis=1)\n",
    "\n",
    "print(len(trade))\n",
    "trade.head()"
   ]
  },
  {
   "cell_type": "markdown",
   "metadata": {},
   "source": [
    " <br></br> <br></br> <br></br>"
   ]
  },
  {
   "cell_type": "markdown",
   "metadata": {},
   "source": [
    "# EDA"
   ]
  },
  {
   "cell_type": "markdown",
   "metadata": {},
   "source": [
    "## label\n",
    "- label들의 분포"
   ]
  },
  {
   "cell_type": "code",
   "execution_count": null,
   "metadata": {
    "scrolled": false
   },
   "outputs": [],
   "source": [
    "print(len(label))\n",
    "label.groupby([\"label\"]).count()"
   ]
  },
  {
   "cell_type": "code",
   "execution_count": null,
   "metadata": {},
   "outputs": [],
   "source": [
    "label.sort_values(by=\"acc_id\").head()"
   ]
  },
  {
   "cell_type": "markdown",
   "metadata": {},
   "source": [
    "## guild\n",
    "- 유저가 가입하는 길드의 수의 분포"
   ]
  },
  {
   "cell_type": "code",
   "execution_count": null,
   "metadata": {
    "scrolled": true
   },
   "outputs": [],
   "source": [
    "guild2 = guild.groupby([\"guild_member_acc_id\"]).count().sort_values(by=['guild_id'], ascending=False)\n",
    "\n",
    "print(len(guild2))\n",
    "guild2.head(10)"
   ]
  },
  {
   "cell_type": "code",
   "execution_count": null,
   "metadata": {},
   "outputs": [],
   "source": [
    "guild2.reset_index().groupby(\"guild_id\").count().iplot(kind=\"bar\")"
   ]
  },
  {
   "cell_type": "code",
   "execution_count": null,
   "metadata": {
    "scrolled": true
   },
   "outputs": [],
   "source": [
    "temp = sorted(list(guild.groupby('guild_member_acc_id')['guild_id'].apply(lambda x: sorted(list(x)))), key = lambda x : len(x), reverse = True)\n",
    "pd.DataFrame(temp).head()"
   ]
  },
  {
   "cell_type": "markdown",
   "metadata": {},
   "source": [
    "## party\n",
    "- 유저가 party를 맺는 수의 분포\n",
    "- 각 파티의 유지시간 분포\n",
    "- 파티를 맺는 시간의 분포\n",
    "- 파티가 생겼던 날짜의 분포"
   ]
  },
  {
   "cell_type": "code",
   "execution_count": null,
   "metadata": {},
   "outputs": [],
   "source": [
    "print(len(party.groupby([\"hashed\"]).count()))"
   ]
  },
  {
   "cell_type": "code",
   "execution_count": null,
   "metadata": {
    "scrolled": false
   },
   "outputs": [],
   "source": [
    "party.sort_values(by=\"hashed\").head()"
   ]
  },
  {
   "cell_type": "code",
   "execution_count": null,
   "metadata": {
    "scrolled": false
   },
   "outputs": [],
   "source": [
    "party2 = party.groupby(\"hashed\")[\"party_end_day\"].count().to_frame()\n",
    "party2.reset_index().groupby(\"party_end_day\").count().iplot(kind=\"bar\")"
   ]
  },
  {
   "cell_type": "code",
   "execution_count": null,
   "metadata": {
    "scrolled": false
   },
   "outputs": [],
   "source": [
    "party3 = party.copy().drop(18848044)\n",
    "party3[\"time\"] = party3[\"party_end_week\"]*7*24*60 \\\n",
    "                 +party3[\"party_end_day\"]*24*60 \\\n",
    "                 +party3[\"party_end_time\"].map(lambda x : int(x.split(\":\")[0]))*60 \\\n",
    "                 +party3[\"party_end_time\"].map(lambda x : int(x.split(\":\")[1])) \\\n",
    "                 -party3[\"party_start_week\"]*7*24*60 \\\n",
    "                 -party3[\"party_start_day\"]*24*60 \\\n",
    "                 -party3[\"party_start_time\"].map(lambda x : int(x.split(\":\")[0]))*60 \\\n",
    "                 -party3[\"party_start_time\"].map(lambda x : int(x.split(\":\")[1])) \\"
   ]
  },
  {
   "cell_type": "code",
   "execution_count": null,
   "metadata": {},
   "outputs": [],
   "source": [
    "party3.sort_values(by=\"hashed\").head()"
   ]
  },
  {
   "cell_type": "code",
   "execution_count": null,
   "metadata": {
    "scrolled": false
   },
   "outputs": [],
   "source": [
    "party3.groupby(\"time\")[[\"hashed\"]].count().iplot(kind=\"bar\")"
   ]
  },
  {
   "cell_type": "code",
   "execution_count": null,
   "metadata": {},
   "outputs": [],
   "source": [
    "party4 = party.copy().drop(18848044)\n",
    "party4[\"start_time\"] = party4[\"party_start_time\"].map(lambda x : int(x.split(\":\")[0]))\n",
    "party4[\"end_time\"] = party4[\"party_end_time\"].map(lambda x : int(x.split(\":\")[0]))"
   ]
  },
  {
   "cell_type": "code",
   "execution_count": null,
   "metadata": {},
   "outputs": [],
   "source": [
    "party4.groupby(\"start_time\")[[\"hashed\"]].count().iplot(kind=\"bar\")\n",
    "party4.groupby(\"end_time\")[[\"hashed\"]].count().iplot(kind=\"bar\")"
   ]
  },
  {
   "cell_type": "code",
   "execution_count": null,
   "metadata": {
    "scrolled": false
   },
   "outputs": [],
   "source": [
    "party4[\"new_day\"] = party4[\"party_start_week\"]*7+party4[\"party_start_day\"]\n",
    "party4.groupby(\"new_day\")[[\"hashed\"]].count().iplot(kind=\"bar\")"
   ]
  },
  {
   "cell_type": "code",
   "execution_count": null,
   "metadata": {
    "scrolled": false
   },
   "outputs": [],
   "source": [
    "party4.groupby(\"party_start_week\")[\"hashed\"].count().iplot(kind=\"bar\")\n",
    "party4.groupby(\"party_start_day\")[\"hashed\"].count().iplot(kind=\"bar\")"
   ]
  },
  {
   "cell_type": "markdown",
   "metadata": {},
   "source": [
    "## payment\n",
    "- 각 주별로 충전의 분포\n",
    "- 총 충전의 분포(정규화가 되어있어서 사용 불가)"
   ]
  },
  {
   "cell_type": "code",
   "execution_count": null,
   "metadata": {
    "scrolled": true
   },
   "outputs": [],
   "source": [
    "payment.head()"
   ]
  },
  {
   "cell_type": "code",
   "execution_count": null,
   "metadata": {
    "scrolled": true
   },
   "outputs": [],
   "source": [
    "for idx in range(1,9) :\n",
    "    payment.groupby(str(idx))[[\"acc_id\"]].count().iplot(kind=\"bar\")"
   ]
  },
  {
   "cell_type": "markdown",
   "metadata": {},
   "source": [
    "## trade\n",
    "- 거래를 걸어본 수의 분포\n",
    "- 거래 신청을 받아본 수의 분포\n",
    "- 총 거래 수의 분포(생략)\n",
    "- 거래 물품의 분포\n",
    "- 거래 시간의 분포\n",
    "- 거래 날짜의 분포"
   ]
  },
  {
   "cell_type": "code",
   "execution_count": null,
   "metadata": {
    "scrolled": true
   },
   "outputs": [],
   "source": [
    "print(len(trade.groupby([\"source_acc_id\"]).count()))"
   ]
  },
  {
   "cell_type": "code",
   "execution_count": null,
   "metadata": {
    "scrolled": false
   },
   "outputs": [],
   "source": [
    "trade.groupby(\"source_acc_id\")[[\"target_acc_id\"]].count().reset_index().groupby(\"target_acc_id\").count().iplot(kind=\"bar\")\n",
    "trade.groupby(\"target_acc_id\")[[\"source_acc_id\"]].count().reset_index().groupby(\"source_acc_id\").count().iplot(kind=\"bar\")"
   ]
  },
  {
   "cell_type": "code",
   "execution_count": null,
   "metadata": {},
   "outputs": [],
   "source": [
    "trade.groupby(\"item_type\")[[\"source_acc_id\"]].count().iplot(kind=\"bar\")"
   ]
  },
  {
   "cell_type": "code",
   "execution_count": null,
   "metadata": {},
   "outputs": [],
   "source": [
    "trade2 = trade.copy()\n",
    "trade2[\"trade_time\"] = trade2[\"trade_time\"].map(lambda x : int(x.split(\":\")[0]))\n",
    "\n",
    "trade2.groupby(\"trade_time\")[\"source_acc_id\"].count().iplot(kind=\"bar\")"
   ]
  },
  {
   "cell_type": "code",
   "execution_count": null,
   "metadata": {
    "scrolled": true
   },
   "outputs": [],
   "source": [
    "trade2[\"new_day\"] = trade2[\"trade_week\"]*7 + trade2[\"trade_day\"]\n",
    "trade2.groupby(\"new_day\")[\"source_acc_id\"].count().iplot(kind=\"bar\")"
   ]
  },
  {
   "cell_type": "code",
   "execution_count": null,
   "metadata": {},
   "outputs": [],
   "source": [
    "trade2.groupby(\"trade_week\")[\"source_acc_id\"].count().iplot(kind=\"bar\")\n",
    "trade2.groupby(\"trade_day\")[\"source_acc_id\"].count().iplot(kind=\"bar\")"
   ]
  },
  {
   "cell_type": "markdown",
   "metadata": {},
   "source": [
    "## activity\n",
    "- 유저가 총 접속한 횟수\n",
    "- 각 주별 접속한 유저의 수\n",
    "- 다른 col의 각 주별 분포\n",
    "\n",
    "- 다른 col의 총 합계의 분포(정규화때문에 불가)"
   ]
  },
  {
   "cell_type": "code",
   "execution_count": null,
   "metadata": {},
   "outputs": [],
   "source": [
    "pd.set_option('display.max_rows', 100)\n",
    "pd.set_option('display.max_columns', 100)"
   ]
  },
  {
   "cell_type": "code",
   "execution_count": null,
   "metadata": {},
   "outputs": [],
   "source": [
    "print(len(activity.groupby([\"acc_id\"]).count()))\n",
    "activity.head()"
   ]
  },
  {
   "cell_type": "code",
   "execution_count": null,
   "metadata": {},
   "outputs": [],
   "source": [
    "activity.groupby(\"wk\")[[\"acc_id\"]].count().iplot(kind=\"bar\")"
   ]
  },
  {
   "cell_type": "code",
   "execution_count": null,
   "metadata": {},
   "outputs": [],
   "source": [
    "activity.groupby(\"acc_id\")[['cnt_dt']].sum().reset_index().groupby(\"cnt_dt\")[\"acc_id\"].count().iplot(kind=\"bar\")"
   ]
  },
  {
   "cell_type": "code",
   "execution_count": null,
   "metadata": {},
   "outputs": [],
   "source": [
    "cols = ['cnt_dt', 'play_time', 'npc_exp', 'npc_hongmun', 'quest_exp', 'quest_hongmun', 'item_hongmun', \n",
    "       'game_combat_time', 'get_money', 'duel_cnt', 'duel_win', 'partybattle_cnt', 'partybattle_win', 'cnt_enter_inzone_solo', \n",
    "       'cnt_enter_inzone_light', 'cnt_enter_inzone_skilled', 'cnt_enter_inzone_normal', 'cnt_enter_raid', 'cnt_enter_raid_light', \n",
    "       'cnt_enter_bam', 'cnt_clear_inzone_solo', 'cnt_clear_inzone_light', 'cnt_clear_inzone_skilled', 'cnt_clear_inzone_normal', \n",
    "       'cnt_clear_raid', 'cnt_clear_raid_light', 'cnt_clear_bam', 'normal_chat', 'whisper_chat', 'district_chat', 'party_chat', \n",
    "       'guild_chat', 'faction_chat', 'cnt_use_buffitem', 'gathering_cnt', 'making_cnt']"
   ]
  },
  {
   "cell_type": "code",
   "execution_count": null,
   "metadata": {
    "scrolled": true
   },
   "outputs": [],
   "source": [
    "for col in cols :\n",
    "    activity[activity[\"wk\"]==1].groupby(col)[['acc_id']].count().iplot(kind=\"bar\", title=col, dimensions=(400, 400))"
   ]
  },
  {
   "cell_type": "code",
   "execution_count": null,
   "metadata": {},
   "outputs": [],
   "source": [
    "for col in cols :\n",
    "    activity[activity[\"wk\"]==2].groupby(col)[['acc_id']].count().iplot(kind=\"bar\", title=col, dimensions=(400, 400))"
   ]
  },
  {
   "cell_type": "code",
   "execution_count": null,
   "metadata": {},
   "outputs": [],
   "source": [
    "for col in cols :\n",
    "    activity[activity[\"wk\"]==3].groupby(col)[['acc_id']].count().iplot(kind=\"bar\", title=col, dimensions=(400, 400))"
   ]
  },
  {
   "cell_type": "code",
   "execution_count": null,
   "metadata": {},
   "outputs": [],
   "source": [
    "for col in cols :\n",
    "    activity[activity[\"wk\"]==4].groupby(col)[['acc_id']].count().iplot(kind=\"bar\", title=col, dimensions=(400, 400))"
   ]
  },
  {
   "cell_type": "code",
   "execution_count": null,
   "metadata": {},
   "outputs": [],
   "source": [
    "for col in cols :\n",
    "    activity[activity[\"wk\"]==5].groupby(col)[['acc_id']].count().iplot(kind=\"bar\", title=col, dimensions=(400, 400))"
   ]
  },
  {
   "cell_type": "code",
   "execution_count": null,
   "metadata": {},
   "outputs": [],
   "source": [
    "for col in cols :\n",
    "    activity[activity[\"wk\"]==6].groupby(col)[['acc_id']].count().iplot(kind=\"bar\", title=col, dimensions=(400, 400))"
   ]
  },
  {
   "cell_type": "code",
   "execution_count": null,
   "metadata": {},
   "outputs": [],
   "source": [
    "for col in cols :\n",
    "    activity[activity[\"wk\"]==7].groupby(col)[['acc_id']].count().iplot(kind=\"bar\", title=col, dimensions=(400, 400))"
   ]
  },
  {
   "cell_type": "code",
   "execution_count": null,
   "metadata": {
    "scrolled": true
   },
   "outputs": [],
   "source": [
    "for col in cols :\n",
    "    activity[activity[\"wk\"]==8].groupby(col)[['acc_id']].count().iplot(kind=\"bar\", title=col, dimensions=(400, 400))"
   ]
  },
  {
   "cell_type": "code",
   "execution_count": null,
   "metadata": {},
   "outputs": [],
   "source": []
  },
  {
   "cell_type": "code",
   "execution_count": null,
   "metadata": {},
   "outputs": [],
   "source": []
  },
  {
   "cell_type": "code",
   "execution_count": null,
   "metadata": {},
   "outputs": [],
   "source": []
  },
  {
   "cell_type": "code",
   "execution_count": null,
   "metadata": {},
   "outputs": [],
   "source": []
  },
  {
   "cell_type": "code",
   "execution_count": null,
   "metadata": {},
   "outputs": [],
   "source": []
  },
  {
   "cell_type": "code",
   "execution_count": null,
   "metadata": {},
   "outputs": [],
   "source": []
  },
  {
   "cell_type": "code",
   "execution_count": null,
   "metadata": {},
   "outputs": [],
   "source": []
  },
  {
   "cell_type": "code",
   "execution_count": null,
   "metadata": {},
   "outputs": [],
   "source": []
  },
  {
   "cell_type": "code",
   "execution_count": null,
   "metadata": {},
   "outputs": [],
   "source": []
  },
  {
   "cell_type": "code",
   "execution_count": null,
   "metadata": {},
   "outputs": [],
   "source": []
  },
  {
   "cell_type": "code",
   "execution_count": null,
   "metadata": {},
   "outputs": [],
   "source": []
  },
  {
   "cell_type": "code",
   "execution_count": null,
   "metadata": {},
   "outputs": [],
   "source": []
  }
 ],
 "metadata": {
  "kernelspec": {
   "display_name": "Python 3",
   "language": "python",
   "name": "python3"
  },
  "language_info": {
   "codemirror_mode": {
    "name": "ipython",
    "version": 3
   },
   "file_extension": ".py",
   "mimetype": "text/x-python",
   "name": "python",
   "nbconvert_exporter": "python",
   "pygments_lexer": "ipython3",
   "version": "3.7.1"
  }
 },
 "nbformat": 4,
 "nbformat_minor": 2
}
